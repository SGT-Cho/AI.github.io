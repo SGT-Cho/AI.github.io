{
 "cells": [
  {
   "cell_type": "code",
   "execution_count": 1,
   "metadata": {},
   "outputs": [],
   "source": [
    "import pandas as pd\n",
    "from tensorflow.keras.preprocessing.text import Tokenizer\n",
    "from tensorflow.keras.preprocessing.sequence import pad_sequences\n",
    "from tensorflow.keras.utils import to_categorical\n",
    "import numpy as np\n",
    "import os\n",
    "import matplotlib.pyplot as plt"
   ]
  },
  {
   "cell_type": "code",
   "execution_count": 2,
   "metadata": {},
   "outputs": [
    {
     "data": {
      "text/plain": [
       "\"\\nfile_path = os.path.realpath('D:/AiffelNode/Project/GD7/translator_seq2seq/data/fra.txt')\\nlines = pd.read_csv(file_path, names=['eng', 'fra', 'cc'], sep='\\t')\\nprint('전체 샘플의 수 :',len(lines))\\nlines.sample(5) #샘플 5개 출력\\n\""
      ]
     },
     "execution_count": 2,
     "metadata": {},
     "output_type": "execute_result"
    }
   ],
   "source": [
    "\"\"\"\n",
    "file_path = os.path.realpath('D:/AiffelNode/Project/GD7/translator_seq2seq/data/fra.txt')\n",
    "lines = pd.read_csv(file_path, names=['eng', 'fra', 'cc'], sep='\\t')\n",
    "print('전체 샘플의 수 :',len(lines))\n",
    "lines.sample(5) #샘플 5개 출력\n",
    "\"\"\""
   ]
  },
  {
   "cell_type": "code",
   "execution_count": 3,
   "metadata": {},
   "outputs": [
    {
     "data": {
      "text/plain": [
       "\"\\nlines = lines[['eng', 'fra']][:50000] # 5만개 샘플 사용\\nlines.sample(5)\\n\""
      ]
     },
     "execution_count": 3,
     "metadata": {},
     "output_type": "execute_result"
    }
   ],
   "source": [
    "\"\"\"\n",
    "lines = lines[['eng', 'fra']][:50000] # 5만개 샘플 사용\n",
    "lines.sample(5)\n",
    "\"\"\""
   ]
  },
  {
   "cell_type": "code",
   "execution_count": 4,
   "metadata": {},
   "outputs": [
    {
     "data": {
      "text/plain": [
       "\"\\n# 시작 토큰과 종료 토큰 추가\\nsos_token = '\\t'\\neos_token = '\\n'\\nlines.fra = lines.fra.apply(lambda x : '\\t '+ x + ' \\n')\\nprint('전체 샘플의 수 :',len(lines))\\nlines.sample(5)\\n\""
      ]
     },
     "execution_count": 4,
     "metadata": {},
     "output_type": "execute_result"
    }
   ],
   "source": [
    "\"\"\"\n",
    "# 시작 토큰과 종료 토큰 추가\n",
    "sos_token = '\\t'\n",
    "eos_token = '\\n'\n",
    "lines.fra = lines.fra.apply(lambda x : '\\t '+ x + ' \\n')\n",
    "print('전체 샘플의 수 :',len(lines))\n",
    "lines.sample(5)\n",
    "\"\"\""
   ]
  },
  {
   "cell_type": "code",
   "execution_count": 5,
   "metadata": {},
   "outputs": [
    {
     "data": {
      "text/plain": [
       "'\\neng_tokenizer = Tokenizer(char_level=True)   # 문자 단위로 Tokenizer를 생성합니다. \\neng_tokenizer.fit_on_texts(lines.eng)               # 50000개의 행을 가진 eng의 각 행에 토큰화를 수행\\ninput_text = eng_tokenizer.texts_to_sequences(lines.eng)    # 단어를 숫자값 인덱스로 변환하여 저장\\ninput_text[:3]\\n'"
      ]
     },
     "execution_count": 5,
     "metadata": {},
     "output_type": "execute_result"
    }
   ],
   "source": [
    "\"\"\"\n",
    "eng_tokenizer = Tokenizer(char_level=True)   # 문자 단위로 Tokenizer를 생성합니다. \n",
    "eng_tokenizer.fit_on_texts(lines.eng)               # 50000개의 행을 가진 eng의 각 행에 토큰화를 수행\n",
    "input_text = eng_tokenizer.texts_to_sequences(lines.eng)    # 단어를 숫자값 인덱스로 변환하여 저장\n",
    "input_text[:3]\n",
    "\"\"\""
   ]
  },
  {
   "cell_type": "code",
   "execution_count": 6,
   "metadata": {},
   "outputs": [
    {
     "data": {
      "text/plain": [
       "'\\nfra_tokenizer = Tokenizer(char_level=True)   # 문자 단위로 Tokenizer를 생성합니다. \\nfra_tokenizer.fit_on_texts(lines.fra)                 # 50000개의 행을 가진 fra의 각 행에 토큰화를 수행\\ntarget_text = fra_tokenizer.texts_to_sequences(lines.fra)     # 단어를 숫자값 인덱스로 변환하여 저장\\ntarget_text[:3]\\n'"
      ]
     },
     "execution_count": 6,
     "metadata": {},
     "output_type": "execute_result"
    }
   ],
   "source": [
    "\"\"\"\n",
    "fra_tokenizer = Tokenizer(char_level=True)   # 문자 단위로 Tokenizer를 생성합니다. \n",
    "fra_tokenizer.fit_on_texts(lines.fra)                 # 50000개의 행을 가진 fra의 각 행에 토큰화를 수행\n",
    "target_text = fra_tokenizer.texts_to_sequences(lines.fra)     # 단어를 숫자값 인덱스로 변환하여 저장\n",
    "target_text[:3]\n",
    "\"\"\""
   ]
  },
  {
   "cell_type": "code",
   "execution_count": 7,
   "metadata": {},
   "outputs": [
    {
     "data": {
      "text/plain": [
       "\"\\neng_vocab_size = len(eng_tokenizer.word_index) + 1\\nfra_vocab_size = len(fra_tokenizer.word_index) + 1\\nprint('영어 단어장의 크기 :', eng_vocab_size)\\nprint('프랑스어 단어장의 크기 :', fra_vocab_size)\\n\""
      ]
     },
     "execution_count": 7,
     "metadata": {},
     "output_type": "execute_result"
    }
   ],
   "source": [
    "\"\"\"\n",
    "eng_vocab_size = len(eng_tokenizer.word_index) + 1\n",
    "fra_vocab_size = len(fra_tokenizer.word_index) + 1\n",
    "print('영어 단어장의 크기 :', eng_vocab_size)\n",
    "print('프랑스어 단어장의 크기 :', fra_vocab_size)\n",
    "\"\"\""
   ]
  },
  {
   "cell_type": "code",
   "execution_count": 8,
   "metadata": {},
   "outputs": [
    {
     "data": {
      "text/plain": [
       "\"\\nmax_eng_seq_len = max([len(line) for line in input_text])\\nmax_fra_seq_len = max([len(line) for line in target_text])\\nprint('영어 시퀀스의 최대 길이', max_eng_seq_len)\\nprint('프랑스어 시퀀스의 최대 길이', max_fra_seq_len)\\n\""
      ]
     },
     "execution_count": 8,
     "metadata": {},
     "output_type": "execute_result"
    }
   ],
   "source": [
    "\"\"\"\n",
    "max_eng_seq_len = max([len(line) for line in input_text])\n",
    "max_fra_seq_len = max([len(line) for line in target_text])\n",
    "print('영어 시퀀스의 최대 길이', max_eng_seq_len)\n",
    "print('프랑스어 시퀀스의 최대 길이', max_fra_seq_len)\n",
    "\"\"\""
   ]
  },
  {
   "cell_type": "code",
   "execution_count": 9,
   "metadata": {},
   "outputs": [
    {
     "data": {
      "text/plain": [
       "\"\\nprint('전체 샘플의 수 :',len(lines))\\nprint('영어 단어장의 크기 :', eng_vocab_size)\\nprint('프랑스어 단어장의 크기 :', fra_vocab_size)\\nprint('영어 시퀀스의 최대 길이', max_eng_seq_len)\\nprint('프랑스어 시퀀스의 최대 길이', max_fra_seq_len)\\n\""
      ]
     },
     "execution_count": 9,
     "metadata": {},
     "output_type": "execute_result"
    }
   ],
   "source": [
    "\"\"\"\n",
    "print('전체 샘플의 수 :',len(lines))\n",
    "print('영어 단어장의 크기 :', eng_vocab_size)\n",
    "print('프랑스어 단어장의 크기 :', fra_vocab_size)\n",
    "print('영어 시퀀스의 최대 길이', max_eng_seq_len)\n",
    "print('프랑스어 시퀀스의 최대 길이', max_fra_seq_len)\n",
    "\"\"\""
   ]
  },
  {
   "cell_type": "code",
   "execution_count": 10,
   "metadata": {},
   "outputs": [
    {
     "data": {
      "text/plain": [
       "'\\nencoder_input = input_text\\n# 종료 토큰 제거\\ndecoder_input = [[ char for char in line if char != fra_tokenizer.word_index[eos_token] ] for line in target_text] \\n# 시작 토큰 제거\\ndecoder_target = [[ char for char in line if char != fra_tokenizer.word_index[sos_token] ] for line in target_text]\\n'"
      ]
     },
     "execution_count": 10,
     "metadata": {},
     "output_type": "execute_result"
    }
   ],
   "source": [
    "\"\"\"\n",
    "encoder_input = input_text\n",
    "# 종료 토큰 제거\n",
    "decoder_input = [[ char for char in line if char != fra_tokenizer.word_index[eos_token] ] for line in target_text] \n",
    "# 시작 토큰 제거\n",
    "decoder_target = [[ char for char in line if char != fra_tokenizer.word_index[sos_token] ] for line in target_text]\n",
    "\"\"\""
   ]
  },
  {
   "cell_type": "code",
   "execution_count": 11,
   "metadata": {},
   "outputs": [
    {
     "data": {
      "text/plain": [
       "'\\nprint(decoder_input[:3])\\nprint(decoder_target[:3])\\n'"
      ]
     },
     "execution_count": 11,
     "metadata": {},
     "output_type": "execute_result"
    }
   ],
   "source": [
    "\"\"\"\n",
    "print(decoder_input[:3])\n",
    "print(decoder_target[:3])\n",
    "\"\"\""
   ]
  },
  {
   "cell_type": "code",
   "execution_count": 12,
   "metadata": {},
   "outputs": [
    {
     "data": {
      "text/plain": [
       "\"\\nencoder_input = pad_sequences(encoder_input, maxlen = max_eng_seq_len, padding='post')\\ndecoder_input = pad_sequences(decoder_input, maxlen = max_fra_seq_len, padding='post')\\ndecoder_target = pad_sequences(decoder_target, maxlen = max_fra_seq_len, padding='post')\\nprint('영어 데이터의 크기(shape) :',np.shape(encoder_input))\\nprint('프랑스어 입력데이터의 크기(shape) :',np.shape(decoder_input))\\nprint('프랑스어 출력데이터의 크기(shape) :',np.shape(decoder_target))\\n\""
      ]
     },
     "execution_count": 12,
     "metadata": {},
     "output_type": "execute_result"
    }
   ],
   "source": [
    "\"\"\"\n",
    "encoder_input = pad_sequences(encoder_input, maxlen = max_eng_seq_len, padding='post')\n",
    "decoder_input = pad_sequences(decoder_input, maxlen = max_fra_seq_len, padding='post')\n",
    "decoder_target = pad_sequences(decoder_target, maxlen = max_fra_seq_len, padding='post')\n",
    "print('영어 데이터의 크기(shape) :',np.shape(encoder_input))\n",
    "print('프랑스어 입력데이터의 크기(shape) :',np.shape(decoder_input))\n",
    "print('프랑스어 출력데이터의 크기(shape) :',np.shape(decoder_target))\n",
    "\"\"\""
   ]
  },
  {
   "cell_type": "code",
   "execution_count": 13,
   "metadata": {},
   "outputs": [],
   "source": [
    "#print(encoder_input[0])"
   ]
  },
  {
   "cell_type": "code",
   "execution_count": 14,
   "metadata": {},
   "outputs": [
    {
     "data": {
      "text/plain": [
       "\"\\nencoder_input = to_categorical(encoder_input)\\ndecoder_input = to_categorical(decoder_input)\\ndecoder_target = to_categorical(decoder_target)\\nprint('영어 데이터의 크기(shape) :',np.shape(encoder_input))\\nprint('프랑스어 입력데이터의 크기(shape) :',np.shape(decoder_input))\\nprint('프랑스어 출력데이터의 크기(shape) :',np.shape(decoder_target))\\n\""
      ]
     },
     "execution_count": 14,
     "metadata": {},
     "output_type": "execute_result"
    }
   ],
   "source": [
    "\"\"\"\n",
    "encoder_input = to_categorical(encoder_input)\n",
    "decoder_input = to_categorical(decoder_input)\n",
    "decoder_target = to_categorical(decoder_target)\n",
    "print('영어 데이터의 크기(shape) :',np.shape(encoder_input))\n",
    "print('프랑스어 입력데이터의 크기(shape) :',np.shape(decoder_input))\n",
    "print('프랑스어 출력데이터의 크기(shape) :',np.shape(decoder_target))\n",
    "\"\"\""
   ]
  },
  {
   "cell_type": "code",
   "execution_count": 15,
   "metadata": {},
   "outputs": [
    {
     "data": {
      "text/plain": [
       "\"\\nn_of_val = 3000\\n\\nencoder_input_train = encoder_input[:-n_of_val]\\ndecoder_input_train = decoder_input[:-n_of_val]\\ndecoder_target_train = decoder_target[:-n_of_val]\\n\\nencoder_input_test = encoder_input[-n_of_val:]\\ndecoder_input_test = decoder_input[-n_of_val:]\\ndecoder_target_test = decoder_target[-n_of_val:]\\n\\nprint('영어 학습데이터의 크기(shape) :',np.shape(encoder_input))\\nprint('프랑스어 학습 입력데이터의 크기(shape) :',np.shape(decoder_input))\\nprint('프랑스어 학습 출력데이터의 크기(shape) :',np.shape(decoder_target))\\n\""
      ]
     },
     "execution_count": 15,
     "metadata": {},
     "output_type": "execute_result"
    }
   ],
   "source": [
    "\"\"\"\n",
    "n_of_val = 3000\n",
    "\n",
    "encoder_input_train = encoder_input[:-n_of_val]\n",
    "decoder_input_train = decoder_input[:-n_of_val]\n",
    "decoder_target_train = decoder_target[:-n_of_val]\n",
    "\n",
    "encoder_input_test = encoder_input[-n_of_val:]\n",
    "decoder_input_test = decoder_input[-n_of_val:]\n",
    "decoder_target_test = decoder_target[-n_of_val:]\n",
    "\n",
    "print('영어 학습데이터의 크기(shape) :',np.shape(encoder_input))\n",
    "print('프랑스어 학습 입력데이터의 크기(shape) :',np.shape(decoder_input))\n",
    "print('프랑스어 학습 출력데이터의 크기(shape) :',np.shape(decoder_target))\n",
    "\"\"\""
   ]
  },
  {
   "cell_type": "code",
   "execution_count": 16,
   "metadata": {},
   "outputs": [
    {
     "data": {
      "text/plain": [
       "'\\n# 입력 텐서 생성.\\nencoder_inputs = Input(shape=(None, eng_vocab_size))\\n# hidden size가 256인 인코더의 LSTM 셀 생성\\nencoder_lstm = LSTM(units = 256, return_state = True)\\n# 디코더로 전달할 hidden state, cell state를 리턴. encoder_outputs은 여기서는 불필요.\\nencoder_outputs, state_h, state_c = encoder_lstm(encoder_inputs)\\n# hidden state와 cell state를 다음 time step으로 전달하기 위해서 별도 저장.\\nencoder_states = [state_h, state_c]\\n'"
      ]
     },
     "execution_count": 16,
     "metadata": {},
     "output_type": "execute_result"
    }
   ],
   "source": [
    "\"\"\"\n",
    "# 입력 텐서 생성.\n",
    "encoder_inputs = Input(shape=(None, eng_vocab_size))\n",
    "# hidden size가 256인 인코더의 LSTM 셀 생성\n",
    "encoder_lstm = LSTM(units = 256, return_state = True)\n",
    "# 디코더로 전달할 hidden state, cell state를 리턴. encoder_outputs은 여기서는 불필요.\n",
    "encoder_outputs, state_h, state_c = encoder_lstm(encoder_inputs)\n",
    "# hidden state와 cell state를 다음 time step으로 전달하기 위해서 별도 저장.\n",
    "encoder_states = [state_h, state_c]\n",
    "\"\"\""
   ]
  },
  {
   "cell_type": "code",
   "execution_count": 17,
   "metadata": {},
   "outputs": [
    {
     "data": {
      "text/plain": [
       "'\\n# 입력 텐서 생성.\\ndecoder_inputs = Input(shape=(None, fra_vocab_size))\\n# hidden size가 256인 인코더의 LSTM 셀 생성\\ndecoder_lstm = LSTM(units = 256, return_sequences = True, return_state=True)\\n# decoder_outputs는 모든 time step의 hidden state\\ndecoder_outputs, _, _= decoder_lstm(decoder_inputs, initial_state = encoder_states)\\n'"
      ]
     },
     "execution_count": 17,
     "metadata": {},
     "output_type": "execute_result"
    }
   ],
   "source": [
    "\"\"\"\n",
    "# 입력 텐서 생성.\n",
    "decoder_inputs = Input(shape=(None, fra_vocab_size))\n",
    "# hidden size가 256인 인코더의 LSTM 셀 생성\n",
    "decoder_lstm = LSTM(units = 256, return_sequences = True, return_state=True)\n",
    "# decoder_outputs는 모든 time step의 hidden state\n",
    "decoder_outputs, _, _= decoder_lstm(decoder_inputs, initial_state = encoder_states)\n",
    "\"\"\""
   ]
  },
  {
   "cell_type": "code",
   "execution_count": 18,
   "metadata": {},
   "outputs": [
    {
     "data": {
      "text/plain": [
       "\"\\ndecoder_softmax_layer = Dense(fra_vocab_size, activation='softmax')\\ndecoder_outputs = decoder_softmax_layer(decoder_outputs)\\n\""
      ]
     },
     "execution_count": 18,
     "metadata": {},
     "output_type": "execute_result"
    }
   ],
   "source": [
    "\"\"\"\n",
    "decoder_softmax_layer = Dense(fra_vocab_size, activation='softmax')\n",
    "decoder_outputs = decoder_softmax_layer(decoder_outputs)\n",
    "\"\"\""
   ]
  },
  {
   "cell_type": "code",
   "execution_count": 19,
   "metadata": {},
   "outputs": [
    {
     "data": {
      "text/plain": [
       "'\\nmodel = Model([encoder_inputs, decoder_inputs], decoder_outputs)\\nmodel.compile(optimizer=\"rmsprop\", loss=\"categorical_crossentropy\")\\nmodel.summary()\\n'"
      ]
     },
     "execution_count": 19,
     "metadata": {},
     "output_type": "execute_result"
    }
   ],
   "source": [
    "\"\"\"\n",
    "model = Model([encoder_inputs, decoder_inputs], decoder_outputs)\n",
    "model.compile(optimizer=\"rmsprop\", loss=\"categorical_crossentropy\")\n",
    "model.summary()\n",
    "\"\"\""
   ]
  },
  {
   "cell_type": "code",
   "execution_count": 20,
   "metadata": {},
   "outputs": [
    {
     "data": {
      "text/plain": [
       "'\\nmodel.fit(x=[encoder_input_train, decoder_input_train], y=decoder_target_train,           validation_data = ([encoder_input_test, decoder_input_test], decoder_target_test),\\n          batch_size=128, epochs=50)\\n'"
      ]
     },
     "execution_count": 20,
     "metadata": {},
     "output_type": "execute_result"
    }
   ],
   "source": [
    "\"\"\"\n",
    "model.fit(x=[encoder_input_train, decoder_input_train], y=decoder_target_train, \\\n",
    "          validation_data = ([encoder_input_test, decoder_input_test], decoder_target_test),\n",
    "          batch_size=128, epochs=50)\n",
    "\"\"\""
   ]
  },
  {
   "cell_type": "code",
   "execution_count": 21,
   "metadata": {},
   "outputs": [
    {
     "data": {
      "text/plain": [
       "'\\nencoder_model = Model(inputs = encoder_inputs, outputs = encoder_states)\\nencoder_model.summary()\\n'"
      ]
     },
     "execution_count": 21,
     "metadata": {},
     "output_type": "execute_result"
    }
   ],
   "source": [
    "\"\"\"\n",
    "encoder_model = Model(inputs = encoder_inputs, outputs = encoder_states)\n",
    "encoder_model.summary()\n",
    "\"\"\""
   ]
  },
  {
   "cell_type": "code",
   "execution_count": 22,
   "metadata": {},
   "outputs": [
    {
     "data": {
      "text/plain": [
       "'\\n# 이전 time step의 hidden state를 저장하는 텐서\\ndecoder_state_input_h = Input(shape=(256,))\\n# 이전 time step의 cell state를 저장하는 텐서\\ndecoder_state_input_c = Input(shape=(256,))\\n# 이전 time step의 hidden state와 cell state를 하나의 변수에 저장\\ndecoder_states_inputs = [decoder_state_input_h, decoder_state_input_c]\\n\\n# decoder_states_inputs를 현재 time step의 초기 상태로 사용.\\n# 구체적인 동작 자체는 def decode_sequence()에 구현.\\ndecoder_outputs, state_h, state_c = decoder_lstm(decoder_inputs, initial_state = decoder_states_inputs)\\n# 현재 time step의 hidden state와 cell state를 하나의 변수에 저장.\\ndecoder_states = [state_h, state_c]\\n'"
      ]
     },
     "execution_count": 22,
     "metadata": {},
     "output_type": "execute_result"
    }
   ],
   "source": [
    "\"\"\"\n",
    "# 이전 time step의 hidden state를 저장하는 텐서\n",
    "decoder_state_input_h = Input(shape=(256,))\n",
    "# 이전 time step의 cell state를 저장하는 텐서\n",
    "decoder_state_input_c = Input(shape=(256,))\n",
    "# 이전 time step의 hidden state와 cell state를 하나의 변수에 저장\n",
    "decoder_states_inputs = [decoder_state_input_h, decoder_state_input_c]\n",
    "\n",
    "# decoder_states_inputs를 현재 time step의 초기 상태로 사용.\n",
    "# 구체적인 동작 자체는 def decode_sequence()에 구현.\n",
    "decoder_outputs, state_h, state_c = decoder_lstm(decoder_inputs, initial_state = decoder_states_inputs)\n",
    "# 현재 time step의 hidden state와 cell state를 하나의 변수에 저장.\n",
    "decoder_states = [state_h, state_c]\n",
    "\"\"\""
   ]
  },
  {
   "cell_type": "code",
   "execution_count": 23,
   "metadata": {},
   "outputs": [
    {
     "data": {
      "text/plain": [
       "'\\ndecoder_outputs = decoder_softmax_layer(decoder_outputs)\\ndecoder_model = Model(inputs=[decoder_inputs] + decoder_states_inputs, outputs=[decoder_outputs] + decoder_states)\\ndecoder_model.summary()\\n'"
      ]
     },
     "execution_count": 23,
     "metadata": {},
     "output_type": "execute_result"
    }
   ],
   "source": [
    "\"\"\"\n",
    "decoder_outputs = decoder_softmax_layer(decoder_outputs)\n",
    "decoder_model = Model(inputs=[decoder_inputs] + decoder_states_inputs, outputs=[decoder_outputs] + decoder_states)\n",
    "decoder_model.summary()\n",
    "\"\"\""
   ]
  },
  {
   "cell_type": "code",
   "execution_count": 24,
   "metadata": {},
   "outputs": [
    {
     "data": {
      "text/plain": [
       "'\\neng2idx = eng_tokenizer.word_index\\nfra2idx = fra_tokenizer.word_index\\nidx2eng = eng_tokenizer.index_word\\nidx2fra = fra_tokenizer.index_word\\n'"
      ]
     },
     "execution_count": 24,
     "metadata": {},
     "output_type": "execute_result"
    }
   ],
   "source": [
    "\"\"\"\n",
    "eng2idx = eng_tokenizer.word_index\n",
    "fra2idx = fra_tokenizer.word_index\n",
    "idx2eng = eng_tokenizer.index_word\n",
    "idx2fra = fra_tokenizer.index_word\n",
    "\"\"\""
   ]
  },
  {
   "cell_type": "code",
   "execution_count": 25,
   "metadata": {},
   "outputs": [
    {
     "data": {
      "text/plain": [
       "'\\ndef decode_sequence(input_seq):\\n    # 입력으로부터 인코더의 상태를 얻음\\n    states_value = encoder_model.predict(input_seq)\\n\\n    # <SOS>에 해당하는 원-핫 벡터 생성\\n    target_seq = np.zeros((1, 1, fra_vocab_size))\\n    target_seq[0, 0, fra2idx[\\'\\t\\']] = 1.\\n\\n    stop_condition = False\\n    decoded_sentence = \"\"\\n\\n    # stop_condition이 True가 될 때까지 루프 반복\\n    while not stop_condition:\\n        # 이점 시점의 상태 states_value를 현 시점의 초기 상태로 사용\\n        output_tokens, h, c = decoder_model.predict([target_seq] + states_value)\\n\\n        # 예측 결과를 문자로 변환\\n        sampled_token_index = np.argmax(output_tokens[0, -1, :])\\n        sampled_char = idx2fra[sampled_token_index]\\n\\n        # 현재 시점의 예측 문자를 예측 문장에 추가\\n        decoded_sentence += sampled_char\\n\\n        # <eos>에 도달하거나 최대 길이를 넘으면 중단.\\n        if (sampled_char == \\'\\n\\' or\\n           len(decoded_sentence) > max_fra_seq_len):\\n            stop_condition = True\\n\\n        # 현재 시점의 예측 결과를 다음 시점의 입력으로 사용하기 위해 저장\\n        target_seq = np.zeros((1, 1, fra_vocab_size))\\n        target_seq[0, 0, sampled_token_index] = 1.\\n\\n        # 현재 시점의 상태를 다음 시점의 상태로 사용하기 위해 저장\\n        states_value = [h, c]\\n\\n    return decoded_sentence\\n'"
      ]
     },
     "execution_count": 25,
     "metadata": {},
     "output_type": "execute_result"
    }
   ],
   "source": [
    "\"\"\"\n",
    "def decode_sequence(input_seq):\n",
    "    # 입력으로부터 인코더의 상태를 얻음\n",
    "    states_value = encoder_model.predict(input_seq)\n",
    "\n",
    "    # <SOS>에 해당하는 원-핫 벡터 생성\n",
    "    target_seq = np.zeros((1, 1, fra_vocab_size))\n",
    "    target_seq[0, 0, fra2idx['\\t']] = 1.\n",
    "\n",
    "    stop_condition = False\n",
    "    decoded_sentence = \"\"\n",
    "\n",
    "    # stop_condition이 True가 될 때까지 루프 반복\n",
    "    while not stop_condition:\n",
    "        # 이점 시점의 상태 states_value를 현 시점의 초기 상태로 사용\n",
    "        output_tokens, h, c = decoder_model.predict([target_seq] + states_value)\n",
    "\n",
    "        # 예측 결과를 문자로 변환\n",
    "        sampled_token_index = np.argmax(output_tokens[0, -1, :])\n",
    "        sampled_char = idx2fra[sampled_token_index]\n",
    "\n",
    "        # 현재 시점의 예측 문자를 예측 문장에 추가\n",
    "        decoded_sentence += sampled_char\n",
    "\n",
    "        # <eos>에 도달하거나 최대 길이를 넘으면 중단.\n",
    "        if (sampled_char == '\\n' or\n",
    "           len(decoded_sentence) > max_fra_seq_len):\n",
    "            stop_condition = True\n",
    "\n",
    "        # 현재 시점의 예측 결과를 다음 시점의 입력으로 사용하기 위해 저장\n",
    "        target_seq = np.zeros((1, 1, fra_vocab_size))\n",
    "        target_seq[0, 0, sampled_token_index] = 1.\n",
    "\n",
    "        # 현재 시점의 상태를 다음 시점의 상태로 사용하기 위해 저장\n",
    "        states_value = [h, c]\n",
    "\n",
    "    return decoded_sentence\n",
    "\"\"\""
   ]
  },
  {
   "cell_type": "code",
   "execution_count": 26,
   "metadata": {},
   "outputs": [
    {
     "data": {
      "text/plain": [
       "'\\nfor seq_index in [3,50,100,300,1001]: # 입력 문장의 인덱스 (자유롭게 선택해 보세요)\\n    input_seq = encoder_input[seq_index: seq_index + 1]\\n    decoded_sentence = decode_sequence(input_seq)\\n    print(35 * \"-\")\\n    print(\\'입력 문장:\\', lines.eng[seq_index])\\n    print(\\'정답 문장:\\', lines.fra[seq_index][1:len(lines.fra[seq_index])-1]) # \\'\\t\\'와 \\'\\n\\'을 빼고 출력\\n    print(\\'번역기가 번역한 문장:\\', decoded_sentence[:len(decoded_sentence)-1]) # \\'\\n\\'을 빼고 출력\\n'"
      ]
     },
     "execution_count": 26,
     "metadata": {},
     "output_type": "execute_result"
    }
   ],
   "source": [
    "\"\"\"\n",
    "for seq_index in [3,50,100,300,1001]: # 입력 문장의 인덱스 (자유롭게 선택해 보세요)\n",
    "    input_seq = encoder_input[seq_index: seq_index + 1]\n",
    "    decoded_sentence = decode_sequence(input_seq)\n",
    "    print(35 * \"-\")\n",
    "    print('입력 문장:', lines.eng[seq_index])\n",
    "    print('정답 문장:', lines.fra[seq_index][1:len(lines.fra[seq_index])-1]) # '\\t'와 '\\n'을 빼고 출력\n",
    "    print('번역기가 번역한 문장:', decoded_sentence[:len(decoded_sentence)-1]) # '\\n'을 빼고 출력\n",
    "\"\"\""
   ]
  },
  {
   "cell_type": "code",
   "execution_count": 27,
   "metadata": {},
   "outputs": [
    {
     "name": "stdout",
     "output_type": "stream",
     "text": [
      "2.10.1\n"
     ]
    }
   ],
   "source": [
    "import tensorflow\n",
    "\n",
    "print(tensorflow.__version__)"
   ]
  },
  {
   "cell_type": "code",
   "execution_count": 28,
   "metadata": {},
   "outputs": [
    {
     "data": {
      "text/plain": [
       "'\\ndef preprocess_sentence(sentence):\\n    sentence = sentence.lower().strip() # 1\\n    sentence = re.sub(r\"([?.!,¿])\", r\" \\x01 \", sentence) # 2\\n    sentence = re.sub(r\\'[\" \"]+\\', \" \", sentence) # 3\\n    sentence = re.sub(r\"[^a-zA-Z?.!,¿]+\", \" \", sentence) # 4\\n    sentence = sentence.strip() # 5\\n    sentence = \\'<start> \\' + sentence + \\' <end>\\' # 6\\n    return sentence\\n\\n# 이 문장이 어떻게 필터링되는지 확인해 보세요.\\nprint(preprocess_sentence(\"This @_is ;;;sample        sentence.\"))\\n'"
      ]
     },
     "execution_count": 28,
     "metadata": {},
     "output_type": "execute_result"
    }
   ],
   "source": [
    "import re\n",
    "import unicodedata\n",
    "import urllib3\n",
    "\n",
    "num_samples = 50000\n",
    "# 입력된 문장을\n",
    "#     1. 소문자로 바꾸고, 양쪽 공백을 지웁니다\n",
    "#     2. 특수문자 양쪽에 공백을 넣고\n",
    "#     3. 여러개의 공백은 하나의 공백으로 바꿉니다\n",
    "#     4. a-zA-Z?.!,¿가 아닌 모든 문자를 하나의 공백으로 바꿉니다\n",
    "#     5. 다시 양쪽 공백을 지웁니다\n",
    "#     6. 문장 시작에는 <start>, 끝에는 <end>를 추가합니다\n",
    "# 이 순서로 처리해주면 문제가 되는 상황을 방지할 수 있겠네요!\n",
    "\"\"\"\n",
    "def preprocess_sentence(sentence):\n",
    "    sentence = sentence.lower().strip() # 1\n",
    "    sentence = re.sub(r\"([?.!,¿])\", r\" \\1 \", sentence) # 2\n",
    "    sentence = re.sub(r'[\" \"]+', \" \", sentence) # 3\n",
    "    sentence = re.sub(r\"[^a-zA-Z?.!,¿]+\", \" \", sentence) # 4\n",
    "    sentence = sentence.strip() # 5\n",
    "    sentence = '<start> ' + sentence + ' <end>' # 6\n",
    "    return sentence\n",
    "\n",
    "# 이 문장이 어떻게 필터링되는지 확인해 보세요.\n",
    "print(preprocess_sentence(\"This @_is ;;;sample        sentence.\"))\n",
    "\"\"\""
   ]
  },
  {
   "cell_type": "code",
   "execution_count": 29,
   "metadata": {},
   "outputs": [],
   "source": [
    "def to_ascii(s):\n",
    "  # 프랑스어 악센트(accent) 삭제\n",
    "  # 예시 : 'déjà diné' -> deja dine\n",
    "  return ''.join(c for c in unicodedata.normalize('NFD', s)\n",
    "                   if unicodedata.category(c) != 'Mn')\n",
    "  \n",
    "  \n",
    "def preprocess_sentence(sent):\n",
    "  # 악센트 제거 함수 호출\n",
    "  sent = to_ascii(sent.lower())\n",
    "\n",
    "  # 단어와 구두점 사이에 공백 추가.\n",
    "  # ex) \"I am a student.\" => \"I am a student .\"\n",
    "  sent = re.sub(r\"([?.!,¿])\", r\" \\1\", sent)\n",
    "\n",
    "  # (a-z, A-Z, \".\", \"?\", \"!\", \",\") 이들을 제외하고는 전부 공백으로 변환.\n",
    "  sent = re.sub(r\"[^a-zA-Z!.?]+\", r\" \", sent)\n",
    "\n",
    "  # 다수 개의 공백을 하나의 공백으로 치환\n",
    "  sent = re.sub(r\"\\s+\", \" \", sent)\n",
    "  return sent"
   ]
  },
  {
   "cell_type": "code",
   "execution_count": 30,
   "metadata": {},
   "outputs": [],
   "source": [
    "file_path = os.path.realpath('D:/AiffelNode/Project/GD7/translator_seq2seq/data/fra.txt')\n",
    "def load_preprocessed_data():\n",
    "  encoder_input, decoder_input, decoder_target = [], [], []\n",
    "\n",
    "  with open(file_path, \"r\") as lines:\n",
    "    for i, line in enumerate(lines):\n",
    "      # source 데이터와 target 데이터 분리\n",
    "      src_line, tar_line, _ = line.strip().split('\\t')\n",
    "\n",
    "      # source 데이터 전처리\n",
    "      src_line = [w for w in preprocess_sentence(src_line).split()]\n",
    "\n",
    "      # target 데이터 전처리\n",
    "      tar_line = preprocess_sentence(tar_line)\n",
    "      tar_line_in = [w for w in (\"<sos> \" + tar_line).split()]\n",
    "      tar_line_out = [w for w in (tar_line + \" <eos>\").split()]\n",
    "\n",
    "      encoder_input.append(src_line)\n",
    "      decoder_input.append(tar_line_in)\n",
    "      decoder_target.append(tar_line_out)\n",
    "\n",
    "      if i == num_samples - 1:\n",
    "        break\n",
    "\n",
    "  return encoder_input, decoder_input, decoder_target"
   ]
  },
  {
   "cell_type": "code",
   "execution_count": 31,
   "metadata": {},
   "outputs": [],
   "source": [
    "sents_en_in, sents_fra_in, sents_fra_out = load_preprocessed_data()"
   ]
  },
  {
   "cell_type": "code",
   "execution_count": 32,
   "metadata": {},
   "outputs": [],
   "source": [
    "tokenizer_en = Tokenizer(filters=\"\", lower=False)\n",
    "tokenizer_en.fit_on_texts(sents_en_in)\n",
    "encoder_input = tokenizer_en.texts_to_sequences(sents_en_in)\n",
    "encoder_input = pad_sequences(encoder_input, padding=\"post\")\n",
    "\n",
    "tokenizer_fra = Tokenizer(filters=\"\", lower=False)\n",
    "tokenizer_fra.fit_on_texts(sents_fra_in)\n",
    "tokenizer_fra.fit_on_texts(sents_fra_out)\n",
    "\n",
    "decoder_input = tokenizer_fra.texts_to_sequences(sents_fra_in)\n",
    "decoder_input = pad_sequences(decoder_input, padding=\"post\")\n",
    "\n",
    "decoder_target = tokenizer_fra.texts_to_sequences(sents_fra_out)\n",
    "decoder_target = pad_sequences(decoder_target, padding=\"post\")"
   ]
  },
  {
   "cell_type": "code",
   "execution_count": 33,
   "metadata": {},
   "outputs": [
    {
     "name": "stdout",
     "output_type": "stream",
     "text": [
      "인코더의 입력의 크기(shape) : (50000, 8)\n",
      "디코더의 입력의 크기(shape) : (50000, 17)\n",
      "디코더의 레이블의 크기(shape) : (50000, 17)\n"
     ]
    }
   ],
   "source": [
    "print('인코더의 입력의 크기(shape) :',encoder_input.shape)\n",
    "print('디코더의 입력의 크기(shape) :',decoder_input.shape)\n",
    "print('디코더의 레이블의 크기(shape) :',decoder_target.shape)"
   ]
  },
  {
   "cell_type": "code",
   "execution_count": 34,
   "metadata": {},
   "outputs": [
    {
     "name": "stdout",
     "output_type": "stream",
     "text": [
      "영어 단어 집합의 크기 : 5921, 프랑스어 단어 집합의 크기 : 10140\n"
     ]
    }
   ],
   "source": [
    "src_vocab_size = len(tokenizer_en.word_index) + 1\n",
    "tar_vocab_size = len(tokenizer_fra.word_index) + 1\n",
    "print(\"영어 단어 집합의 크기 : {:d}, 프랑스어 단어 집합의 크기 : {:d}\".format(src_vocab_size, tar_vocab_size))"
   ]
  },
  {
   "cell_type": "code",
   "execution_count": 35,
   "metadata": {},
   "outputs": [],
   "source": [
    "src_to_index = tokenizer_en.word_index\n",
    "index_to_src = tokenizer_en.index_word\n",
    "tar_to_index = tokenizer_fra.word_index\n",
    "index_to_tar = tokenizer_fra.index_word"
   ]
  },
  {
   "cell_type": "code",
   "execution_count": 36,
   "metadata": {},
   "outputs": [
    {
     "name": "stdout",
     "output_type": "stream",
     "text": [
      "랜덤 시퀀스 : [18518 13609  6210 ...  3645  3443 17096]\n"
     ]
    }
   ],
   "source": [
    "indices = np.arange(encoder_input.shape[0])\n",
    "np.random.shuffle(indices)\n",
    "print('랜덤 시퀀스 :',indices)"
   ]
  },
  {
   "cell_type": "code",
   "execution_count": 37,
   "metadata": {},
   "outputs": [],
   "source": [
    "encoder_input = encoder_input[indices]\n",
    "decoder_input = decoder_input[indices]\n",
    "decoder_target = decoder_target[indices]"
   ]
  },
  {
   "cell_type": "code",
   "execution_count": 38,
   "metadata": {},
   "outputs": [
    {
     "data": {
      "text/plain": [
       "array([720,   1,   0,   0,   0,   0,   0,   0])"
      ]
     },
     "execution_count": 38,
     "metadata": {},
     "output_type": "execute_result"
    }
   ],
   "source": [
    "encoder_input[30997]"
   ]
  },
  {
   "cell_type": "code",
   "execution_count": 39,
   "metadata": {},
   "outputs": [
    {
     "data": {
      "text/plain": [
       "array([   2, 1256,   14,    0,    0,    0,    0,    0,    0,    0,    0,\n",
       "          0,    0,    0,    0,    0,    0])"
      ]
     },
     "execution_count": 39,
     "metadata": {},
     "output_type": "execute_result"
    }
   ],
   "source": [
    "decoder_input[30997]"
   ]
  },
  {
   "cell_type": "code",
   "execution_count": 40,
   "metadata": {},
   "outputs": [
    {
     "data": {
      "text/plain": [
       "array([1256,   14,    3,    0,    0,    0,    0,    0,    0,    0,    0,\n",
       "          0,    0,    0,    0,    0,    0])"
      ]
     },
     "execution_count": 40,
     "metadata": {},
     "output_type": "execute_result"
    }
   ],
   "source": [
    "decoder_target[30997]"
   ]
  },
  {
   "cell_type": "code",
   "execution_count": 41,
   "metadata": {},
   "outputs": [
    {
     "name": "stdout",
     "output_type": "stream",
     "text": [
      "검증 데이터의 개수 : 5000\n"
     ]
    }
   ],
   "source": [
    "n_of_val = int(num_samples*0.1)\n",
    "print('검증 데이터의 개수 :',n_of_val)"
   ]
  },
  {
   "cell_type": "code",
   "execution_count": 42,
   "metadata": {},
   "outputs": [],
   "source": [
    "encoder_input_train = encoder_input[:-n_of_val]\n",
    "decoder_input_train = decoder_input[:-n_of_val]\n",
    "decoder_target_train = decoder_target[:-n_of_val]\n",
    "\n",
    "encoder_input_test = encoder_input[-n_of_val:]\n",
    "decoder_input_test = decoder_input[-n_of_val:]\n",
    "decoder_target_test = decoder_target[-n_of_val:]"
   ]
  },
  {
   "cell_type": "code",
   "execution_count": 43,
   "metadata": {},
   "outputs": [
    {
     "name": "stdout",
     "output_type": "stream",
     "text": [
      "훈련 source 데이터의 크기 : (45000, 8)\n",
      "훈련 target 데이터의 크기 : (45000, 17)\n",
      "훈련 target 레이블의 크기 : (45000, 17)\n",
      "테스트 source 데이터의 크기 : (5000, 8)\n",
      "테스트 target 데이터의 크기 : (5000, 17)\n",
      "테스트 target 레이블의 크기 : (5000, 17)\n"
     ]
    }
   ],
   "source": [
    "print('훈련 source 데이터의 크기 :',encoder_input_train.shape)\n",
    "print('훈련 target 데이터의 크기 :',decoder_input_train.shape)\n",
    "print('훈련 target 레이블의 크기 :',decoder_target_train.shape)\n",
    "print('테스트 source 데이터의 크기 :',encoder_input_test.shape)\n",
    "print('테스트 target 데이터의 크기 :',decoder_input_test.shape)\n",
    "print('테스트 target 레이블의 크기 :',decoder_target_test.shape)"
   ]
  },
  {
   "cell_type": "code",
   "execution_count": 44,
   "metadata": {},
   "outputs": [],
   "source": [
    "from tensorflow.keras.layers import Input, LSTM, Embedding, Dense, Masking\n",
    "from tensorflow.keras.models import Model"
   ]
  },
  {
   "cell_type": "code",
   "execution_count": 45,
   "metadata": {},
   "outputs": [],
   "source": [
    "embedding_dim = 64\n",
    "hidden_units = 64"
   ]
  },
  {
   "cell_type": "code",
   "execution_count": 46,
   "metadata": {},
   "outputs": [],
   "source": [
    "# 인코더\n",
    "encoder_inputs = Input(shape=(None,))\n",
    "enc_emb = Embedding(src_vocab_size, embedding_dim)(encoder_inputs) # 임베딩 층\n",
    "enc_masking = Masking(mask_value=0.0)(enc_emb) # 패딩 0은 연산에서 제외\n",
    "encoder_lstm = LSTM(hidden_units, return_state=True) # 상태값 리턴을 위해 return_state는 True\n",
    "encoder_outputs, state_h, state_c = encoder_lstm(enc_masking) # 은닉 상태와 셀 상태를 리턴\n",
    "encoder_states = [state_h, state_c] # 인코더의 은닉 상태와 셀 상태를 저장"
   ]
  },
  {
   "cell_type": "code",
   "execution_count": 47,
   "metadata": {},
   "outputs": [],
   "source": [
    "# 디코더\n",
    "decoder_inputs = Input(shape=(None,))\n",
    "dec_emb_layer = Embedding(tar_vocab_size, hidden_units) # 임베딩 층\n",
    "dec_emb = dec_emb_layer(decoder_inputs) # 패딩 0은 연산에서 제외\n",
    "dec_masking = Masking(mask_value=0.0)(dec_emb)\n",
    "\n",
    "# 상태값 리턴을 위해 return_state는 True, 모든 시점에 대해서 단어를 예측하기 위해 return_sequences는 True\n",
    "decoder_lstm = LSTM(hidden_units, return_sequences=True, return_state=True) \n",
    "\n",
    "# 인코더의 은닉 상태를 초기 은닉 상태(initial_state)로 사용\n",
    "decoder_outputs, _, _ = decoder_lstm(dec_masking,\n",
    "                                     initial_state=encoder_states)\n",
    "\n",
    "# 모든 시점의 결과에 대해서 소프트맥스 함수를 사용한 출력층을 통해 단어 예측\n",
    "decoder_dense = Dense(tar_vocab_size, activation='softmax')\n",
    "decoder_outputs = decoder_dense(decoder_outputs)\n",
    "\n",
    "# 모델의 입력과 출력을 정의.\n",
    "model = Model([encoder_inputs, decoder_inputs], decoder_outputs)\n",
    "\n",
    "model.compile(optimizer='adam', loss='sparse_categorical_crossentropy', metrics=['acc'])"
   ]
  },
  {
   "cell_type": "code",
   "execution_count": 48,
   "metadata": {},
   "outputs": [
    {
     "name": "stdout",
     "output_type": "stream",
     "text": [
      "Epoch 1/200\n",
      "352/352 [==============================] - 24s 33ms/step - loss: 2.9295 - acc: 0.6250 - val_loss: 1.8765 - val_acc: 0.6903\n",
      "Epoch 2/200\n",
      "352/352 [==============================] - 10s 27ms/step - loss: 1.7249 - acc: 0.7337 - val_loss: 1.6325 - val_acc: 0.7484\n",
      "Epoch 3/200\n",
      "352/352 [==============================] - 9s 26ms/step - loss: 1.5337 - acc: 0.7554 - val_loss: 1.4872 - val_acc: 0.7603\n",
      "Epoch 4/200\n",
      "352/352 [==============================] - 9s 26ms/step - loss: 1.4102 - acc: 0.7715 - val_loss: 1.3805 - val_acc: 0.7788\n",
      "Epoch 5/200\n",
      "352/352 [==============================] - 9s 25ms/step - loss: 1.3030 - acc: 0.7925 - val_loss: 1.2913 - val_acc: 0.7959\n",
      "Epoch 6/200\n",
      "352/352 [==============================] - 9s 24ms/step - loss: 1.2135 - acc: 0.8048 - val_loss: 1.2158 - val_acc: 0.8076\n",
      "Epoch 7/200\n",
      "352/352 [==============================] - 8s 23ms/step - loss: 1.1384 - acc: 0.8141 - val_loss: 1.1570 - val_acc: 0.8139\n",
      "Epoch 8/200\n",
      "352/352 [==============================] - 9s 25ms/step - loss: 1.0730 - acc: 0.8216 - val_loss: 1.1058 - val_acc: 0.8211\n",
      "Epoch 9/200\n",
      "352/352 [==============================] - 9s 26ms/step - loss: 1.0142 - acc: 0.8286 - val_loss: 1.0600 - val_acc: 0.8262\n",
      "Epoch 10/200\n",
      "352/352 [==============================] - 9s 25ms/step - loss: 0.9615 - acc: 0.8349 - val_loss: 1.0234 - val_acc: 0.8306\n",
      "Epoch 11/200\n",
      "352/352 [==============================] - 9s 27ms/step - loss: 0.9155 - acc: 0.8400 - val_loss: 0.9913 - val_acc: 0.8336\n",
      "Epoch 12/200\n",
      "352/352 [==============================] - 9s 25ms/step - loss: 0.8744 - acc: 0.8443 - val_loss: 0.9633 - val_acc: 0.8370\n",
      "Epoch 13/200\n",
      "352/352 [==============================] - 8s 24ms/step - loss: 0.8375 - acc: 0.8479 - val_loss: 0.9383 - val_acc: 0.8394\n",
      "Epoch 14/200\n",
      "352/352 [==============================] - 8s 24ms/step - loss: 0.8032 - acc: 0.8514 - val_loss: 0.9152 - val_acc: 0.8420\n",
      "Epoch 15/200\n",
      "352/352 [==============================] - 9s 27ms/step - loss: 0.7710 - acc: 0.8546 - val_loss: 0.8968 - val_acc: 0.8431\n",
      "Epoch 16/200\n",
      "352/352 [==============================] - 9s 26ms/step - loss: 0.7407 - acc: 0.8577 - val_loss: 0.8768 - val_acc: 0.8462\n",
      "Epoch 17/200\n",
      "352/352 [==============================] - 9s 26ms/step - loss: 0.7127 - acc: 0.8608 - val_loss: 0.8603 - val_acc: 0.8479\n",
      "Epoch 18/200\n",
      "352/352 [==============================] - 9s 26ms/step - loss: 0.6856 - acc: 0.8641 - val_loss: 0.8455 - val_acc: 0.8488\n",
      "Epoch 19/200\n",
      "352/352 [==============================] - 9s 26ms/step - loss: 0.6599 - acc: 0.8672 - val_loss: 0.8308 - val_acc: 0.8515\n",
      "Epoch 20/200\n",
      "352/352 [==============================] - 9s 26ms/step - loss: 0.6356 - acc: 0.8701 - val_loss: 0.8182 - val_acc: 0.8533\n",
      "Epoch 21/200\n",
      "352/352 [==============================] - 9s 25ms/step - loss: 0.6127 - acc: 0.8729 - val_loss: 0.8070 - val_acc: 0.8545\n",
      "Epoch 22/200\n",
      "352/352 [==============================] - 9s 26ms/step - loss: 0.5908 - acc: 0.8760 - val_loss: 0.7963 - val_acc: 0.8564\n",
      "Epoch 23/200\n",
      "352/352 [==============================] - 10s 28ms/step - loss: 0.5696 - acc: 0.8789 - val_loss: 0.7868 - val_acc: 0.8568\n",
      "Epoch 24/200\n",
      "352/352 [==============================] - 10s 29ms/step - loss: 0.5495 - acc: 0.8815 - val_loss: 0.7763 - val_acc: 0.8583\n",
      "Epoch 25/200\n",
      "352/352 [==============================] - 10s 29ms/step - loss: 0.5301 - acc: 0.8843 - val_loss: 0.7661 - val_acc: 0.8598\n",
      "Epoch 26/200\n",
      "352/352 [==============================] - 10s 29ms/step - loss: 0.5114 - acc: 0.8871 - val_loss: 0.7607 - val_acc: 0.8603\n",
      "Epoch 27/200\n",
      "352/352 [==============================] - 10s 29ms/step - loss: 0.4938 - acc: 0.8901 - val_loss: 0.7526 - val_acc: 0.8618\n",
      "Epoch 28/200\n",
      "352/352 [==============================] - 10s 28ms/step - loss: 0.4773 - acc: 0.8926 - val_loss: 0.7485 - val_acc: 0.8626\n",
      "Epoch 29/200\n",
      "352/352 [==============================] - 10s 27ms/step - loss: 0.4616 - acc: 0.8950 - val_loss: 0.7416 - val_acc: 0.8637\n",
      "Epoch 30/200\n",
      "352/352 [==============================] - 10s 28ms/step - loss: 0.4464 - acc: 0.8980 - val_loss: 0.7355 - val_acc: 0.8644\n",
      "Epoch 31/200\n",
      "352/352 [==============================] - 10s 27ms/step - loss: 0.4322 - acc: 0.9003 - val_loss: 0.7303 - val_acc: 0.8660\n",
      "Epoch 32/200\n",
      "352/352 [==============================] - 10s 27ms/step - loss: 0.4187 - acc: 0.9029 - val_loss: 0.7267 - val_acc: 0.8659\n",
      "Epoch 33/200\n",
      "352/352 [==============================] - 10s 27ms/step - loss: 0.4060 - acc: 0.9050 - val_loss: 0.7244 - val_acc: 0.8664\n",
      "Epoch 34/200\n",
      "352/352 [==============================] - 9s 27ms/step - loss: 0.3936 - acc: 0.9070 - val_loss: 0.7190 - val_acc: 0.8685\n",
      "Epoch 35/200\n",
      "352/352 [==============================] - 10s 27ms/step - loss: 0.3821 - acc: 0.9094 - val_loss: 0.7175 - val_acc: 0.8687\n",
      "Epoch 36/200\n",
      "352/352 [==============================] - 10s 27ms/step - loss: 0.3709 - acc: 0.9114 - val_loss: 0.7143 - val_acc: 0.8693\n",
      "Epoch 37/200\n",
      "352/352 [==============================] - 10s 27ms/step - loss: 0.3604 - acc: 0.9135 - val_loss: 0.7119 - val_acc: 0.8699\n",
      "Epoch 38/200\n",
      "352/352 [==============================] - 10s 27ms/step - loss: 0.3504 - acc: 0.9155 - val_loss: 0.7098 - val_acc: 0.8703\n",
      "Epoch 39/200\n",
      "352/352 [==============================] - 9s 27ms/step - loss: 0.3412 - acc: 0.9172 - val_loss: 0.7085 - val_acc: 0.8713\n",
      "Epoch 40/200\n",
      "352/352 [==============================] - 10s 27ms/step - loss: 0.3323 - acc: 0.9189 - val_loss: 0.7091 - val_acc: 0.8719\n",
      "Epoch 41/200\n",
      "352/352 [==============================] - 10s 27ms/step - loss: 0.3235 - acc: 0.9208 - val_loss: 0.7051 - val_acc: 0.8726\n",
      "Epoch 42/200\n",
      "352/352 [==============================] - 10s 27ms/step - loss: 0.3154 - acc: 0.9226 - val_loss: 0.7061 - val_acc: 0.8730\n",
      "Epoch 43/200\n",
      "352/352 [==============================] - 10s 27ms/step - loss: 0.3076 - acc: 0.9239 - val_loss: 0.7054 - val_acc: 0.8730\n",
      "Epoch 44/200\n",
      "352/352 [==============================] - 9s 27ms/step - loss: 0.3002 - acc: 0.9253 - val_loss: 0.7049 - val_acc: 0.8738\n",
      "Epoch 45/200\n",
      "352/352 [==============================] - 10s 27ms/step - loss: 0.2935 - acc: 0.9266 - val_loss: 0.7056 - val_acc: 0.8742\n",
      "Epoch 46/200\n",
      "352/352 [==============================] - 10s 27ms/step - loss: 0.2865 - acc: 0.9279 - val_loss: 0.7041 - val_acc: 0.8742\n",
      "Epoch 47/200\n",
      "352/352 [==============================] - 10s 27ms/step - loss: 0.2798 - acc: 0.9294 - val_loss: 0.7044 - val_acc: 0.8748\n",
      "Epoch 48/200\n",
      "352/352 [==============================] - 10s 28ms/step - loss: 0.2740 - acc: 0.9304 - val_loss: 0.7063 - val_acc: 0.8756\n",
      "Epoch 49/200\n",
      "352/352 [==============================] - 9s 27ms/step - loss: 0.2681 - acc: 0.9315 - val_loss: 0.7052 - val_acc: 0.8751\n",
      "Epoch 50/200\n",
      "352/352 [==============================] - 10s 27ms/step - loss: 0.2625 - acc: 0.9327 - val_loss: 0.7054 - val_acc: 0.8759\n",
      "Epoch 51/200\n",
      "352/352 [==============================] - 10s 28ms/step - loss: 0.2568 - acc: 0.9336 - val_loss: 0.7068 - val_acc: 0.8759\n",
      "Epoch 52/200\n",
      "352/352 [==============================] - 10s 27ms/step - loss: 0.2521 - acc: 0.9346 - val_loss: 0.7062 - val_acc: 0.8759\n",
      "Epoch 53/200\n",
      "352/352 [==============================] - 10s 27ms/step - loss: 0.2469 - acc: 0.9356 - val_loss: 0.7080 - val_acc: 0.8766\n",
      "Epoch 54/200\n",
      "352/352 [==============================] - 10s 27ms/step - loss: 0.2420 - acc: 0.9365 - val_loss: 0.7090 - val_acc: 0.8762\n",
      "Epoch 55/200\n",
      "352/352 [==============================] - 10s 27ms/step - loss: 0.2378 - acc: 0.9372 - val_loss: 0.7108 - val_acc: 0.8770\n",
      "Epoch 56/200\n",
      "352/352 [==============================] - 10s 27ms/step - loss: 0.2333 - acc: 0.9383 - val_loss: 0.7122 - val_acc: 0.8772\n",
      "Epoch 57/200\n",
      "352/352 [==============================] - 10s 27ms/step - loss: 0.2293 - acc: 0.9390 - val_loss: 0.7140 - val_acc: 0.8766\n",
      "Epoch 58/200\n",
      "352/352 [==============================] - 10s 27ms/step - loss: 0.2250 - acc: 0.9400 - val_loss: 0.7151 - val_acc: 0.8767\n",
      "Epoch 59/200\n",
      "352/352 [==============================] - 10s 27ms/step - loss: 0.2213 - acc: 0.9406 - val_loss: 0.7144 - val_acc: 0.8776\n",
      "Epoch 60/200\n",
      "352/352 [==============================] - 10s 27ms/step - loss: 0.2174 - acc: 0.9412 - val_loss: 0.7180 - val_acc: 0.8775\n",
      "Epoch 61/200\n",
      "352/352 [==============================] - 10s 27ms/step - loss: 0.2138 - acc: 0.9420 - val_loss: 0.7176 - val_acc: 0.8777\n",
      "Epoch 62/200\n",
      "352/352 [==============================] - 10s 27ms/step - loss: 0.2103 - acc: 0.9426 - val_loss: 0.7214 - val_acc: 0.8773\n",
      "Epoch 63/200\n",
      "352/352 [==============================] - 10s 27ms/step - loss: 0.2070 - acc: 0.9433 - val_loss: 0.7225 - val_acc: 0.8775\n",
      "Epoch 64/200\n",
      "352/352 [==============================] - 9s 27ms/step - loss: 0.2036 - acc: 0.9439 - val_loss: 0.7249 - val_acc: 0.8771\n",
      "Epoch 65/200\n",
      "352/352 [==============================] - 10s 27ms/step - loss: 0.2005 - acc: 0.9446 - val_loss: 0.7261 - val_acc: 0.8775\n",
      "Epoch 66/200\n",
      "352/352 [==============================] - 10s 27ms/step - loss: 0.1977 - acc: 0.9451 - val_loss: 0.7282 - val_acc: 0.8772\n",
      "Epoch 67/200\n",
      "352/352 [==============================] - 10s 28ms/step - loss: 0.1948 - acc: 0.9456 - val_loss: 0.7297 - val_acc: 0.8778\n",
      "Epoch 68/200\n",
      "352/352 [==============================] - 10s 29ms/step - loss: 0.1917 - acc: 0.9462 - val_loss: 0.7311 - val_acc: 0.8776\n",
      "Epoch 69/200\n",
      "352/352 [==============================] - 10s 28ms/step - loss: 0.1891 - acc: 0.9467 - val_loss: 0.7336 - val_acc: 0.8775\n",
      "Epoch 70/200\n",
      "352/352 [==============================] - 10s 28ms/step - loss: 0.1865 - acc: 0.9472 - val_loss: 0.7342 - val_acc: 0.8781\n",
      "Epoch 71/200\n",
      "352/352 [==============================] - 10s 27ms/step - loss: 0.1839 - acc: 0.9478 - val_loss: 0.7373 - val_acc: 0.8777\n",
      "Epoch 72/200\n",
      "352/352 [==============================] - 10s 27ms/step - loss: 0.1814 - acc: 0.9483 - val_loss: 0.7388 - val_acc: 0.8776\n",
      "Epoch 73/200\n",
      "352/352 [==============================] - 10s 28ms/step - loss: 0.1789 - acc: 0.9487 - val_loss: 0.7436 - val_acc: 0.8772\n",
      "Epoch 74/200\n",
      "352/352 [==============================] - 9s 27ms/step - loss: 0.1762 - acc: 0.9492 - val_loss: 0.7437 - val_acc: 0.8777\n",
      "Epoch 75/200\n",
      "352/352 [==============================] - 10s 28ms/step - loss: 0.1741 - acc: 0.9497 - val_loss: 0.7454 - val_acc: 0.8780\n",
      "Epoch 76/200\n",
      "352/352 [==============================] - 10s 27ms/step - loss: 0.1719 - acc: 0.9500 - val_loss: 0.7484 - val_acc: 0.8773\n",
      "Epoch 77/200\n",
      "352/352 [==============================] - 10s 27ms/step - loss: 0.1698 - acc: 0.9505 - val_loss: 0.7499 - val_acc: 0.8783\n",
      "Epoch 78/200\n",
      "352/352 [==============================] - 10s 28ms/step - loss: 0.1677 - acc: 0.9509 - val_loss: 0.7527 - val_acc: 0.8777\n",
      "Epoch 79/200\n",
      "352/352 [==============================] - 9s 27ms/step - loss: 0.1657 - acc: 0.9512 - val_loss: 0.7535 - val_acc: 0.8779\n",
      "Epoch 80/200\n",
      "352/352 [==============================] - 10s 28ms/step - loss: 0.1637 - acc: 0.9515 - val_loss: 0.7551 - val_acc: 0.8780\n",
      "Epoch 81/200\n",
      "352/352 [==============================] - 10s 27ms/step - loss: 0.1613 - acc: 0.9520 - val_loss: 0.7580 - val_acc: 0.8775\n",
      "Epoch 82/200\n",
      "352/352 [==============================] - 10s 27ms/step - loss: 0.1597 - acc: 0.9524 - val_loss: 0.7600 - val_acc: 0.8777\n",
      "Epoch 83/200\n",
      "352/352 [==============================] - 10s 28ms/step - loss: 0.1579 - acc: 0.9529 - val_loss: 0.7622 - val_acc: 0.8770\n",
      "Epoch 84/200\n",
      "352/352 [==============================] - 10s 27ms/step - loss: 0.1565 - acc: 0.9531 - val_loss: 0.7651 - val_acc: 0.8775\n",
      "Epoch 85/200\n",
      "352/352 [==============================] - 10s 28ms/step - loss: 0.1543 - acc: 0.9535 - val_loss: 0.7670 - val_acc: 0.8775\n",
      "Epoch 86/200\n",
      "352/352 [==============================] - 10s 27ms/step - loss: 0.1526 - acc: 0.9537 - val_loss: 0.7695 - val_acc: 0.8776\n",
      "Epoch 87/200\n",
      "352/352 [==============================] - 10s 27ms/step - loss: 0.1509 - acc: 0.9541 - val_loss: 0.7726 - val_acc: 0.8772\n",
      "Epoch 88/200\n",
      "352/352 [==============================] - 10s 28ms/step - loss: 0.1496 - acc: 0.9545 - val_loss: 0.7727 - val_acc: 0.8773\n",
      "Epoch 89/200\n",
      "352/352 [==============================] - 9s 27ms/step - loss: 0.1479 - acc: 0.9547 - val_loss: 0.7763 - val_acc: 0.8776\n",
      "Epoch 90/200\n",
      "352/352 [==============================] - 10s 28ms/step - loss: 0.1462 - acc: 0.9551 - val_loss: 0.7796 - val_acc: 0.8773\n",
      "Epoch 91/200\n",
      "352/352 [==============================] - 10s 28ms/step - loss: 0.1449 - acc: 0.9552 - val_loss: 0.7808 - val_acc: 0.8772\n",
      "Epoch 92/200\n",
      "352/352 [==============================] - 10s 27ms/step - loss: 0.1432 - acc: 0.9558 - val_loss: 0.7850 - val_acc: 0.8770\n",
      "Epoch 93/200\n",
      "352/352 [==============================] - 10s 28ms/step - loss: 0.1418 - acc: 0.9559 - val_loss: 0.7854 - val_acc: 0.8776\n",
      "Epoch 94/200\n",
      "352/352 [==============================] - 10s 27ms/step - loss: 0.1405 - acc: 0.9562 - val_loss: 0.7859 - val_acc: 0.8771\n",
      "Epoch 95/200\n",
      "352/352 [==============================] - 10s 29ms/step - loss: 0.1390 - acc: 0.9565 - val_loss: 0.7879 - val_acc: 0.8775\n",
      "Epoch 96/200\n",
      "352/352 [==============================] - 10s 30ms/step - loss: 0.1380 - acc: 0.9566 - val_loss: 0.7912 - val_acc: 0.8768\n",
      "Epoch 97/200\n",
      "352/352 [==============================] - 10s 29ms/step - loss: 0.1363 - acc: 0.9569 - val_loss: 0.7941 - val_acc: 0.8770\n",
      "Epoch 98/200\n",
      "352/352 [==============================] - 10s 29ms/step - loss: 0.1353 - acc: 0.9573 - val_loss: 0.7981 - val_acc: 0.8764\n",
      "Epoch 99/200\n",
      "352/352 [==============================] - 10s 29ms/step - loss: 0.1340 - acc: 0.9574 - val_loss: 0.7988 - val_acc: 0.8766\n",
      "Epoch 100/200\n",
      "352/352 [==============================] - 10s 30ms/step - loss: 0.1329 - acc: 0.9576 - val_loss: 0.8020 - val_acc: 0.8770\n",
      "Epoch 101/200\n",
      "352/352 [==============================] - 10s 29ms/step - loss: 0.1315 - acc: 0.9579 - val_loss: 0.8043 - val_acc: 0.8764\n",
      "Epoch 102/200\n",
      "352/352 [==============================] - 10s 29ms/step - loss: 0.1303 - acc: 0.9582 - val_loss: 0.8090 - val_acc: 0.8758\n",
      "Epoch 103/200\n",
      "352/352 [==============================] - 10s 29ms/step - loss: 0.1293 - acc: 0.9583 - val_loss: 0.8093 - val_acc: 0.8766\n",
      "Epoch 104/200\n",
      "352/352 [==============================] - 11s 30ms/step - loss: 0.1281 - acc: 0.9584 - val_loss: 0.8099 - val_acc: 0.8770\n",
      "Epoch 105/200\n",
      "352/352 [==============================] - 10s 30ms/step - loss: 0.1269 - acc: 0.9588 - val_loss: 0.8134 - val_acc: 0.8762\n",
      "Epoch 106/200\n",
      "352/352 [==============================] - 16s 45ms/step - loss: 0.1257 - acc: 0.9592 - val_loss: 0.8154 - val_acc: 0.8767\n",
      "Epoch 107/200\n",
      "352/352 [==============================] - 11s 31ms/step - loss: 0.1249 - acc: 0.9592 - val_loss: 0.8170 - val_acc: 0.8767\n",
      "Epoch 108/200\n",
      "352/352 [==============================] - 11s 32ms/step - loss: 0.1237 - acc: 0.9593 - val_loss: 0.8187 - val_acc: 0.8768\n",
      "Epoch 109/200\n",
      "352/352 [==============================] - 11s 33ms/step - loss: 0.1226 - acc: 0.9595 - val_loss: 0.8241 - val_acc: 0.8761\n",
      "Epoch 110/200\n",
      "352/352 [==============================] - 11s 31ms/step - loss: 0.1220 - acc: 0.9597 - val_loss: 0.8257 - val_acc: 0.8764\n",
      "Epoch 111/200\n",
      "352/352 [==============================] - 12s 33ms/step - loss: 0.1207 - acc: 0.9598 - val_loss: 0.8289 - val_acc: 0.8763\n",
      "Epoch 112/200\n",
      "352/352 [==============================] - 13s 37ms/step - loss: 0.1199 - acc: 0.9601 - val_loss: 0.8278 - val_acc: 0.8765\n",
      "Epoch 113/200\n",
      "352/352 [==============================] - 11s 32ms/step - loss: 0.1188 - acc: 0.9604 - val_loss: 0.8315 - val_acc: 0.8765\n",
      "Epoch 114/200\n",
      "352/352 [==============================] - 12s 35ms/step - loss: 0.1179 - acc: 0.9604 - val_loss: 0.8342 - val_acc: 0.8762\n",
      "Epoch 115/200\n",
      "352/352 [==============================] - 12s 34ms/step - loss: 0.1169 - acc: 0.9608 - val_loss: 0.8361 - val_acc: 0.8759\n",
      "Epoch 116/200\n",
      "352/352 [==============================] - 12s 35ms/step - loss: 0.1166 - acc: 0.9607 - val_loss: 0.8362 - val_acc: 0.8762\n",
      "Epoch 117/200\n",
      "352/352 [==============================] - 12s 33ms/step - loss: 0.1157 - acc: 0.9610 - val_loss: 0.8399 - val_acc: 0.8760\n",
      "Epoch 118/200\n",
      "352/352 [==============================] - 12s 33ms/step - loss: 0.1146 - acc: 0.9611 - val_loss: 0.8429 - val_acc: 0.8765\n",
      "Epoch 119/200\n",
      "352/352 [==============================] - 12s 34ms/step - loss: 0.1137 - acc: 0.9613 - val_loss: 0.8419 - val_acc: 0.8766\n",
      "Epoch 120/200\n",
      "352/352 [==============================] - 12s 34ms/step - loss: 0.1127 - acc: 0.9614 - val_loss: 0.8467 - val_acc: 0.8760\n",
      "Epoch 121/200\n",
      "352/352 [==============================] - 12s 33ms/step - loss: 0.1121 - acc: 0.9615 - val_loss: 0.8494 - val_acc: 0.8759\n",
      "Epoch 122/200\n",
      "352/352 [==============================] - 12s 34ms/step - loss: 0.1114 - acc: 0.9617 - val_loss: 0.8501 - val_acc: 0.8762\n",
      "Epoch 123/200\n",
      "352/352 [==============================] - 12s 34ms/step - loss: 0.1108 - acc: 0.9618 - val_loss: 0.8530 - val_acc: 0.8756\n",
      "Epoch 124/200\n",
      "352/352 [==============================] - 12s 34ms/step - loss: 0.1100 - acc: 0.9620 - val_loss: 0.8572 - val_acc: 0.8756\n",
      "Epoch 125/200\n",
      "352/352 [==============================] - 12s 33ms/step - loss: 0.1090 - acc: 0.9622 - val_loss: 0.8570 - val_acc: 0.8757\n",
      "Epoch 126/200\n",
      "352/352 [==============================] - 12s 35ms/step - loss: 0.1084 - acc: 0.9624 - val_loss: 0.8598 - val_acc: 0.8760\n",
      "Epoch 127/200\n",
      "352/352 [==============================] - 12s 34ms/step - loss: 0.1075 - acc: 0.9623 - val_loss: 0.8628 - val_acc: 0.8764\n",
      "Epoch 128/200\n",
      "352/352 [==============================] - 13s 36ms/step - loss: 0.1067 - acc: 0.9626 - val_loss: 0.8667 - val_acc: 0.8752\n",
      "Epoch 129/200\n",
      "352/352 [==============================] - 12s 34ms/step - loss: 0.1062 - acc: 0.9629 - val_loss: 0.8684 - val_acc: 0.8756\n",
      "Epoch 130/200\n",
      "352/352 [==============================] - 12s 34ms/step - loss: 0.1057 - acc: 0.9629 - val_loss: 0.8695 - val_acc: 0.8758\n",
      "Epoch 131/200\n",
      "352/352 [==============================] - 12s 34ms/step - loss: 0.1048 - acc: 0.9631 - val_loss: 0.8706 - val_acc: 0.8754\n",
      "Epoch 132/200\n",
      "352/352 [==============================] - 12s 34ms/step - loss: 0.1048 - acc: 0.9631 - val_loss: 0.8720 - val_acc: 0.8760\n",
      "Epoch 133/200\n",
      "352/352 [==============================] - 12s 33ms/step - loss: 0.1037 - acc: 0.9633 - val_loss: 0.8752 - val_acc: 0.8752\n",
      "Epoch 134/200\n",
      "352/352 [==============================] - 12s 33ms/step - loss: 0.1032 - acc: 0.9632 - val_loss: 0.8765 - val_acc: 0.8754\n",
      "Epoch 135/200\n",
      "352/352 [==============================] - 12s 34ms/step - loss: 0.1022 - acc: 0.9635 - val_loss: 0.8805 - val_acc: 0.8753\n",
      "Epoch 136/200\n",
      "352/352 [==============================] - 12s 34ms/step - loss: 0.1021 - acc: 0.9635 - val_loss: 0.8827 - val_acc: 0.8747\n",
      "Epoch 137/200\n",
      "352/352 [==============================] - 12s 33ms/step - loss: 0.1014 - acc: 0.9635 - val_loss: 0.8828 - val_acc: 0.8750\n",
      "Epoch 138/200\n",
      "352/352 [==============================] - 12s 34ms/step - loss: 0.1005 - acc: 0.9638 - val_loss: 0.8865 - val_acc: 0.8745\n",
      "Epoch 139/200\n",
      "352/352 [==============================] - 13s 37ms/step - loss: 0.1002 - acc: 0.9639 - val_loss: 0.8873 - val_acc: 0.8749\n",
      "Epoch 140/200\n",
      "352/352 [==============================] - 12s 35ms/step - loss: 0.0992 - acc: 0.9641 - val_loss: 0.8934 - val_acc: 0.8741\n",
      "Epoch 141/200\n",
      "352/352 [==============================] - 12s 35ms/step - loss: 0.0986 - acc: 0.9642 - val_loss: 0.8933 - val_acc: 0.8748\n",
      "Epoch 142/200\n",
      "352/352 [==============================] - 11s 31ms/step - loss: 0.0981 - acc: 0.9642 - val_loss: 0.8948 - val_acc: 0.8752\n",
      "Epoch 143/200\n",
      "352/352 [==============================] - 12s 35ms/step - loss: 0.0979 - acc: 0.9641 - val_loss: 0.8975 - val_acc: 0.8748\n",
      "Epoch 144/200\n",
      "352/352 [==============================] - 12s 35ms/step - loss: 0.0972 - acc: 0.9645 - val_loss: 0.9006 - val_acc: 0.8735\n",
      "Epoch 145/200\n",
      "352/352 [==============================] - 12s 33ms/step - loss: 0.0965 - acc: 0.9646 - val_loss: 0.9017 - val_acc: 0.8747\n",
      "Epoch 146/200\n",
      "352/352 [==============================] - 12s 33ms/step - loss: 0.0962 - acc: 0.9647 - val_loss: 0.9041 - val_acc: 0.8747\n",
      "Epoch 147/200\n",
      "352/352 [==============================] - 12s 33ms/step - loss: 0.0955 - acc: 0.9648 - val_loss: 0.9036 - val_acc: 0.8738\n",
      "Epoch 148/200\n",
      "352/352 [==============================] - 11s 32ms/step - loss: 0.0952 - acc: 0.9648 - val_loss: 0.9050 - val_acc: 0.8743\n",
      "Epoch 149/200\n",
      "352/352 [==============================] - 12s 33ms/step - loss: 0.0950 - acc: 0.9647 - val_loss: 0.9105 - val_acc: 0.8740\n",
      "Epoch 150/200\n",
      "352/352 [==============================] - 11s 32ms/step - loss: 0.0941 - acc: 0.9651 - val_loss: 0.9121 - val_acc: 0.8738\n",
      "Epoch 151/200\n",
      "352/352 [==============================] - 11s 32ms/step - loss: 0.0938 - acc: 0.9650 - val_loss: 0.9123 - val_acc: 0.8742\n",
      "Epoch 152/200\n",
      "352/352 [==============================] - 12s 33ms/step - loss: 0.0931 - acc: 0.9652 - val_loss: 0.9133 - val_acc: 0.8747\n",
      "Epoch 153/200\n",
      "352/352 [==============================] - 11s 31ms/step - loss: 0.0927 - acc: 0.9653 - val_loss: 0.9188 - val_acc: 0.8739\n",
      "Epoch 154/200\n",
      "352/352 [==============================] - 11s 32ms/step - loss: 0.0925 - acc: 0.9654 - val_loss: 0.9205 - val_acc: 0.8737\n",
      "Epoch 155/200\n",
      "352/352 [==============================] - 11s 31ms/step - loss: 0.0918 - acc: 0.9655 - val_loss: 0.9201 - val_acc: 0.8738\n",
      "Epoch 156/200\n",
      "352/352 [==============================] - 11s 32ms/step - loss: 0.0915 - acc: 0.9655 - val_loss: 0.9255 - val_acc: 0.8736\n",
      "Epoch 157/200\n",
      "352/352 [==============================] - 11s 32ms/step - loss: 0.0910 - acc: 0.9656 - val_loss: 0.9222 - val_acc: 0.8740\n",
      "Epoch 158/200\n",
      "352/352 [==============================] - 12s 33ms/step - loss: 0.0905 - acc: 0.9657 - val_loss: 0.9269 - val_acc: 0.8741\n",
      "Epoch 159/200\n",
      "352/352 [==============================] - 11s 32ms/step - loss: 0.0900 - acc: 0.9659 - val_loss: 0.9287 - val_acc: 0.8742\n",
      "Epoch 160/200\n",
      "352/352 [==============================] - 11s 32ms/step - loss: 0.0896 - acc: 0.9658 - val_loss: 0.9337 - val_acc: 0.8733\n",
      "Epoch 161/200\n",
      "352/352 [==============================] - 11s 31ms/step - loss: 0.0895 - acc: 0.9660 - val_loss: 0.9310 - val_acc: 0.8742\n",
      "Epoch 162/200\n",
      "352/352 [==============================] - 11s 31ms/step - loss: 0.0891 - acc: 0.9659 - val_loss: 0.9341 - val_acc: 0.8732\n",
      "Epoch 163/200\n",
      "352/352 [==============================] - 11s 31ms/step - loss: 0.0885 - acc: 0.9662 - val_loss: 0.9342 - val_acc: 0.8732\n",
      "Epoch 164/200\n",
      "352/352 [==============================] - 11s 32ms/step - loss: 0.0884 - acc: 0.9662 - val_loss: 0.9374 - val_acc: 0.8730\n",
      "Epoch 165/200\n",
      "352/352 [==============================] - 11s 32ms/step - loss: 0.0877 - acc: 0.9663 - val_loss: 0.9385 - val_acc: 0.8732\n",
      "Epoch 166/200\n",
      "352/352 [==============================] - 12s 33ms/step - loss: 0.0873 - acc: 0.9661 - val_loss: 0.9415 - val_acc: 0.8741\n",
      "Epoch 167/200\n",
      "352/352 [==============================] - 11s 30ms/step - loss: 0.0870 - acc: 0.9664 - val_loss: 0.9425 - val_acc: 0.8732\n",
      "Epoch 168/200\n",
      "352/352 [==============================] - 12s 34ms/step - loss: 0.0867 - acc: 0.9664 - val_loss: 0.9498 - val_acc: 0.8723\n",
      "Epoch 169/200\n",
      "352/352 [==============================] - 11s 31ms/step - loss: 0.0862 - acc: 0.9665 - val_loss: 0.9479 - val_acc: 0.8726\n",
      "Epoch 170/200\n",
      "352/352 [==============================] - 11s 31ms/step - loss: 0.0862 - acc: 0.9664 - val_loss: 0.9525 - val_acc: 0.8731\n",
      "Epoch 171/200\n",
      "352/352 [==============================] - 11s 30ms/step - loss: 0.0857 - acc: 0.9668 - val_loss: 0.9531 - val_acc: 0.8732\n",
      "Epoch 172/200\n",
      "352/352 [==============================] - 12s 33ms/step - loss: 0.0852 - acc: 0.9667 - val_loss: 0.9546 - val_acc: 0.8729\n",
      "Epoch 173/200\n",
      "352/352 [==============================] - 12s 34ms/step - loss: 0.0847 - acc: 0.9668 - val_loss: 0.9534 - val_acc: 0.8738\n",
      "Epoch 174/200\n",
      "352/352 [==============================] - 12s 33ms/step - loss: 0.0845 - acc: 0.9668 - val_loss: 0.9591 - val_acc: 0.8724\n",
      "Epoch 175/200\n",
      "352/352 [==============================] - 12s 34ms/step - loss: 0.0843 - acc: 0.9668 - val_loss: 0.9608 - val_acc: 0.8728\n",
      "Epoch 176/200\n",
      "352/352 [==============================] - 12s 33ms/step - loss: 0.0837 - acc: 0.9670 - val_loss: 0.9615 - val_acc: 0.8732\n",
      "Epoch 177/200\n",
      "352/352 [==============================] - 12s 34ms/step - loss: 0.0834 - acc: 0.9671 - val_loss: 0.9624 - val_acc: 0.8721\n",
      "Epoch 178/200\n",
      "352/352 [==============================] - 12s 34ms/step - loss: 0.0831 - acc: 0.9672 - val_loss: 0.9650 - val_acc: 0.8727\n",
      "Epoch 179/200\n",
      "352/352 [==============================] - 12s 33ms/step - loss: 0.0831 - acc: 0.9670 - val_loss: 0.9695 - val_acc: 0.8714\n",
      "Epoch 180/200\n",
      "352/352 [==============================] - 12s 33ms/step - loss: 0.0823 - acc: 0.9673 - val_loss: 0.9691 - val_acc: 0.8726\n",
      "Epoch 181/200\n",
      "352/352 [==============================] - 12s 34ms/step - loss: 0.0824 - acc: 0.9672 - val_loss: 0.9717 - val_acc: 0.8717\n",
      "Epoch 182/200\n",
      "352/352 [==============================] - 12s 35ms/step - loss: 0.0823 - acc: 0.9672 - val_loss: 0.9703 - val_acc: 0.8728\n",
      "Epoch 183/200\n",
      "352/352 [==============================] - 12s 34ms/step - loss: 0.0817 - acc: 0.9673 - val_loss: 0.9737 - val_acc: 0.8725\n",
      "Epoch 184/200\n",
      "352/352 [==============================] - 12s 34ms/step - loss: 0.0815 - acc: 0.9672 - val_loss: 0.9765 - val_acc: 0.8720\n",
      "Epoch 185/200\n",
      "352/352 [==============================] - 12s 33ms/step - loss: 0.0811 - acc: 0.9675 - val_loss: 0.9777 - val_acc: 0.8721\n",
      "Epoch 186/200\n",
      "352/352 [==============================] - 12s 34ms/step - loss: 0.0803 - acc: 0.9677 - val_loss: 0.9781 - val_acc: 0.8727\n",
      "Epoch 187/200\n",
      "352/352 [==============================] - 12s 34ms/step - loss: 0.0803 - acc: 0.9676 - val_loss: 0.9796 - val_acc: 0.8723\n",
      "Epoch 188/200\n",
      "352/352 [==============================] - 12s 34ms/step - loss: 0.0802 - acc: 0.9675 - val_loss: 0.9796 - val_acc: 0.8726\n",
      "Epoch 189/200\n",
      "352/352 [==============================] - 12s 34ms/step - loss: 0.0800 - acc: 0.9676 - val_loss: 0.9854 - val_acc: 0.8723\n",
      "Epoch 190/200\n",
      "352/352 [==============================] - 12s 34ms/step - loss: 0.0792 - acc: 0.9679 - val_loss: 0.9878 - val_acc: 0.8720\n",
      "Epoch 191/200\n",
      "352/352 [==============================] - 12s 33ms/step - loss: 0.0793 - acc: 0.9678 - val_loss: 0.9919 - val_acc: 0.8712\n",
      "Epoch 192/200\n",
      "352/352 [==============================] - 12s 35ms/step - loss: 0.0792 - acc: 0.9678 - val_loss: 0.9873 - val_acc: 0.8723\n",
      "Epoch 193/200\n",
      "352/352 [==============================] - 12s 35ms/step - loss: 0.0790 - acc: 0.9676 - val_loss: 0.9895 - val_acc: 0.8726\n",
      "Epoch 194/200\n",
      "352/352 [==============================] - 12s 35ms/step - loss: 0.0787 - acc: 0.9678 - val_loss: 0.9935 - val_acc: 0.8718\n",
      "Epoch 195/200\n",
      "352/352 [==============================] - 12s 35ms/step - loss: 0.0780 - acc: 0.9680 - val_loss: 0.9949 - val_acc: 0.8726\n",
      "Epoch 196/200\n",
      "352/352 [==============================] - 12s 35ms/step - loss: 0.0779 - acc: 0.9681 - val_loss: 0.9955 - val_acc: 0.8726\n",
      "Epoch 197/200\n",
      "352/352 [==============================] - 12s 35ms/step - loss: 0.0781 - acc: 0.9679 - val_loss: 0.9989 - val_acc: 0.8717\n",
      "Epoch 198/200\n",
      "352/352 [==============================] - 13s 36ms/step - loss: 0.0777 - acc: 0.9680 - val_loss: 0.9992 - val_acc: 0.8723\n",
      "Epoch 199/200\n",
      "352/352 [==============================] - 12s 35ms/step - loss: 0.0773 - acc: 0.9681 - val_loss: 1.0017 - val_acc: 0.8715\n",
      "Epoch 200/200\n",
      "352/352 [==============================] - 12s 35ms/step - loss: 0.0771 - acc: 0.9681 - val_loss: 1.0043 - val_acc: 0.8721\n",
      "{'loss': [2.9295156002044678, 1.7248563766479492, 1.5336884260177612, 1.4102146625518799, 1.3029948472976685, 1.2135024070739746, 1.1383733749389648, 1.0729503631591797, 1.014172911643982, 0.9615326523780823, 0.9154927134513855, 0.8744322657585144, 0.8375116586685181, 0.8031855225563049, 0.7709696292877197, 0.7407495379447937, 0.7126843929290771, 0.6856334805488586, 0.6598899364471436, 0.6356148719787598, 0.6127403974533081, 0.5907502770423889, 0.5695669054985046, 0.5494547486305237, 0.5300672054290771, 0.5113600492477417, 0.49381428956985474, 0.47731101512908936, 0.46162065863609314, 0.44640156626701355, 0.4322296977043152, 0.41867491602897644, 0.40603911876678467, 0.3935508728027344, 0.3820626735687256, 0.3709285259246826, 0.36038777232170105, 0.35039350390434265, 0.3412463068962097, 0.3323085308074951, 0.32353487610816956, 0.3153925836086273, 0.307613343000412, 0.30016639828681946, 0.2935198247432709, 0.2865012288093567, 0.27975237369537354, 0.27395522594451904, 0.26812225580215454, 0.26254338026046753, 0.25680968165397644, 0.2521340548992157, 0.24685250222682953, 0.24202704429626465, 0.23779115080833435, 0.23325473070144653, 0.22928670048713684, 0.2249741107225418, 0.22125685214996338, 0.21744126081466675, 0.2137787789106369, 0.21034660935401917, 0.20703504979610443, 0.20360390841960907, 0.20049166679382324, 0.19768279790878296, 0.19475436210632324, 0.19170469045639038, 0.18908853828907013, 0.18648354709148407, 0.1838950365781784, 0.18139882385730743, 0.17891369760036469, 0.1762498915195465, 0.17413975298404694, 0.17187917232513428, 0.16976960003376007, 0.1676793247461319, 0.16573797166347504, 0.16366669535636902, 0.16127701103687286, 0.15968725085258484, 0.15791548788547516, 0.156461700797081, 0.15431110560894012, 0.15262021124362946, 0.15085920691490173, 0.1496233344078064, 0.14785662293434143, 0.14619873464107513, 0.14493416249752045, 0.14315585792064667, 0.141761913895607, 0.14045308530330658, 0.13902314007282257, 0.13798066973686218, 0.1363218128681183, 0.13527871668338776, 0.13395769894123077, 0.13285575807094574, 0.13150982558727264, 0.1302509307861328, 0.12928330898284912, 0.12807708978652954, 0.12685854732990265, 0.12567821145057678, 0.12489695847034454, 0.12371038645505905, 0.12263939529657364, 0.12202978879213333, 0.1207285150885582, 0.11993493884801865, 0.11881841719150543, 0.11790625005960464, 0.11691690236330032, 0.11655227094888687, 0.11568617820739746, 0.1146218329668045, 0.11370575428009033, 0.1127282902598381, 0.1120549887418747, 0.11138960719108582, 0.11076099425554276, 0.11004199087619781, 0.1090383231639862, 0.10836661607027054, 0.10752873122692108, 0.10671596974134445, 0.10616012662649155, 0.10572010278701782, 0.10480937361717224, 0.10476019978523254, 0.10373696684837341, 0.10317273437976837, 0.10220938920974731, 0.1021365225315094, 0.10135457664728165, 0.10051455348730087, 0.10020679235458374, 0.09920483827590942, 0.0986260175704956, 0.09813689440488815, 0.09793532639741898, 0.09720455855131149, 0.09652972221374512, 0.09615598618984222, 0.09547913074493408, 0.09516362100839615, 0.09495045244693756, 0.09409398585557938, 0.09380031377077103, 0.093061164021492, 0.09270451217889786, 0.09252510964870453, 0.09184734523296356, 0.09145151078701019, 0.0909668579697609, 0.09048686176538467, 0.09000034630298615, 0.08964168280363083, 0.0894583910703659, 0.0890526995062828, 0.088458351790905, 0.0883902907371521, 0.0877205953001976, 0.08728212118148804, 0.08695799857378006, 0.08665439486503601, 0.08619068562984467, 0.086183562874794, 0.0856742262840271, 0.08524036407470703, 0.08466171473264694, 0.08453447371721268, 0.08429954200983047, 0.08365960419178009, 0.08343394100666046, 0.08310583978891373, 0.0830664336681366, 0.08234348148107529, 0.08235423266887665, 0.08227671682834625, 0.0816539078950882, 0.08147996664047241, 0.08107727020978928, 0.08034025132656097, 0.08025790750980377, 0.08024613559246063, 0.07997490465641022, 0.07923972606658936, 0.0793193057179451, 0.07919470220804214, 0.07897650450468063, 0.07870902866125107, 0.07796988636255264, 0.07792534679174423, 0.07812102884054184, 0.07771845906972885, 0.07725901901721954, 0.0771179050207138], 'acc': [0.6249686479568481, 0.7337385416030884, 0.7553581595420837, 0.771454930305481, 0.79252028465271, 0.8048418164253235, 0.8140901923179626, 0.8215842843055725, 0.828615665435791, 0.8349450826644897, 0.8399791121482849, 0.8443071842193604, 0.8478522896766663, 0.8514026403427124, 0.8545817136764526, 0.8576536178588867, 0.8608431220054626, 0.8641150593757629, 0.8671660423278809, 0.8700928092002869, 0.8728601336479187, 0.8760091662406921, 0.8788823485374451, 0.8815385699272156, 0.8843490481376648, 0.8871464133262634, 0.890084981918335, 0.8925725221633911, 0.8950012922286987, 0.8979634046554565, 0.9003333449363708, 0.9028601050376892, 0.9050208926200867, 0.9070169925689697, 0.9093999862670898, 0.911414384841919, 0.9135059118270874, 0.9154823422431946, 0.9171542525291443, 0.9189437627792358, 0.9208457469940186, 0.922564685344696, 0.9239280819892883, 0.9253385663032532, 0.9266496896743774, 0.9279229044914246, 0.9293542504310608, 0.9304326772689819, 0.9315424561500549, 0.9327019453048706, 0.933590829372406, 0.9345607757568359, 0.9355646967887878, 0.9365097880363464, 0.9372156858444214, 0.9382731914520264, 0.9390156865119934, 0.9400065541267395, 0.9406130909919739, 0.9412170052528381, 0.9420130848884583, 0.9425621032714844, 0.943330705165863, 0.9438823461532593, 0.944566011428833, 0.945077121257782, 0.9456326961517334, 0.9462418556213379, 0.9466849565505981, 0.9472209215164185, 0.9477660059928894, 0.9483019709587097, 0.9487006664276123, 0.9492130875587463, 0.9497372508049011, 0.9499947428703308, 0.9505176544189453, 0.9508771300315857, 0.9512300491333008, 0.9515045881271362, 0.9519842863082886, 0.9524418115615845, 0.9528509974479675, 0.9531084895133972, 0.9534627199172974, 0.9537150263786316, 0.9540941119194031, 0.9544967412948608, 0.9546954035758972, 0.9551202654838562, 0.9551607966423035, 0.9557516574859619, 0.9559058547019958, 0.9562143683433533, 0.9564889073371887, 0.9565856456756592, 0.9568902254104614, 0.9572705626487732, 0.9573646783828735, 0.9576130509376526, 0.957903265953064, 0.9581934809684753, 0.9582732319831848, 0.958433985710144, 0.9587934613227844, 0.9591673016548157, 0.9591673016548157, 0.9592993259429932, 0.959525465965271, 0.9596640467643738, 0.9598104357719421, 0.9600601196289062, 0.9603529572486877, 0.9604222178459167, 0.9607660174369812, 0.9607464075088501, 0.9609516263008118, 0.9610888957977295, 0.961307168006897, 0.9614195823669434, 0.9615136981010437, 0.961699366569519, 0.9618169665336609, 0.9620222449302673, 0.9622143507003784, 0.9624470472335815, 0.9623464345932007, 0.9626156687736511, 0.9628849625587463, 0.9628810286521912, 0.9630679488182068, 0.9631215929985046, 0.9632588028907776, 0.9631921648979187, 0.9635398983955383, 0.9634509682655334, 0.9634914994239807, 0.96383136510849, 0.9638954401016235, 0.9640575051307678, 0.9641725420951843, 0.9641855955123901, 0.9641438126564026, 0.9645411968231201, 0.9645856022834778, 0.9646666646003723, 0.9647712707519531, 0.9647803902626038, 0.9646705985069275, 0.9651098251342773, 0.9649934768676758, 0.9651869535446167, 0.965349018573761, 0.965399980545044, 0.9654653668403625, 0.9654601216316223, 0.9656405448913574, 0.9657124280929565, 0.9658849835395813, 0.9658117890357971, 0.9660143852233887, 0.9659242033958435, 0.9662039279937744, 0.966194748878479, 0.9662692546844482, 0.966142475605011, 0.966424822807312, 0.9663829803466797, 0.96647709608078, 0.9663699269294739, 0.9667529463768005, 0.9667019844055176, 0.9668444395065308, 0.9667686223983765, 0.9667712450027466, 0.9670209288597107, 0.9671189785003662, 0.9672365784645081, 0.9670287370681763, 0.9672719240188599, 0.9672209024429321, 0.9672327041625977, 0.967253565788269, 0.9672431349754333, 0.9675241708755493, 0.9676666855812073, 0.9676131010055542, 0.9675071835517883, 0.9675777554512024, 0.9679111242294312, 0.9677608013153076, 0.9677830338478088, 0.9676169753074646, 0.9677947759628296, 0.9680352807044983, 0.9680509567260742, 0.967925488948822, 0.9680026173591614, 0.9680914878845215, 0.9681359529495239], 'val_loss': [1.8764564990997314, 1.6325384378433228, 1.4871684312820435, 1.3804734945297241, 1.2913057804107666, 1.2158362865447998, 1.1570088863372803, 1.1058255434036255, 1.0599980354309082, 1.0233882665634155, 0.9912514686584473, 0.9632680416107178, 0.9383179545402527, 0.9152290225028992, 0.8968468904495239, 0.8768116235733032, 0.8603257536888123, 0.8455363512039185, 0.8307901620864868, 0.818228006362915, 0.8069531321525574, 0.7963108420372009, 0.7868207693099976, 0.7763392329216003, 0.766143262386322, 0.7606556415557861, 0.7525697350502014, 0.7484771013259888, 0.741608202457428, 0.735487699508667, 0.7303062081336975, 0.7266930937767029, 0.7244394421577454, 0.7190192937850952, 0.7175054550170898, 0.714299201965332, 0.7118958234786987, 0.7098404169082642, 0.7085456252098083, 0.7090874910354614, 0.7051128149032593, 0.7061283588409424, 0.7053688764572144, 0.704852283000946, 0.7055918574333191, 0.7041276097297668, 0.7044042944908142, 0.7063210010528564, 0.7052380442619324, 0.7054107189178467, 0.7067945003509521, 0.7062347531318665, 0.707991898059845, 0.7090039253234863, 0.7107502222061157, 0.7121639251708984, 0.7140232920646667, 0.7150545120239258, 0.7144123911857605, 0.7179936766624451, 0.7176020741462708, 0.7213960886001587, 0.7224918007850647, 0.7248831987380981, 0.7261058688163757, 0.728202223777771, 0.7297049760818481, 0.7311177849769592, 0.7336263060569763, 0.7341985106468201, 0.7373133897781372, 0.7388139367103577, 0.7435690760612488, 0.743714451789856, 0.7453723549842834, 0.7483569979667664, 0.749916672706604, 0.7527005076408386, 0.7534743547439575, 0.755111575126648, 0.7579694986343384, 0.7600306868553162, 0.7621885538101196, 0.7650623321533203, 0.7669768333435059, 0.7694669365882874, 0.7725600600242615, 0.7727229595184326, 0.7763421535491943, 0.7795508503913879, 0.7808284759521484, 0.7850351333618164, 0.7854270935058594, 0.7858656048774719, 0.7878912687301636, 0.7911529541015625, 0.7941484451293945, 0.798086404800415, 0.798785924911499, 0.8019755482673645, 0.8042746782302856, 0.8090273141860962, 0.8093357682228088, 0.8098945021629333, 0.8133510947227478, 0.8153625130653381, 0.8170268535614014, 0.8186696171760559, 0.8240746855735779, 0.8256868124008179, 0.8288750052452087, 0.8277654051780701, 0.8314557671546936, 0.8342195153236389, 0.8361350297927856, 0.836173415184021, 0.8398643732070923, 0.8429186344146729, 0.8418915867805481, 0.8466675877571106, 0.8493891358375549, 0.8500739336013794, 0.8529828190803528, 0.8571954965591431, 0.857000470161438, 0.8597791194915771, 0.8628280162811279, 0.8666754961013794, 0.8684415221214294, 0.8695141673088074, 0.8705531358718872, 0.8720026612281799, 0.8751572370529175, 0.8765182495117188, 0.8805127739906311, 0.882652223110199, 0.88284832239151, 0.8864668011665344, 0.8872630596160889, 0.8933629989624023, 0.8932820558547974, 0.8947951197624207, 0.8974996209144592, 0.900622546672821, 0.90167236328125, 0.9040550589561462, 0.903649628162384, 0.9049780964851379, 0.9105029106140137, 0.9121062755584717, 0.9122918844223022, 0.9133136868476868, 0.9188470840454102, 0.9204661846160889, 0.9200708270072937, 0.9254688620567322, 0.9221694469451904, 0.9268836975097656, 0.9287208914756775, 0.9336910247802734, 0.9310318231582642, 0.9341078400611877, 0.9342198371887207, 0.9374328255653381, 0.9385285973548889, 0.9414737224578857, 0.9425411224365234, 0.9497703313827515, 0.9479397535324097, 0.95248943567276, 0.9531335234642029, 0.9546137452125549, 0.9533913135528564, 0.9590574502944946, 0.960759162902832, 0.9614619016647339, 0.962355375289917, 0.9649801850318909, 0.9695109128952026, 0.9691202044487, 0.9717402458190918, 0.9702876806259155, 0.9737324118614197, 0.9764652252197266, 0.9777287840843201, 0.9780755639076233, 0.9795820116996765, 0.979587972164154, 0.9854016304016113, 0.9877641797065735, 0.9918591976165771, 0.9872971773147583, 0.9894742369651794, 0.9934574961662292, 0.9949018359184265, 0.995485246181488, 0.9988756775856018, 0.9992043972015381, 1.0017250776290894, 1.0043236017227173], 'val_acc': [0.6902941465377808, 0.7483882308006287, 0.7603058815002441, 0.7787647247314453, 0.7959176301956177, 0.8075647354125977, 0.8139411807060242, 0.8210940957069397, 0.826164722442627, 0.8306353092193604, 0.833611786365509, 0.8369882106781006, 0.8394470810890198, 0.841952919960022, 0.8430941104888916, 0.8461764454841614, 0.8479411602020264, 0.848835289478302, 0.8515411615371704, 0.8533411622047424, 0.8544706106185913, 0.8563529253005981, 0.8567529320716858, 0.8582705855369568, 0.8597529530525208, 0.8603176474571228, 0.8617647290229797, 0.8626117706298828, 0.8636705875396729, 0.8644470572471619, 0.8660235404968262, 0.8659176230430603, 0.8663764595985413, 0.8685176372528076, 0.868682324886322, 0.8692823648452759, 0.8698706030845642, 0.8703176379203796, 0.8713176250457764, 0.871894121170044, 0.8725764751434326, 0.8730117678642273, 0.8729764819145203, 0.87376469373703, 0.8741764426231384, 0.8742470741271973, 0.874788224697113, 0.8755764961242676, 0.8751176595687866, 0.8758705854415894, 0.8758941292762756, 0.8758941292762756, 0.8766117691993713, 0.8761882185935974, 0.877047061920166, 0.8771529197692871, 0.8765882253646851, 0.8767176270484924, 0.877576470375061, 0.8774823546409607, 0.8776941299438477, 0.877329409122467, 0.8774588108062744, 0.8770706057548523, 0.877505898475647, 0.8771764636039734, 0.877752959728241, 0.8776000142097473, 0.877541184425354, 0.8780588507652283, 0.8776823282241821, 0.8776000142097473, 0.8772117495536804, 0.8776941299438477, 0.8779882192611694, 0.877258837223053, 0.8783059120178223, 0.8776588439941406, 0.8778941035270691, 0.8780235052108765, 0.8774823546409607, 0.8777176737785339, 0.8770353198051453, 0.8775176405906677, 0.877505898475647, 0.8775882124900818, 0.8772117495536804, 0.8773058652877808, 0.8775529265403748, 0.8773176670074463, 0.8771647214889526, 0.8770235180854797, 0.8776470422744751, 0.8770706057548523, 0.8774588108062744, 0.8768470883369446, 0.877047061920166, 0.8763764500617981, 0.8766353130340576, 0.8770235180854797, 0.8764235377311707, 0.8757647275924683, 0.876552939414978, 0.8769529461860657, 0.8762000203132629, 0.876729428768158, 0.8767176270484924, 0.8768117427825928, 0.8761176466941833, 0.8763529658317566, 0.8762823343276978, 0.8764941096305847, 0.8764705657958984, 0.8761882185935974, 0.8758705854415894, 0.8762235045433044, 0.875952959060669, 0.8764588236808777, 0.8766470551490784, 0.8760470747947693, 0.8759294152259827, 0.8762470483779907, 0.8755882382392883, 0.8755529522895813, 0.8756940960884094, 0.8760470747947693, 0.8763764500617981, 0.875247061252594, 0.875564694404602, 0.8757529258728027, 0.8754235506057739, 0.8759647011756897, 0.875211775302887, 0.8754235506057739, 0.8753058910369873, 0.8746941089630127, 0.875035285949707, 0.874505877494812, 0.8749411702156067, 0.8741176724433899, 0.8748353123664856, 0.8751999735832214, 0.8748000264167786, 0.8734940886497498, 0.8747059106826782, 0.8746588230133057, 0.8737882375717163, 0.8742706179618835, 0.8739882111549377, 0.8738470673561096, 0.8741764426231384, 0.8747059106826782, 0.8738706111907959, 0.8736705780029297, 0.8738470673561096, 0.8736235499382019, 0.8739529252052307, 0.8740705847740173, 0.874223530292511, 0.8733412027359009, 0.8742117881774902, 0.8731882572174072, 0.873199999332428, 0.8730000257492065, 0.8732470870018005, 0.8741176724433899, 0.8732470870018005, 0.8723294138908386, 0.8725882172584534, 0.8731294274330139, 0.8732470870018005, 0.8729411959648132, 0.8738235235214233, 0.8723529577255249, 0.8727647066116333, 0.873235285282135, 0.8720823526382446, 0.872741162776947, 0.871399998664856, 0.8725882172584534, 0.871717631816864, 0.8727647066116333, 0.8725059032440186, 0.8719529509544373, 0.8720706105232239, 0.8727294206619263, 0.8722823262214661, 0.8726000189781189, 0.8723058700561523, 0.8719882369041443, 0.871188223361969, 0.8722941279411316, 0.8726117610931396, 0.8718000054359436, 0.8725529313087463, 0.8725529313087463, 0.8717058897018433, 0.8723411560058594, 0.8715176582336426, 0.8720940947532654]}\n"
     ]
    }
   ],
   "source": [
    "history = model.fit(x=[encoder_input_train, decoder_input_train], y=decoder_target_train, \\\n",
    "    validation_data=([encoder_input_test, decoder_input_test], decoder_target_test),\n",
    "    batch_size=128, epochs=200)\n",
    "print(history.history)"
   ]
  },
  {
   "cell_type": "code",
   "execution_count": 49,
   "metadata": {},
   "outputs": [
    {
     "name": "stdout",
     "output_type": "stream",
     "text": [
      "dict_keys(['loss', 'acc', 'val_loss', 'val_acc'])\n"
     ]
    }
   ],
   "source": [
    "history_dict = history.history\n",
    "print(history_dict.keys())"
   ]
  },
  {
   "cell_type": "code",
   "execution_count": 50,
   "metadata": {},
   "outputs": [
    {
     "data": {
      "image/png": "[encoded data removed]",
      "text/plain": [
       "<Figure size 640x480 with 1 Axes>"
      ]
     },
     "metadata": {},
     "output_type": "display_data"
    }
   ],
   "source": [
    "plt.plot(history.history['acc'])\n",
    "plt.plot(history.history['val_acc'])\n",
    "plt.title('Model accuracy')\n",
    "plt.xlabel('Epoch')\n",
    "plt.ylabel('Accuracy')\n",
    "plt.legend(['Train', 'Val'], loc='upper left')\n",
    "plt.show()"
   ]
  },
  {
   "cell_type": "code",
   "execution_count": 51,
   "metadata": {},
   "outputs": [
    {
     "data": {
      "image/png": "[encoded data removed]",
      "text/plain": [
       "<Figure size 640x480 with 1 Axes>"
      ]
     },
     "metadata": {},
     "output_type": "display_data"
    }
   ],
   "source": [
    "plt.plot(history.history['loss'])\n",
    "plt.plot(history.history['val_loss'])\n",
    "plt.title('Model loss')\n",
    "plt.xlabel('Epoch')\n",
    "plt.ylabel('loss')\n",
    "plt.legend(['Train', 'Val'], loc='upper left')\n",
    "plt.show()"
   ]
  },
  {
   "cell_type": "code",
   "execution_count": 52,
   "metadata": {},
   "outputs": [],
   "source": [
    "# 인코더\n",
    "encoder_model = Model(encoder_inputs, encoder_states)\n",
    "\n",
    "# 디코더 설계 시작\n",
    "# 이전 시점의 상태를 보관할 텐서\n",
    "decoder_state_input_h = Input(shape=(hidden_units,))\n",
    "decoder_state_input_c = Input(shape=(hidden_units,))\n",
    "decoder_states_inputs = [decoder_state_input_h, decoder_state_input_c]\n",
    "\n",
    "# 훈련 때 사용했던 임베딩 층을 재사용\n",
    "dec_emb2 = dec_emb_layer(decoder_inputs)\n",
    "\n",
    "# 다음 단어 예측을 위해 이전 시점의 상태를 현 시점의 초기 상태로 사용\n",
    "decoder_outputs2, state_h2, state_c2 = decoder_lstm(dec_emb2, initial_state=decoder_states_inputs)\n",
    "decoder_states2 = [state_h2, state_c2]\n",
    "\n",
    "# 모든 시점에 대해서 단어 예측\n",
    "decoder_outputs2 = decoder_dense(decoder_outputs2)\n",
    "\n",
    "# 수정된 디코더\n",
    "decoder_model = Model(\n",
    "    [decoder_inputs] + decoder_states_inputs,\n",
    "    [decoder_outputs2] + decoder_states2)"
   ]
  },
  {
   "cell_type": "code",
   "execution_count": 53,
   "metadata": {},
   "outputs": [],
   "source": [
    "def decode_sequence(input_seq):\n",
    "  # 입력으로부터 인코더의 마지막 시점의 상태(은닉 상태, 셀 상태)를 얻음\n",
    "  states_value = encoder_model.predict(input_seq)\n",
    "\n",
    "  # <SOS>에 해당하는 정수 생성\n",
    "  target_seq = np.zeros((1,1))\n",
    "  target_seq[0, 0] = tar_to_index['<sos>']\n",
    "\n",
    "  stop_condition = False\n",
    "  decoded_sentence = ''\n",
    "\n",
    "  # stop_condition이 True가 될 때까지 루프 반복\n",
    "  # 구현의 간소화를 위해서 이 함수는 배치 크기를 1로 가정합니다.\n",
    "  while not stop_condition:\n",
    "    # 이점 시점의 상태 states_value를 현 시점의 초기 상태로 사용\n",
    "    output_tokens, h, c = decoder_model.predict([target_seq] + states_value)\n",
    "\n",
    "    # 예측 결과를 단어로 변환\n",
    "    sampled_token_index = np.argmax(output_tokens[0, -1, :])\n",
    "    sampled_char = index_to_tar[sampled_token_index]\n",
    "\n",
    "    # 현재 시점의 예측 단어를 예측 문장에 추가\n",
    "    decoded_sentence += ' '+sampled_char\n",
    "\n",
    "    # <eos>에 도달하거나 정해진 길이를 넘으면 중단.\n",
    "    if (sampled_char == '<eos>' or\n",
    "        len(decoded_sentence) > 50):\n",
    "        stop_condition = True\n",
    "\n",
    "    # 현재 시점의 예측 결과를 다음 시점의 입력으로 사용하기 위해 저장\n",
    "    target_seq = np.zeros((1,1))\n",
    "    target_seq[0, 0] = sampled_token_index\n",
    "\n",
    "    # 현재 시점의 상태를 다음 시점의 상태로 사용하기 위해 저장\n",
    "    states_value = [h, c]\n",
    "\n",
    "  return decoded_sentence"
   ]
  },
  {
   "cell_type": "code",
   "execution_count": 54,
   "metadata": {},
   "outputs": [],
   "source": [
    "# 원문의 정수 시퀀스를 텍스트 시퀀스로 변환\n",
    "def seq_to_src(input_seq):\n",
    "  sentence = ''\n",
    "  for encoded_word in input_seq:\n",
    "    if(encoded_word != 0):\n",
    "      sentence = sentence + index_to_src[encoded_word] + ' '\n",
    "  return sentence\n",
    "\n",
    "# 번역문의 정수 시퀀스를 텍스트 시퀀스로 변환\n",
    "def seq_to_tar(input_seq):\n",
    "  sentence = ''\n",
    "  for encoded_word in input_seq:\n",
    "    if(encoded_word != 0 and encoded_word != tar_to_index['<sos>'] and encoded_word != tar_to_index['<eos>']):\n",
    "      sentence = sentence + index_to_tar[encoded_word] + ' '\n",
    "  return sentence"
   ]
  },
  {
   "cell_type": "code",
   "execution_count": 55,
   "metadata": {},
   "outputs": [
    {
     "name": "stdout",
     "output_type": "stream",
     "text": [
      "1/1 [==============================] - 2s 2s/step\n",
      "1/1 [==============================] - 0s 469ms/step\n",
      "1/1 [==============================] - 0s 32ms/step\n",
      "1/1 [==============================] - 0s 30ms/step\n",
      "1/1 [==============================] - 0s 27ms/step\n",
      "1/1 [==============================] - 0s 32ms/step\n",
      "입력문장 : i have asthma . \n",
      "정답문장 : j ai de l asthme . \n",
      "번역문장 : je suis asthmatique . \n",
      "--------------------------------------------------\n",
      "1/1 [==============================] - 0s 30ms/step\n",
      "1/1 [==============================] - 0s 31ms/step\n",
      "1/1 [==============================] - 0s 34ms/step\n",
      "1/1 [==============================] - 0s 29ms/step\n",
      "1/1 [==============================] - 0s 28ms/step\n",
      "입력문장 : of course . \n",
      "정답문장 : pour sur . \n",
      "번역문장 : bien sur . \n",
      "--------------------------------------------------\n",
      "1/1 [==============================] - 0s 25ms/step\n",
      "1/1 [==============================] - 0s 26ms/step\n",
      "1/1 [==============================] - 0s 28ms/step\n",
      "1/1 [==============================] - 0s 30ms/step\n",
      "1/1 [==============================] - 0s 29ms/step\n",
      "1/1 [==============================] - 0s 26ms/step\n",
      "1/1 [==============================] - 0s 26ms/step\n",
      "1/1 [==============================] - 0s 31ms/step\n",
      "입력문장 : i m getting nowhere . \n",
      "정답문장 : je n arrive a rien . \n",
      "번역문장 : je ne peux pas travailler ! \n",
      "--------------------------------------------------\n",
      "1/1 [==============================] - 0s 30ms/step\n",
      "1/1 [==============================] - 0s 36ms/step\n",
      "1/1 [==============================] - 0s 33ms/step\n",
      "1/1 [==============================] - 0s 34ms/step\n",
      "1/1 [==============================] - 0s 29ms/step\n",
      "1/1 [==============================] - 0s 27ms/step\n",
      "입력문장 : tom was distressed . \n",
      "정답문장 : tom etait secoue . \n",
      "번역문장 : tom refusa vite ? \n",
      "--------------------------------------------------\n",
      "1/1 [==============================] - 0s 26ms/step\n",
      "1/1 [==============================] - 0s 30ms/step\n",
      "1/1 [==============================] - 0s 31ms/step\n",
      "1/1 [==============================] - 0s 24ms/step\n",
      "1/1 [==============================] - 0s 34ms/step\n",
      "1/1 [==============================] - 0s 39ms/step\n",
      "1/1 [==============================] - 0s 44ms/step\n",
      "1/1 [==============================] - 0s 29ms/step\n",
      "1/1 [==============================] - 0s 35ms/step\n",
      "입력문장 : i was very lucky . \n",
      "정답문장 : j ai eu beaucoup de chance . \n",
      "번역문장 : j etais beaucoup de l aide . \n",
      "--------------------------------------------------\n"
     ]
    }
   ],
   "source": [
    "for seq_index in [3, 50, 100, 300, 1001]:\n",
    "  input_seq = encoder_input_test[seq_index: seq_index + 1]\n",
    "  decoded_sentence = decode_sequence(input_seq)\n",
    "\n",
    "  print(\"입력문장 :\",seq_to_src(encoder_input_test[seq_index]))\n",
    "  print(\"정답문장 :\",seq_to_tar(decoder_input_test[seq_index]))\n",
    "  print(\"번역문장 :\",decoded_sentence[1:-5])\n",
    "  print(\"-\"*50)"
   ]
  },
  {
   "attachments": {},
   "cell_type": "markdown",
   "metadata": {},
   "source": [
    "지금 보면 번역이 그래도 잘 되고 있는 것 같다.   \n",
    "약간의 단어차이가 있을 때도 있지만, 그래도 뜻은 비슷한걸로 보인다.   \n",
    "참고 문헌: https://wikidocs.net/86900   \n"
   ]
  }
 ],
 "metadata": {
  "kernelspec": {
   "display_name": "base",
   "language": "python",
   "name": "python3"
  },
  "language_info": {
   "codemirror_mode": {
    "name": "ipython",
    "version": 3
   },
   "file_extension": ".py",
   "mimetype": "text/x-python",
   "name": "python",
   "nbconvert_exporter": "python",
   "pygments_lexer": "ipython3",
   "version": "3.8.16"
  },
  "orig_nbformat": 4,
  "vscode": {
   "interpreter": {
    "hash": "60db81670d3c382f0473d0504c6942832f09699c118224e7bf360057574f9b7f"
   }
  }
 },
 "nbformat": 4,
 "nbformat_minor": 2
}
