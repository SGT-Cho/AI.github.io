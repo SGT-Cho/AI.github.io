{
 "cells": [
  {
   "cell_type": "code",
   "execution_count": 31,
   "id": "fc89eb7d",
   "metadata": {},
   "outputs": [],
   "source": [
    "import matplotlib.pyplot as plt\n",
    "import numpy as np\n",
    "import seaborn as sns\n",
    "import pandas as pd\n",
    "from sklearn.model_selection import train_test_split\n",
    "from sklearn.datasets import load_diabetes\n",
    "#np.set_printoptions(threshold=1000, linewidth=75) #데이터 확인을 위해 생략 제거 과정 거쳤음"
   ]
  },
  {
   "cell_type": "code",
   "execution_count": 30,
   "id": "cc18fd00",
   "metadata": {
    "scrolled": true
   },
   "outputs": [
    {
     "data": {
      "text/plain": [
       "array([[ 0.03807591,  0.05068012,  0.06169621, ..., -0.00259226,\n",
       "         0.01990842, -0.01764613],\n",
       "       [-0.00188202, -0.04464164, -0.05147406, ..., -0.03949338,\n",
       "        -0.06832974, -0.09220405],\n",
       "       [ 0.08529891,  0.05068012,  0.04445121, ..., -0.00259226,\n",
       "         0.00286377, -0.02593034],\n",
       "       ...,\n",
       "       [ 0.04170844,  0.05068012, -0.01590626, ..., -0.01107952,\n",
       "        -0.04687948,  0.01549073],\n",
       "       [-0.04547248, -0.04464164,  0.03906215, ...,  0.02655962,\n",
       "         0.04452837, -0.02593034],\n",
       "       [-0.04547248, -0.04464164, -0.0730303 , ..., -0.03949338,\n",
       "        -0.00421986,  0.00306441]])"
      ]
     },
     "execution_count": 30,
     "metadata": {},
     "output_type": "execute_result"
    }
   ],
   "source": [
    "diabetes=load_diabetes()\n",
    "diabetes.data"
   ]
  },
  {
   "cell_type": "code",
   "execution_count": 23,
   "id": "2bc1b9da",
   "metadata": {},
   "outputs": [
    {
     "data": {
      "text/html": [
       "<div>\n",
       "<style scoped>\n",
       "    .dataframe tbody tr th:only-of-type {\n",
       "        vertical-align: middle;\n",
       "    }\n",
       "\n",
       "    .dataframe tbody tr th {\n",
       "        vertical-align: top;\n",
       "    }\n",
       "\n",
       "    .dataframe thead tr th {\n",
       "        text-align: left;\n",
       "    }\n",
       "</style>\n",
       "<table border=\"1\" class=\"dataframe\">\n",
       "  <thead>\n",
       "    <tr>\n",
       "      <th></th>\n",
       "      <th>age</th>\n",
       "      <th>sex</th>\n",
       "      <th>bmi</th>\n",
       "      <th>bp</th>\n",
       "      <th>s1</th>\n",
       "      <th>s2</th>\n",
       "      <th>s3</th>\n",
       "      <th>s4</th>\n",
       "      <th>s5</th>\n",
       "      <th>s6</th>\n",
       "    </tr>\n",
       "  </thead>\n",
       "  <tbody>\n",
       "    <tr>\n",
       "      <th>0</th>\n",
       "      <td>0.038076</td>\n",
       "      <td>0.050680</td>\n",
       "      <td>0.061696</td>\n",
       "      <td>0.021872</td>\n",
       "      <td>-0.044223</td>\n",
       "      <td>-0.034821</td>\n",
       "      <td>-0.043401</td>\n",
       "      <td>-0.002592</td>\n",
       "      <td>0.019908</td>\n",
       "      <td>-0.017646</td>\n",
       "    </tr>\n",
       "    <tr>\n",
       "      <th>1</th>\n",
       "      <td>-0.001882</td>\n",
       "      <td>-0.044642</td>\n",
       "      <td>-0.051474</td>\n",
       "      <td>-0.026328</td>\n",
       "      <td>-0.008449</td>\n",
       "      <td>-0.019163</td>\n",
       "      <td>0.074412</td>\n",
       "      <td>-0.039493</td>\n",
       "      <td>-0.068330</td>\n",
       "      <td>-0.092204</td>\n",
       "    </tr>\n",
       "    <tr>\n",
       "      <th>2</th>\n",
       "      <td>0.085299</td>\n",
       "      <td>0.050680</td>\n",
       "      <td>0.044451</td>\n",
       "      <td>-0.005671</td>\n",
       "      <td>-0.045599</td>\n",
       "      <td>-0.034194</td>\n",
       "      <td>-0.032356</td>\n",
       "      <td>-0.002592</td>\n",
       "      <td>0.002864</td>\n",
       "      <td>-0.025930</td>\n",
       "    </tr>\n",
       "    <tr>\n",
       "      <th>3</th>\n",
       "      <td>-0.089063</td>\n",
       "      <td>-0.044642</td>\n",
       "      <td>-0.011595</td>\n",
       "      <td>-0.036656</td>\n",
       "      <td>0.012191</td>\n",
       "      <td>0.024991</td>\n",
       "      <td>-0.036038</td>\n",
       "      <td>0.034309</td>\n",
       "      <td>0.022692</td>\n",
       "      <td>-0.009362</td>\n",
       "    </tr>\n",
       "    <tr>\n",
       "      <th>4</th>\n",
       "      <td>0.005383</td>\n",
       "      <td>-0.044642</td>\n",
       "      <td>-0.036385</td>\n",
       "      <td>0.021872</td>\n",
       "      <td>0.003935</td>\n",
       "      <td>0.015596</td>\n",
       "      <td>0.008142</td>\n",
       "      <td>-0.002592</td>\n",
       "      <td>-0.031991</td>\n",
       "      <td>-0.046641</td>\n",
       "    </tr>\n",
       "    <tr>\n",
       "      <th>...</th>\n",
       "      <td>...</td>\n",
       "      <td>...</td>\n",
       "      <td>...</td>\n",
       "      <td>...</td>\n",
       "      <td>...</td>\n",
       "      <td>...</td>\n",
       "      <td>...</td>\n",
       "      <td>...</td>\n",
       "      <td>...</td>\n",
       "      <td>...</td>\n",
       "    </tr>\n",
       "    <tr>\n",
       "      <th>437</th>\n",
       "      <td>0.041708</td>\n",
       "      <td>0.050680</td>\n",
       "      <td>0.019662</td>\n",
       "      <td>0.059744</td>\n",
       "      <td>-0.005697</td>\n",
       "      <td>-0.002566</td>\n",
       "      <td>-0.028674</td>\n",
       "      <td>-0.002592</td>\n",
       "      <td>0.031193</td>\n",
       "      <td>0.007207</td>\n",
       "    </tr>\n",
       "    <tr>\n",
       "      <th>438</th>\n",
       "      <td>-0.005515</td>\n",
       "      <td>0.050680</td>\n",
       "      <td>-0.015906</td>\n",
       "      <td>-0.067642</td>\n",
       "      <td>0.049341</td>\n",
       "      <td>0.079165</td>\n",
       "      <td>-0.028674</td>\n",
       "      <td>0.034309</td>\n",
       "      <td>-0.018118</td>\n",
       "      <td>0.044485</td>\n",
       "    </tr>\n",
       "    <tr>\n",
       "      <th>439</th>\n",
       "      <td>0.041708</td>\n",
       "      <td>0.050680</td>\n",
       "      <td>-0.015906</td>\n",
       "      <td>0.017282</td>\n",
       "      <td>-0.037344</td>\n",
       "      <td>-0.013840</td>\n",
       "      <td>-0.024993</td>\n",
       "      <td>-0.011080</td>\n",
       "      <td>-0.046879</td>\n",
       "      <td>0.015491</td>\n",
       "    </tr>\n",
       "    <tr>\n",
       "      <th>440</th>\n",
       "      <td>-0.045472</td>\n",
       "      <td>-0.044642</td>\n",
       "      <td>0.039062</td>\n",
       "      <td>0.001215</td>\n",
       "      <td>0.016318</td>\n",
       "      <td>0.015283</td>\n",
       "      <td>-0.028674</td>\n",
       "      <td>0.026560</td>\n",
       "      <td>0.044528</td>\n",
       "      <td>-0.025930</td>\n",
       "    </tr>\n",
       "    <tr>\n",
       "      <th>441</th>\n",
       "      <td>-0.045472</td>\n",
       "      <td>-0.044642</td>\n",
       "      <td>-0.073030</td>\n",
       "      <td>-0.081414</td>\n",
       "      <td>0.083740</td>\n",
       "      <td>0.027809</td>\n",
       "      <td>0.173816</td>\n",
       "      <td>-0.039493</td>\n",
       "      <td>-0.004220</td>\n",
       "      <td>0.003064</td>\n",
       "    </tr>\n",
       "  </tbody>\n",
       "</table>\n",
       "<p>442 rows × 10 columns</p>\n",
       "</div>"
      ],
      "text/plain": [
       "          age       sex       bmi        bp        s1        s2        s3  \\\n",
       "0    0.038076  0.050680  0.061696  0.021872 -0.044223 -0.034821 -0.043401   \n",
       "1   -0.001882 -0.044642 -0.051474 -0.026328 -0.008449 -0.019163  0.074412   \n",
       "2    0.085299  0.050680  0.044451 -0.005671 -0.045599 -0.034194 -0.032356   \n",
       "3   -0.089063 -0.044642 -0.011595 -0.036656  0.012191  0.024991 -0.036038   \n",
       "4    0.005383 -0.044642 -0.036385  0.021872  0.003935  0.015596  0.008142   \n",
       "..        ...       ...       ...       ...       ...       ...       ...   \n",
       "437  0.041708  0.050680  0.019662  0.059744 -0.005697 -0.002566 -0.028674   \n",
       "438 -0.005515  0.050680 -0.015906 -0.067642  0.049341  0.079165 -0.028674   \n",
       "439  0.041708  0.050680 -0.015906  0.017282 -0.037344 -0.013840 -0.024993   \n",
       "440 -0.045472 -0.044642  0.039062  0.001215  0.016318  0.015283 -0.028674   \n",
       "441 -0.045472 -0.044642 -0.073030 -0.081414  0.083740  0.027809  0.173816   \n",
       "\n",
       "           s4        s5        s6  \n",
       "0   -0.002592  0.019908 -0.017646  \n",
       "1   -0.039493 -0.068330 -0.092204  \n",
       "2   -0.002592  0.002864 -0.025930  \n",
       "3    0.034309  0.022692 -0.009362  \n",
       "4   -0.002592 -0.031991 -0.046641  \n",
       "..        ...       ...       ...  \n",
       "437 -0.002592  0.031193  0.007207  \n",
       "438  0.034309 -0.018118  0.044485  \n",
       "439 -0.011080 -0.046879  0.015491  \n",
       "440  0.026560  0.044528 -0.025930  \n",
       "441 -0.039493 -0.004220  0.003064  \n",
       "\n",
       "[442 rows x 10 columns]"
      ]
     },
     "execution_count": 23,
     "metadata": {},
     "output_type": "execute_result"
    }
   ],
   "source": [
    "df=pd.DataFrame(diabetes.data,columns=[diabetes.feature_names])\n",
    "df"
   ]
  },
  {
   "cell_type": "code",
   "execution_count": 44,
   "id": "0d203446",
   "metadata": {},
   "outputs": [
    {
     "name": "stdout",
     "output_type": "stream",
     "text": [
      "(442, 10)\n",
      "(442,)\n"
     ]
    }
   ],
   "source": [
    "X=df[['age','sex','bmi','bp','s1','s2','s3','s4','s5','s6']].values\n",
    "y=diabetes.target\n",
    "print(X.shape)\n",
    "print(y.shape)"
   ]
  },
  {
   "cell_type": "code",
   "execution_count": 45,
   "id": "03f4bdf4",
   "metadata": {},
   "outputs": [],
   "source": [
    "X_train, X_test, y_train, y_test = train_test_split(X, \n",
    "                                                    y, \n",
    "                                                    test_size=0.2, \n",
    "                                                    random_state=777) "
   ]
  },
  {
   "cell_type": "code",
   "execution_count": 160,
   "id": "e50c3a6c",
   "metadata": {},
   "outputs": [
    {
     "name": "stdout",
     "output_type": "stream",
     "text": [
      "(353, 10) (353,)\n",
      "(89, 10) (89,)\n"
     ]
    }
   ],
   "source": [
    "print(X_train.shape,y_train.shape)\n",
    "print(X_test.shape,y_test.shape)"
   ]
  },
  {
   "cell_type": "code",
   "execution_count": 187,
   "id": "c3839160",
   "metadata": {},
   "outputs": [],
   "source": [
    "W = np.random.rand(10)\n",
    "b = np.random.rand()"
   ]
  },
  {
   "cell_type": "code",
   "execution_count": 188,
   "id": "c612025d",
   "metadata": {},
   "outputs": [
    {
     "data": {
      "text/plain": [
       "array([0.37573242, 0.22236174, 0.73516826, 0.52430406, 0.23925888,\n",
       "       0.69209351, 0.66942903, 0.24556516, 0.77853998, 0.85524896])"
      ]
     },
     "execution_count": 188,
     "metadata": {},
     "output_type": "execute_result"
    }
   ],
   "source": [
    "W"
   ]
  },
  {
   "cell_type": "code",
   "execution_count": 189,
   "id": "a8d793b0",
   "metadata": {},
   "outputs": [
    {
     "data": {
      "text/plain": [
       "0.14518584782464472"
      ]
     },
     "execution_count": 189,
     "metadata": {},
     "output_type": "execute_result"
    }
   ],
   "source": [
    "b"
   ]
  },
  {
   "cell_type": "code",
   "execution_count": 164,
   "id": "c61736a1",
   "metadata": {},
   "outputs": [],
   "source": [
    "def model(X, W, b):\n",
    "    predictions = 0\n",
    "    for i in range(10):\n",
    "        predictions += X[:, i] * W[i]\n",
    "    predictions += b\n",
    "    return predictions"
   ]
  },
  {
   "cell_type": "code",
   "execution_count": 134,
   "id": "a9b1ae24",
   "metadata": {},
   "outputs": [],
   "source": [
    "def MSE(a, b):\n",
    "    mse = ((a - b) ** 2).mean()\n",
    "    return mse"
   ]
  },
  {
   "cell_type": "code",
   "execution_count": 135,
   "id": "dcc1de9f",
   "metadata": {},
   "outputs": [],
   "source": [
    "def loss(X, W, b, y):\n",
    "    predictions = model(X, W, b)\n",
    "    L = MSE(predictions, y)\n",
    "    return L"
   ]
  },
  {
   "cell_type": "code",
   "execution_count": 200,
   "id": "511323d3",
   "metadata": {},
   "outputs": [
    {
     "name": "stdout",
     "output_type": "stream",
     "text": [
      "dW: [ 0.09471584  0.07625155 -0.03273491 -0.02485184  0.14385681  0.06263861\n",
      "  0.0434712   0.06169215  0.03045681 -0.02488045]\n",
      "db: -5.177002178089816\n"
     ]
    }
   ],
   "source": [
    "def gradient(X, W, b, y):\n",
    "    # N은 데이터 포인트의 개수\n",
    "    N = len(y)\n",
    "    \n",
    "    y_pred = model(X, W, b)\n",
    "    \n",
    "    dW = 1/N * 2 * X.T.dot(y_pred - y)\n",
    "        \n",
    "    db = 2 * (y_pred - y).mean()\n",
    "    return dW, db\n",
    "dW, db = gradient(X, W, b, y)\n",
    "print(\"dW:\", dW)\n",
    "print(\"db:\", db)"
   ]
  },
  {
   "cell_type": "code",
   "execution_count": 195,
   "id": "67a6bad3",
   "metadata": {},
   "outputs": [
    {
     "name": "stdout",
     "output_type": "stream",
     "text": [
      "Iteration 10 : Loss 3293.7485\n",
      "Iteration 20 : Loss 3032.6443\n",
      "Iteration 30 : Loss 3029.6257\n",
      "Iteration 40 : Loss 3029.5825\n",
      "Iteration 50 : Loss 3029.5737\n",
      "Iteration 60 : Loss 3029.5653\n",
      "Iteration 70 : Loss 3029.5569\n",
      "Iteration 80 : Loss 3029.5486\n",
      "Iteration 90 : Loss 3029.5403\n",
      "Iteration 100 : Loss 3029.5321\n",
      "Iteration 110 : Loss 3029.5238\n",
      "Iteration 120 : Loss 3029.5156\n",
      "Iteration 130 : Loss 3029.5075\n",
      "Iteration 140 : Loss 3029.4994\n",
      "Iteration 150 : Loss 3029.4913\n",
      "Iteration 160 : Loss 3029.4832\n",
      "Iteration 170 : Loss 3029.4752\n",
      "Iteration 180 : Loss 3029.4671\n",
      "Iteration 190 : Loss 3029.4592\n",
      "Iteration 200 : Loss 3029.4512\n",
      "Iteration 210 : Loss 3029.4433\n",
      "Iteration 220 : Loss 3029.4354\n",
      "Iteration 230 : Loss 3029.4276\n",
      "Iteration 240 : Loss 3029.4198\n",
      "Iteration 250 : Loss 3029.4120\n",
      "Iteration 260 : Loss 3029.4042\n",
      "Iteration 270 : Loss 3029.3965\n",
      "Iteration 280 : Loss 3029.3888\n",
      "Iteration 290 : Loss 3029.3811\n",
      "Iteration 300 : Loss 3029.3735\n",
      "Iteration 310 : Loss 3029.3659\n",
      "Iteration 320 : Loss 3029.3583\n",
      "Iteration 330 : Loss 3029.3507\n",
      "Iteration 340 : Loss 3029.3432\n",
      "Iteration 350 : Loss 3029.3357\n",
      "Iteration 360 : Loss 3029.3282\n",
      "Iteration 370 : Loss 3029.3208\n",
      "Iteration 380 : Loss 3029.3134\n",
      "Iteration 390 : Loss 3029.3060\n",
      "Iteration 400 : Loss 3029.2986\n",
      "Iteration 410 : Loss 3029.2913\n",
      "Iteration 420 : Loss 3029.2840\n",
      "Iteration 430 : Loss 3029.2767\n",
      "Iteration 440 : Loss 3029.2694\n",
      "Iteration 450 : Loss 3029.2622\n",
      "Iteration 460 : Loss 3029.2550\n",
      "Iteration 470 : Loss 3029.2478\n",
      "Iteration 480 : Loss 3029.2407\n",
      "Iteration 490 : Loss 3029.2336\n",
      "Iteration 500 : Loss 3029.2265\n",
      "Iteration 510 : Loss 3029.2194\n",
      "Iteration 520 : Loss 3029.2123\n",
      "Iteration 530 : Loss 3029.2053\n",
      "Iteration 540 : Loss 3029.1983\n",
      "Iteration 550 : Loss 3029.1914\n",
      "Iteration 560 : Loss 3029.1844\n",
      "Iteration 570 : Loss 3029.1775\n",
      "Iteration 580 : Loss 3029.1706\n",
      "Iteration 590 : Loss 3029.1637\n",
      "Iteration 600 : Loss 3029.1569\n",
      "Iteration 610 : Loss 3029.1501\n",
      "Iteration 620 : Loss 3029.1433\n",
      "Iteration 630 : Loss 3029.1365\n",
      "Iteration 640 : Loss 3029.1297\n",
      "Iteration 650 : Loss 3029.1230\n",
      "Iteration 660 : Loss 3029.1163\n",
      "Iteration 670 : Loss 3029.1096\n",
      "Iteration 680 : Loss 3029.1030\n",
      "Iteration 690 : Loss 3029.0963\n",
      "Iteration 700 : Loss 3029.0897\n",
      "Iteration 710 : Loss 3029.0831\n",
      "Iteration 720 : Loss 3029.0766\n",
      "Iteration 730 : Loss 3029.0700\n",
      "Iteration 740 : Loss 3029.0635\n",
      "Iteration 750 : Loss 3029.0570\n",
      "Iteration 760 : Loss 3029.0505\n",
      "Iteration 770 : Loss 3029.0441\n",
      "Iteration 780 : Loss 3029.0377\n",
      "Iteration 790 : Loss 3029.0313\n",
      "Iteration 800 : Loss 3029.0249\n",
      "Iteration 810 : Loss 3029.0185\n",
      "Iteration 820 : Loss 3029.0122\n",
      "Iteration 830 : Loss 3029.0058\n",
      "Iteration 840 : Loss 3028.9995\n",
      "Iteration 850 : Loss 3028.9933\n",
      "Iteration 860 : Loss 3028.9870\n",
      "Iteration 870 : Loss 3028.9808\n",
      "Iteration 880 : Loss 3028.9745\n",
      "Iteration 890 : Loss 3028.9683\n",
      "Iteration 900 : Loss 3028.9622\n",
      "Iteration 910 : Loss 3028.9560\n",
      "Iteration 920 : Loss 3028.9499\n",
      "Iteration 930 : Loss 3028.9437\n",
      "Iteration 940 : Loss 3028.9377\n",
      "Iteration 950 : Loss 3028.9316\n",
      "Iteration 960 : Loss 3028.9255\n",
      "Iteration 970 : Loss 3028.9195\n",
      "Iteration 980 : Loss 3028.9135\n",
      "Iteration 990 : Loss 3028.9075\n",
      "Iteration 1000 : Loss 3028.9015\n"
     ]
    }
   ],
   "source": [
    "LEARNING_RATE = 0.1\n",
    "losses = []\n",
    "\n",
    "for i in range(1, 1001):\n",
    "    dW, db = gradient(X_train, W, b, y_train)\n",
    "    W -= LEARNING_RATE * dW\n",
    "    b -= LEARNING_RATE * db\n",
    "    L = loss(X_train, W, b, y_train)\n",
    "    losses.append(L)\n",
    "    if i % 10 == 0:\n",
    "        print('Iteration %d : Loss %0.4f' % (i, L))"
   ]
  },
  {
   "cell_type": "code",
   "execution_count": 196,
   "id": "60d94ebc",
   "metadata": {},
   "outputs": [
    {
     "data": {
      "image/png": "[encoded data removed]",
      "text/plain": [
       "<Figure size 432x288 with 1 Axes>"
      ]
     },
     "metadata": {
      "needs_background": "light"
     },
     "output_type": "display_data"
    }
   ],
   "source": [
    "import matplotlib.pyplot as plt\n",
    "plt.plot(losses)\n",
    "plt.show()"
   ]
  },
  {
   "cell_type": "code",
   "execution_count": 197,
   "id": "3fb297ad",
   "metadata": {},
   "outputs": [
    {
     "data": {
      "text/plain": [
       "array([  14.34098609, -212.57193759,  525.39896836,  306.55903079,\n",
       "        -51.13296953, -127.47080783, -164.61070755,  155.86915972,\n",
       "        476.76835295,   51.81243558])"
      ]
     },
     "execution_count": 197,
     "metadata": {},
     "output_type": "execute_result"
    }
   ],
   "source": [
    "W"
   ]
  },
  {
   "cell_type": "code",
   "execution_count": 198,
   "id": "99f971fa",
   "metadata": {},
   "outputs": [
    {
     "data": {
      "text/plain": [
       "149.5449830738515"
      ]
     },
     "execution_count": 198,
     "metadata": {},
     "output_type": "execute_result"
    }
   ],
   "source": [
    "b"
   ]
  },
  {
   "cell_type": "code",
   "execution_count": 199,
   "id": "4516d848",
   "metadata": {},
   "outputs": [
    {
     "data": {
      "text/plain": [
       "2352.389906594707"
      ]
     },
     "execution_count": 199,
     "metadata": {},
     "output_type": "execute_result"
    }
   ],
   "source": [
    "prediction = model(X_test, W, b) #X값에 X_test 대입\n",
    "mse = loss(X_test, W, b, y_test)\n",
    "mse"
   ]
  },
  {
   "cell_type": "code",
   "execution_count": 207,
   "id": "9a6cfda4",
   "metadata": {},
   "outputs": [
    {
     "data": {
      "image/png": "[encoded data removed]",
      "text/plain": [
       "<Figure size 432x288 with 1 Axes>"
      ]
     },
     "metadata": {
      "needs_background": "light"
     },
     "output_type": "display_data"
    }
   ],
   "source": [
    "predictions = model(X_test, W, b)\n",
    "plt.scatter(X_test[:, 0], y_test, label=\"Actual_Values\")\n",
    "plt.scatter(X_test[:, 0], predictions, label=\"Predictions\")\n",
    "plt.legend()\n",
    "plt.show()"
   ]
  },
  {
   "cell_type": "markdown",
   "id": "e37cddfe",
   "metadata": {},
   "source": [
    "노드를 보고 따라한 것이긴 하지만, 실제로 있는 라이브러리를 쓴것이 아니라,   \n",
    "코드를 직접 써보면서 모델이나, MSE가 어떤식으로 구성 되어 있는지 볼 수 있는 기회였다.   \n",
    "예전에 OKR을 진행할 때, MSE, RMSE등을 손코딩 해봤냐는 질문이 있었는데, 그 때는 미쳐 해보지 못했었다.   \n",
    "하지만 이번 기회에 이렇게 원리를 알고 직접 코딩을 할 수 있어서 아주 괜찮은 기회였던 것 같다.   \n",
    "처음에 데이터를 저장할 때 조금 버거웠지만, 그래도 곧잘 되어서 큰 어려움 없이 할 수 있었던 것 같다.\n",
    "MSE 값이 2352정도로 나왔다, 마지막 예측 값과 실제 값도 어느 정도 유사성을 띄고 있는 것 같다."
   ]
  }
 ],
 "metadata": {
  "kernelspec": {
   "display_name": "Python 3 (ipykernel)",
   "language": "python",
   "name": "python3"
  },
  "language_info": {
   "codemirror_mode": {
    "name": "ipython",
    "version": 3
   },
   "file_extension": ".py",
   "mimetype": "text/x-python",
   "name": "python",
   "nbconvert_exporter": "python",
   "pygments_lexer": "ipython3",
   "version": "3.9.7"
  }
 },
 "nbformat": 4,
 "nbformat_minor": 5
}
