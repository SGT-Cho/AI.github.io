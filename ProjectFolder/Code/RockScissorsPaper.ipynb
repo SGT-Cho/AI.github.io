{
 "cells": [
  {
   "cell_type": "code",
   "execution_count": 1,
   "metadata": {},
   "outputs": [],
   "source": [
    "from PIL import Image\n",
    "import glob\n",
    "import os\n",
    "import tensorflow as tf\n",
    "from tensorflow import keras\n",
    "from keras.layers import Dropout\n",
    "import numpy as np\n",
    "import matplotlib.pyplot as plt\n",
    "import os\n"
   ]
  },
  {
   "cell_type": "code",
   "execution_count": 2,
   "metadata": {},
   "outputs": [
    {
     "name": "stdout",
     "output_type": "stream",
     "text": [
      "3202  images to be resized.\n"
     ]
    },
    {
     "name": "stderr",
     "output_type": "stream",
     "text": [
      "c:\\Users\\lenovo\\Anaconda3\\envs\\condanote\\lib\\site-packages\\ipykernel_launcher.py:10: DeprecationWarning: ANTIALIAS is deprecated and will be removed in Pillow 10 (2023-07-01). Use Resampling.LANCZOS instead.\n",
      "  # Remove the CWD from sys.path while we load stuff.\n"
     ]
    },
    {
     "name": "stdout",
     "output_type": "stream",
     "text": [
      "3202  images resized.\n",
      "2874  images to be resized.\n",
      "2874  images resized.\n",
      "2802  images to be resized.\n",
      "2802  images resized.\n",
      "100  images to be resized.\n",
      "100  images resized.\n",
      "100  images to be resized.\n",
      "100  images resized.\n",
      "100  images to be resized.\n",
      "100  images resized.\n"
     ]
    },
    {
     "data": {
      "text/plain": [
       "'\\nimage_dir_path7 = os.path.realpath(\"C:/Users/lenovo/Desktop/AiffelNode/Project/rock_scissors_paper_val/rock\")\\nresize_images(image_dir_path7)\\nimage_dir_path8 = os.path.realpath(\"C:/Users/lenovo/Desktop/AiffelNode/Project/rock_scissors_paper_val/scissors\")\\nresize_images(image_dir_path8)\\nimage_dir_path9 = os.path.realpath(\"C:/Users/lenovo/Desktop/AiffelNode/Project/rock_scissors_paper_val/paper\")\\nresize_images(image_dir_path9)\\n'"
      ]
     },
     "execution_count": 2,
     "metadata": {},
     "output_type": "execute_result"
    }
   ],
   "source": [
    "def resize_images(img_path):\n",
    "\timages=glob.glob(img_path + \"/*.jpg\")  \n",
    "    \n",
    "\tprint(len(images), \" images to be resized.\")\n",
    "\n",
    "    # 파일마다 모두 28x28 사이즈로 바꾸어 저장합니다.\n",
    "\ttarget_size=(28,28)\n",
    "\tfor img in images:\n",
    "\t\told_img=Image.open(img)\n",
    "\t\tnew_img=old_img.resize(target_size,Image.ANTIALIAS)\n",
    "\t\tnew_img.save(img, \"JPEG\")\n",
    "    \n",
    "\tprint(len(images), \" images resized.\")\n",
    "\t\n",
    "# 가위 이미지가 저장된 디렉토리 아래의 모든 jpg 파일을 읽어들여서\n",
    "image_dir_path1 = os.path.realpath(\"C:/Users/lenovo/Desktop/AiffelNode/Project/rock_scissors_paper_train/rock\")\n",
    "resize_images(image_dir_path1)\n",
    "image_dir_path2 = os.path.realpath(\"C:/Users/lenovo/Desktop/AiffelNode/Project/rock_scissors_paper_train/scissors\")\n",
    "resize_images(image_dir_path2)\n",
    "image_dir_path3 = os.path.realpath(\"C:/Users/lenovo/Desktop/AiffelNode/Project/rock_scissors_paper_train/paper\")\n",
    "resize_images(image_dir_path3)\n",
    "\n",
    "\n",
    "image_dir_path4 = os.path.realpath(\"C:/Users/lenovo/Desktop/AiffelNode/Project/rock_scissors_paper_test/rock\")\n",
    "resize_images(image_dir_path4)\n",
    "image_dir_path5 = os.path.realpath(\"C:/Users/lenovo/Desktop/AiffelNode/Project/rock_scissors_paper_test/scissors\")\n",
    "resize_images(image_dir_path5)\n",
    "image_dir_path6 = os.path.realpath(\"C:/Users/lenovo/Desktop/AiffelNode/Project/rock_scissors_paper_test/paper\")\n",
    "resize_images(image_dir_path6)\n",
    "\n",
    "\"\"\"\n",
    "image_dir_path7 = os.path.realpath(\"C:/Users/lenovo/Desktop/AiffelNode/Project/rock_scissors_paper_val/rock\")\n",
    "resize_images(image_dir_path7)\n",
    "image_dir_path8 = os.path.realpath(\"C:/Users/lenovo/Desktop/AiffelNode/Project/rock_scissors_paper_val/scissors\")\n",
    "resize_images(image_dir_path8)\n",
    "image_dir_path9 = os.path.realpath(\"C:/Users/lenovo/Desktop/AiffelNode/Project/rock_scissors_paper_val/paper\")\n",
    "resize_images(image_dir_path9)\n",
    "\"\"\"\n",
    "\n"
   ]
  },
  {
   "cell_type": "code",
   "execution_count": 3,
   "metadata": {},
   "outputs": [
    {
     "name": "stdout",
     "output_type": "stream",
     "text": [
      "x_train shape: (8878, 28, 28, 3)\n",
      "y_train shape: (8878,)\n",
      "x_test shape: (300, 28, 28, 3)\n",
      "y_test shape: (300,)\n",
      "x_val shape: (150, 28, 28, 3)\n",
      "y_val shape: (150,)\n"
     ]
    }
   ],
   "source": [
    "def load_data(img_path, number_of_data=300):  # 가위바위보 이미지 개수 총합에 주의하세요.\n",
    "    # 가위 : 0, 바위 : 1, 보 : 2\n",
    "    img_size=28\n",
    "    color=3\n",
    "    #이미지 데이터와 라벨(가위 : 0, 바위 : 1, 보 : 2) 데이터를 담을 행렬(matrix) 영역을 생성합니다.\n",
    "    imgs=np.zeros(number_of_data*img_size*img_size*color,dtype=np.int32).reshape(number_of_data,img_size,img_size,color)\n",
    "    labels=np.zeros(number_of_data,dtype=np.int32)\n",
    "\n",
    "    idx=0\n",
    "    for file in glob.iglob(img_path+'/scissors/*.jpg'):\n",
    "        img = np.array(Image.open(file),dtype=np.int32)\n",
    "        imgs[idx,:,:,:]=img    # 데이터 영역에 이미지 행렬을 복사\n",
    "        labels[idx]=0   # 가위 : 0\n",
    "        idx=idx+1\n",
    "\n",
    "    for file in glob.iglob(img_path+'/rock/*.jpg'):\n",
    "        img = np.array(Image.open(file),dtype=np.int32)\n",
    "        imgs[idx,:,:,:]=img    # 데이터 영역에 이미지 행렬을 복사\n",
    "        labels[idx]=1   # 바위 : 1\n",
    "        idx=idx+1  \n",
    "    \n",
    "    for file in glob.iglob(img_path+'/paper/*.jpg'):\n",
    "        img = np.array(Image.open(file),dtype=np.int32)\n",
    "        imgs[idx,:,:,:]=img    # 데이터 영역에 이미지 행렬을 복사\n",
    "        labels[idx]=2   # 보 : 2\n",
    "        idx=idx+1\n",
    "        \n",
    "    #print(\"학습데이터(x_train)의 이미지 개수는\", idx,\"입니다.\")\n",
    "    return imgs, labels\n",
    "\n",
    "\n",
    "def load_data11(img_path, number_of_data=150):  # 가위바위보 이미지 개수 총합에 주의하세요.\n",
    "    # 가위 : 0, 바위 : 1, 보 : 2\n",
    "    img_size=28\n",
    "    color=3\n",
    "    #이미지 데이터와 라벨(가위 : 0, 바위 : 1, 보 : 2) 데이터를 담을 행렬(matrix) 영역을 생성합니다.\n",
    "    imgs=np.zeros(number_of_data*img_size*img_size*color,dtype=np.int32).reshape(number_of_data,img_size,img_size,color)\n",
    "    labels=np.zeros(number_of_data,dtype=np.int32)\n",
    "\n",
    "    idx=0\n",
    "    for file in glob.iglob(img_path+'/scissors/*.png'):\n",
    "        img = np.array(Image.open(file),dtype=np.int32)\n",
    "        imgs[idx,:,:,:]=img    # 데이터 영역에 이미지 행렬을 복사\n",
    "        labels[idx]=0   # 가위 : 0\n",
    "        idx=idx+1\n",
    "\n",
    "    for file in glob.iglob(img_path+'/rock/*.png'):\n",
    "        img = np.array(Image.open(file),dtype=np.int32)\n",
    "        imgs[idx,:,:,:]=img    # 데이터 영역에 이미지 행렬을 복사\n",
    "        labels[idx]=1   # 바위 : 1\n",
    "        idx=idx+1  \n",
    "    \n",
    "    for file in glob.iglob(img_path+'/paper/*.png'):\n",
    "        img = np.array(Image.open(file),dtype=np.int32)\n",
    "        imgs[idx,:,:,:]=img    # 데이터 영역에 이미지 행렬을 복사\n",
    "        labels[idx]=2   # 보 : 2\n",
    "        idx=idx+1\n",
    "        \n",
    "    #print(\"학습데이터(x_train)의 이미지 개수는\", idx,\"입니다.\")\n",
    "    return imgs, labels\n",
    "\n",
    "\n",
    "\n",
    "image_dir_path11 = os.path.realpath(\"C:/Users/lenovo/Desktop/AiffelNode/Project/rock_scissors_paper_train\")\n",
    "(x_train, y_train)=load_data(image_dir_path11, number_of_data=8878)\n",
    "x_train_norm = x_train/255.0   # 입력은 0~1 사이의 값으로 정규화\n",
    "\n",
    "image_dir_path22 = os.path.realpath(\"C:/Users/lenovo/Desktop/AiffelNode/Project/rock_scissors_paper_test\")\n",
    "(x_test, y_test)=load_data(image_dir_path22)\n",
    "x_test_norm = x_test/255.0   # 입력은 0~1 사이의 값으로 정규화\n",
    "\n",
    "image_dir_path33 = os.path.realpath(\"C:/Users/lenovo/Desktop/AiffelNode/Project/rock_scissors_paper_val\")\n",
    "(x_val, y_val)=load_data11(image_dir_path33, number_of_data=150)\n",
    "x_val_norm = x_val/255.0   # 입력은 0~1 사이의 값으로 정규화\n",
    "\n",
    "\n",
    "print(\"x_train shape: {}\".format(x_train.shape))\n",
    "print(\"y_train shape: {}\".format(y_train.shape))\n",
    "\n",
    "print(\"x_test shape: {}\".format(x_test.shape))\n",
    "print(\"y_test shape: {}\".format(y_test.shape))\n",
    "\n",
    "print(\"x_val shape: {}\".format(x_val.shape))\n",
    "print(\"y_val shape: {}\".format(y_val.shape))\n"
   ]
  },
  {
   "cell_type": "code",
   "execution_count": 4,
   "metadata": {},
   "outputs": [
    {
     "name": "stdout",
     "output_type": "stream",
     "text": [
      "Model에 추가된 Layer 개수:  9\n"
     ]
    }
   ],
   "source": [
    "model=keras.models.Sequential()\n",
    "model.add(keras.layers.Conv2D(16, (3,3), activation='relu', input_shape=(28,28,3)))\n",
    "model.add(keras.layers.MaxPool2D(2,2))\n",
    "model.add(Dropout(0.5))\n",
    "model.add(keras.layers.Conv2D(32, (3,3), activation='relu'))\n",
    "model.add(keras.layers.MaxPooling2D((2,2)))\n",
    "model.add(keras.layers.Flatten())\n",
    "model.add(keras.layers.Dense(32, activation='relu'))\n",
    "model.add(Dropout(0.5))\n",
    "model.add(keras.layers.Dense(3, activation='softmax'))\n",
    "\n",
    "print('Model에 추가된 Layer 개수: ', len(model.layers))"
   ]
  },
  {
   "cell_type": "code",
   "execution_count": 5,
   "metadata": {},
   "outputs": [
    {
     "name": "stdout",
     "output_type": "stream",
     "text": [
      "Before Reshape - x_train_norm shape: (8878, 28, 28, 3)\n",
      "Before Reshape - x_test_norm shape: (300, 28, 28, 3)\n",
      "After Reshape - x_train_reshaped shape: (8878, 28, 28, 3)\n",
      "After Reshape - x_test_reshaped shape: (300, 28, 28, 3)\n"
     ]
    }
   ],
   "source": [
    "print(f\"Before Reshape - x_train_norm shape: {x_train_norm.shape}\")\n",
    "print(f\"Before Reshape - x_test_norm shape: {x_test_norm.shape}\")\n",
    "\n",
    "x_train_reshaped=x_train_norm.reshape(-1,28, 28, 3)  # 데이터갯수에 -1을 쓰면 reshape시 자동계산됩니다.\n",
    "x_test_reshaped=x_test_norm.reshape(-1,28, 28,3)\n",
    "x_val_reshaped=x_val_norm.reshape(-1,28, 28,3)\n",
    "print(f\"After Reshape - x_train_reshaped shape: {x_train_reshaped.shape}\")\n",
    "print(f\"After Reshape - x_test_reshaped shape: {x_test_reshaped.shape}\")"
   ]
  },
  {
   "cell_type": "code",
   "execution_count": 6,
   "metadata": {},
   "outputs": [
    {
     "name": "stdout",
     "output_type": "stream",
     "text": [
      "Epoch 1/20\n",
      "278/278 [==============================] - 5s 5ms/step - loss: 0.9750 - accuracy: 0.5061 - val_loss: 0.8356 - val_accuracy: 0.8067\n",
      "Epoch 2/20\n",
      "278/278 [==============================] - 1s 4ms/step - loss: 0.6184 - accuracy: 0.7458 - val_loss: 0.4896 - val_accuracy: 0.8600\n",
      "Epoch 3/20\n",
      "278/278 [==============================] - 1s 4ms/step - loss: 0.4154 - accuracy: 0.8435 - val_loss: 0.3205 - val_accuracy: 0.9600\n",
      "Epoch 4/20\n",
      "278/278 [==============================] - 1s 4ms/step - loss: 0.3297 - accuracy: 0.8802 - val_loss: 0.3227 - val_accuracy: 0.8867\n",
      "Epoch 5/20\n",
      "278/278 [==============================] - 1s 4ms/step - loss: 0.2732 - accuracy: 0.8989 - val_loss: 0.3246 - val_accuracy: 0.9533\n",
      "Epoch 6/20\n",
      "278/278 [==============================] - 1s 4ms/step - loss: 0.2230 - accuracy: 0.9190 - val_loss: 0.2812 - val_accuracy: 0.9600\n",
      "Epoch 7/20\n",
      "278/278 [==============================] - 1s 4ms/step - loss: 0.1964 - accuracy: 0.9248 - val_loss: 0.2637 - val_accuracy: 0.9600\n",
      "Epoch 8/20\n",
      "278/278 [==============================] - 1s 4ms/step - loss: 0.1846 - accuracy: 0.9269 - val_loss: 0.1752 - val_accuracy: 0.9667\n",
      "Epoch 9/20\n",
      "278/278 [==============================] - 1s 3ms/step - loss: 0.1657 - accuracy: 0.9375 - val_loss: 0.1959 - val_accuracy: 0.9667\n",
      "Epoch 10/20\n",
      "278/278 [==============================] - 1s 3ms/step - loss: 0.1437 - accuracy: 0.9457 - val_loss: 0.2368 - val_accuracy: 0.9600\n",
      "Epoch 11/20\n",
      "278/278 [==============================] - 1s 3ms/step - loss: 0.1269 - accuracy: 0.9534 - val_loss: 0.1540 - val_accuracy: 0.9667\n",
      "Epoch 12/20\n",
      "278/278 [==============================] - 1s 3ms/step - loss: 0.1205 - accuracy: 0.9529 - val_loss: 0.2031 - val_accuracy: 0.9667\n",
      "Epoch 13/20\n",
      "278/278 [==============================] - 1s 3ms/step - loss: 0.1097 - accuracy: 0.9567 - val_loss: 0.2655 - val_accuracy: 0.9600\n",
      "Epoch 14/20\n",
      "278/278 [==============================] - 1s 3ms/step - loss: 0.0982 - accuracy: 0.9623 - val_loss: 0.3888 - val_accuracy: 0.9600\n",
      "Epoch 15/20\n",
      "278/278 [==============================] - 1s 3ms/step - loss: 0.1065 - accuracy: 0.9578 - val_loss: 0.1910 - val_accuracy: 0.9600\n",
      "Epoch 16/20\n",
      "278/278 [==============================] - 1s 3ms/step - loss: 0.0913 - accuracy: 0.9647 - val_loss: 0.2225 - val_accuracy: 0.9600\n",
      "Epoch 17/20\n",
      "278/278 [==============================] - 1s 3ms/step - loss: 0.0871 - accuracy: 0.9647 - val_loss: 0.2800 - val_accuracy: 0.9600\n",
      "Epoch 18/20\n",
      "278/278 [==============================] - 1s 3ms/step - loss: 0.0909 - accuracy: 0.9620 - val_loss: 0.1836 - val_accuracy: 0.9600\n",
      "Epoch 19/20\n",
      "278/278 [==============================] - 1s 3ms/step - loss: 0.0862 - accuracy: 0.9663 - val_loss: 0.1562 - val_accuracy: 0.9600\n",
      "Epoch 20/20\n",
      "278/278 [==============================] - 1s 3ms/step - loss: 0.0808 - accuracy: 0.9676 - val_loss: 0.3008 - val_accuracy: 0.9600\n"
     ]
    }
   ],
   "source": [
    "callbacks=[keras.callbacks.ModelCheckpoint(filepath='feature_extraction.keras',\n",
    "                                           monitor=\"val_loss\")\n",
    "           ]\n",
    "\n",
    "model.compile(optimizer='adam',\n",
    "             loss='sparse_categorical_crossentropy',\n",
    "             metrics=['accuracy'])\n",
    "\n",
    "hist= model.fit(x_train_reshaped, y_train, epochs=20,validation_data=(x_val_reshaped,y_val),callbacks=callbacks)\n"
   ]
  },
  {
   "cell_type": "code",
   "execution_count": 7,
   "metadata": {},
   "outputs": [
    {
     "data": {
      "image/png": "[encoded data removed]",
      "text/plain": [
       "<Figure size 640x480 with 1 Axes>"
      ]
     },
     "metadata": {},
     "output_type": "display_data"
    },
    {
     "data": {
      "image/png": "[encoded data removed]",
      "text/plain": [
       "<Figure size 640x480 with 1 Axes>"
      ]
     },
     "metadata": {},
     "output_type": "display_data"
    }
   ],
   "source": [
    "import matplotlib.pyplot as plt\n",
    "accuracy = hist.history[\"accuracy\"]\n",
    "val_accuracy = hist.history[\"val_accuracy\"]\n",
    "loss = hist.history[\"loss\"]\n",
    "val_loss = hist.history[\"val_loss\"]\n",
    "epochs = range(1, len(accuracy) + 1)\n",
    "plt.plot(epochs, accuracy, \"bo\", label=\"Training accuracy\")\n",
    "plt.plot(epochs, val_accuracy, \"b\", label=\"Validation accuracy\")\n",
    "plt.title(\"Training and validation accuracy\")\n",
    "plt.legend()\n",
    "plt.figure()\n",
    "plt.plot(epochs, loss, \"bo\", label=\"Training loss\")\n",
    "plt.plot(epochs, val_loss, \"b\", label=\"Validation loss\")\n",
    "plt.title(\"Training and validation loss\")\n",
    "plt.legend()\n",
    "plt.show()"
   ]
  },
  {
   "cell_type": "code",
   "execution_count": 8,
   "metadata": {},
   "outputs": [
    {
     "name": "stdout",
     "output_type": "stream",
     "text": [
      "10/10 - 0s - loss: 0.7502 - accuracy: 0.6900 - 68ms/epoch - 7ms/step\n",
      "test_loss: 0.7501950263977051\n",
      "test_accuracy: 0.6899999976158142\n"
     ]
    }
   ],
   "source": [
    "test_loss, test_accuracy = model.evaluate(x_test_reshaped,y_test, verbose=2)\n",
    "print(f\"test_loss: {test_loss}\")\n",
    "print(f\"test_accuracy: {test_accuracy}\")"
   ]
  }
 ],
 "metadata": {
  "kernelspec": {
   "display_name": "condanote",
   "language": "python",
   "name": "python3"
  },
  "language_info": {
   "codemirror_mode": {
    "name": "ipython",
    "version": 3
   },
   "file_extension": ".py",
   "mimetype": "text/x-python",
   "name": "python",
   "nbconvert_exporter": "python",
   "pygments_lexer": "ipython3",
   "version": "3.7.15"
  },
  "orig_nbformat": 4,
  "vscode": {
   "interpreter": {
    "hash": "e8809836c31febb0e1eed70cc776de53145cc38ee8e8ba273488a2913c805b88"
   }
  }
 },
 "nbformat": 4,
 "nbformat_minor": 2
}
