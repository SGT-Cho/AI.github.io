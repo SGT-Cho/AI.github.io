{
 "cells": [
  {
   "cell_type": "code",
   "execution_count": 1,
   "id": "cf908a7c",
   "metadata": {},
   "outputs": [],
   "source": [
    "import pandas as pd\n",
    "import numpy as np\n",
    "import matplotlib.pyplot as plt\n",
    "import seaborn as sns\n",
    "\n",
    "entry_data = pd.read_csv('~/aiffel/data_analysis_basic/data/entry_data.csv')\n",
    "sales_data = pd.read_csv('~/aiffel/data_analysis_basic/data/sales_data.csv')\n",
    "item_data = pd.read_csv('~/aiffel/data_analysis_basic/data/item_data.csv')\n",
    "item_entry_data = pd.read_csv('~/aiffel/data_analysis_basic/data/item_entry_data.csv')"
   ]
  },
  {
   "cell_type": "code",
   "execution_count": 2,
   "id": "b7f2ffac",
   "metadata": {},
   "outputs": [
    {
     "name": "stdout",
     "output_type": "stream",
     "text": [
      "<class 'pandas.core.frame.DataFrame'>\n",
      "RangeIndex: 22555 entries, 0 to 22554\n",
      "Data columns (total 8 columns):\n",
      " #   Column  Non-Null Count  Dtype \n",
      "---  ------  --------------  ----- \n",
      " 0   요금제명    22292 non-null  object\n",
      " 1   입실      22555 non-null  object\n",
      " 2   퇴실      22555 non-null  object\n",
      " 3   이용      22533 non-null  object\n",
      " 4   위치      22555 non-null  object\n",
      " 5   금액      22555 non-null  int64 \n",
      " 6   구분      22555 non-null  object\n",
      " 7   고객      22555 non-null  object\n",
      "dtypes: int64(1), object(7)\n",
      "memory usage: 1.4+ MB\n",
      "<class 'pandas.core.frame.DataFrame'>\n",
      "RangeIndex: 174 entries, 0 to 173\n",
      "Data columns (total 4 columns):\n",
      " #   Column  Non-Null Count  Dtype \n",
      "---  ------  --------------  ----- \n",
      " 0   구분      174 non-null    int64 \n",
      " 1   분류      174 non-null    object\n",
      " 2   상품명     174 non-null    object\n",
      " 3   판매금액    174 non-null    object\n",
      "dtypes: int64(1), object(3)\n",
      "memory usage: 5.6+ KB\n",
      "<class 'pandas.core.frame.DataFrame'>\n",
      "RangeIndex: 34 entries, 0 to 33\n",
      "Data columns (total 4 columns):\n",
      " #   Column  Non-Null Count  Dtype \n",
      "---  ------  --------------  ----- \n",
      " 0   순위      34 non-null     int64 \n",
      " 1   분류      34 non-null     object\n",
      " 2   상품명     34 non-null     object\n",
      " 3   판매금액    34 non-null     object\n",
      "dtypes: int64(1), object(3)\n",
      "memory usage: 1.2+ KB\n"
     ]
    }
   ],
   "source": [
    "entry_data.info()\n",
    "sales_data\n",
    "item_data.info()\n",
    "item_entry_data.info()"
   ]
  },
  {
   "cell_type": "code",
   "execution_count": 3,
   "id": "45a27e5a",
   "metadata": {},
   "outputs": [
    {
     "data": {
      "text/plain": [
       "0        4,500\n",
       "1        5,500\n",
       "2        4,000\n",
       "3        1,000\n",
       "4        5,000\n",
       "         ...  \n",
       "7100    -3,500\n",
       "7101     4,500\n",
       "7102    -4,500\n",
       "7103     4,000\n",
       "7104    -4,000\n",
       "Name: 결제금액, Length: 7105, dtype: object"
      ]
     },
     "execution_count": 3,
     "metadata": {},
     "output_type": "execute_result"
    }
   ],
   "source": [
    "\n",
    "temp_var=sales_data['결제금액']\n",
    "temp_var"
   ]
  },
  {
   "cell_type": "code",
   "execution_count": 4,
   "id": "39c54207",
   "metadata": {},
   "outputs": [
    {
     "data": {
      "text/plain": [
       "2021-06    920\n",
       "2021-04    910\n",
       "2021-12    841\n",
       "2021-11    679\n",
       "2021-05    658\n",
       "2021-10    557\n",
       "2021-03    529\n",
       "2022-03    415\n",
       "2022-01    377\n",
       "2021-07    313\n",
       "2021-09    301\n",
       "2021-08    293\n",
       "2022-02    282\n",
       "2021-02     18\n",
       "2022-04     12\n",
       "Name: date, dtype: int64"
      ]
     },
     "execution_count": 4,
     "metadata": {},
     "output_type": "execute_result"
    }
   ],
   "source": [
    "sales_data['date'] = sales_data['결제일시'].str[:7]\n",
    "sales_data['date'].value_counts()"
   ]
  },
  {
   "cell_type": "code",
   "execution_count": 5,
   "id": "0368d1d1",
   "metadata": {},
   "outputs": [
    {
     "data": {
      "text/plain": [
       "0        4500\n",
       "1        5500\n",
       "2        4000\n",
       "3        1000\n",
       "4        5000\n",
       "        ...  \n",
       "7100    -3500\n",
       "7101     4500\n",
       "7102    -4500\n",
       "7103     4000\n",
       "7104    -4000\n",
       "Name: 결제금액, Length: 7105, dtype: object"
      ]
     },
     "execution_count": 5,
     "metadata": {},
     "output_type": "execute_result"
    }
   ],
   "source": [
    "sales_data['결제금액'].str.replace(',','')"
   ]
  },
  {
   "cell_type": "code",
   "execution_count": 6,
   "id": "ddf4ab78",
   "metadata": {},
   "outputs": [
    {
     "name": "stdout",
     "output_type": "stream",
     "text": [
      "<class 'pandas.core.frame.DataFrame'>\n",
      "RangeIndex: 7105 entries, 0 to 7104\n",
      "Data columns (total 10 columns):\n",
      " #   Column   Non-Null Count  Dtype \n",
      "---  ------   --------------  ----- \n",
      " 0   결제일시     7105 non-null   object\n",
      " 1   판매위치     7105 non-null   object\n",
      " 2   상품명      7105 non-null   object\n",
      " 3   결제방식     7105 non-null   object\n",
      " 4   비고       7105 non-null   object\n",
      " 5   판매수량     7105 non-null   int64 \n",
      " 6   결제금액     7105 non-null   object\n",
      " 7   고객       6300 non-null   object\n",
      " 8   date     7105 non-null   object\n",
      " 9   payment  7105 non-null   int64 \n",
      "dtypes: int64(2), object(8)\n",
      "memory usage: 555.2+ KB\n"
     ]
    }
   ],
   "source": [
    "temp_var=sales_data['결제금액'].str.replace(',','')\n",
    "pay=pd.to_numeric(temp_var)\n",
    "sales_data['payment'] = pay\n",
    "#sales_data.insert(7,'payment',pay)\n",
    "sales_data.info()"
   ]
  },
  {
   "cell_type": "code",
   "execution_count": 7,
   "id": "a665bfb1",
   "metadata": {},
   "outputs": [
    {
     "data": {
      "text/plain": [
       "date\n",
       "2021-02       7000\n",
       "2021-03    2104500\n",
       "2021-04    3116600\n",
       "2021-05    2537000\n",
       "2021-06    3621500\n",
       "2021-07    1215000\n",
       "2021-08    1229000\n",
       "2021-09    1197500\n",
       "2021-10    2138500\n",
       "2021-11    2748500\n",
       "2021-12    3290000\n",
       "2022-01    1430500\n",
       "2022-02    1181500\n",
       "2022-03    1870900\n",
       "2022-04      49900\n",
       "Name: payment, dtype: int64"
      ]
     },
     "execution_count": 7,
     "metadata": {},
     "output_type": "execute_result"
    }
   ],
   "source": [
    "temp_var=sales_data['payment'].groupby(sales_data['date']).sum()\n",
    "temp_var"
   ]
  },
  {
   "cell_type": "code",
   "execution_count": 8,
   "id": "d7de4727",
   "metadata": {},
   "outputs": [
    {
     "data": {
      "image/png": "[encoded data removed]",
      "text/plain": [
       "<Figure size 1080x576 with 1 Axes>"
      ]
     },
     "metadata": {
      "needs_background": "light"
     },
     "output_type": "display_data"
    }
   ],
   "source": [
    "ax = plt.subplots(figsize=(15, 8))  # 이 코드와 밑에 코드를 바꾸면 작은 오류가 생긴다 피규어가 액자에 안걸린다고 해야할까?\n",
    "ax = sns.barplot(data=temp_var.reset_index(), x='date', y='payment')"
   ]
  },
  {
   "cell_type": "code",
   "execution_count": 11,
   "id": "45f35879",
   "metadata": {},
   "outputs": [
    {
     "data": {
      "image/png": "[encoded data removed]",
      "text/plain": [
       "<Figure size 432x288 with 1 Axes>"
      ]
     },
     "metadata": {
      "needs_background": "light"
     },
     "output_type": "display_data"
    },
    {
     "data": {
      "image/png": "[encoded data removed]",
      "text/plain": [
       "<Figure size 1080x576 with 1 Axes>"
      ]
     },
     "metadata": {
      "needs_background": "light"
     },
     "output_type": "display_data"
    }
   ],
   "source": [
    "ax = sns.barplot(data=temp_var.reset_index(), x='date', y='payment')\n",
    "ax = plt.subplots(figsize=(15, 8)) "
   ]
  },
  {
   "cell_type": "code",
   "execution_count": 16,
   "id": "8279fd15",
   "metadata": {},
   "outputs": [
    {
     "data": {
      "text/plain": [
       "김치볶음밥         1204\n",
       "라면             749\n",
       "짜장라면           455\n",
       "치즈불고기볶음밥       420\n",
       "계란추가           314\n",
       "낙지볶음밥          312\n",
       "새우볶음밥          309\n",
       "아메리카노(ICE)     284\n",
       "치즈감자튀김         246\n",
       "감자튀김           242\n",
       "Name: 상품명, dtype: int64"
      ]
     },
     "execution_count": 16,
     "metadata": {},
     "output_type": "execute_result"
    }
   ],
   "source": [
    "temp_var=sales_data[sales_data['판매수량']==-1]\n",
    "temp_var.index\n",
    "temp_var=sales_data.drop(temp_var.index)\n",
    "temp_var_a=temp_var['상품명'].value_counts().sort_values(ascending=False).head(10)\n",
    "temp_var_a\n",
    "\n",
    "#sales_data.info() #판매수량 타입 확인\n",
    "#temp_var=sales_data[sales_data['판매수량']==1]\n",
    "#temp_var_a=temp_var['판매수량'].groupby(temp_var['상품명']).value_counts().sort_values(ascending=False).head(10)\n",
    "#temp_var_a"
   ]
  },
  {
   "cell_type": "code",
   "execution_count": 17,
   "id": "e105182a",
   "metadata": {},
   "outputs": [
    {
     "data": {
      "text/html": [
       "<div>\n",
       "<style scoped>\n",
       "    .dataframe tbody tr th:only-of-type {\n",
       "        vertical-align: middle;\n",
       "    }\n",
       "\n",
       "    .dataframe tbody tr th {\n",
       "        vertical-align: top;\n",
       "    }\n",
       "\n",
       "    .dataframe thead th {\n",
       "        text-align: right;\n",
       "    }\n",
       "</style>\n",
       "<table border=\"1\" class=\"dataframe\">\n",
       "  <thead>\n",
       "    <tr style=\"text-align: right;\">\n",
       "      <th></th>\n",
       "      <th>상품명</th>\n",
       "      <th>판매수량</th>\n",
       "    </tr>\n",
       "  </thead>\n",
       "  <tbody>\n",
       "    <tr>\n",
       "      <th>0</th>\n",
       "      <td>김치볶음밥</td>\n",
       "      <td>1204</td>\n",
       "    </tr>\n",
       "    <tr>\n",
       "      <th>1</th>\n",
       "      <td>라면</td>\n",
       "      <td>749</td>\n",
       "    </tr>\n",
       "    <tr>\n",
       "      <th>2</th>\n",
       "      <td>짜장라면</td>\n",
       "      <td>455</td>\n",
       "    </tr>\n",
       "    <tr>\n",
       "      <th>3</th>\n",
       "      <td>치즈불고기볶음밥</td>\n",
       "      <td>420</td>\n",
       "    </tr>\n",
       "    <tr>\n",
       "      <th>4</th>\n",
       "      <td>계란추가</td>\n",
       "      <td>314</td>\n",
       "    </tr>\n",
       "    <tr>\n",
       "      <th>5</th>\n",
       "      <td>낙지볶음밥</td>\n",
       "      <td>312</td>\n",
       "    </tr>\n",
       "    <tr>\n",
       "      <th>6</th>\n",
       "      <td>새우볶음밥</td>\n",
       "      <td>309</td>\n",
       "    </tr>\n",
       "    <tr>\n",
       "      <th>7</th>\n",
       "      <td>아메리카노(ICE)</td>\n",
       "      <td>284</td>\n",
       "    </tr>\n",
       "    <tr>\n",
       "      <th>8</th>\n",
       "      <td>치즈감자튀김</td>\n",
       "      <td>246</td>\n",
       "    </tr>\n",
       "    <tr>\n",
       "      <th>9</th>\n",
       "      <td>감자튀김</td>\n",
       "      <td>242</td>\n",
       "    </tr>\n",
       "  </tbody>\n",
       "</table>\n",
       "</div>"
      ],
      "text/plain": [
       "          상품명  판매수량\n",
       "0       김치볶음밥  1204\n",
       "1          라면   749\n",
       "2        짜장라면   455\n",
       "3    치즈불고기볶음밥   420\n",
       "4        계란추가   314\n",
       "5       낙지볶음밥   312\n",
       "6       새우볶음밥   309\n",
       "7  아메리카노(ICE)   284\n",
       "8      치즈감자튀김   246\n",
       "9        감자튀김   242"
      ]
     },
     "execution_count": 17,
     "metadata": {},
     "output_type": "execute_result"
    }
   ],
   "source": [
    "# 집계 결과를 데이터프레임으로 변환하고, 상위 10개 선정하기\n",
    "# [[YOUR CODE]]     인덱스에 상품명이 들어가 있었는데 그래서 그래프가 안그려져서 빼내는 과정을 추가하였다.\n",
    "df=temp_var_a.to_frame()\n",
    "df.rename(columns = {\"상품명\": \"판매수량\"},inplace=True)\n",
    "df.insert(0,'상품명',df.index)\n",
    "df.reset_index(drop=True, inplace=True)\n",
    "df"
   ]
  },
  {
   "cell_type": "code",
   "execution_count": 18,
   "id": "e66699c2",
   "metadata": {},
   "outputs": [
    {
     "name": "stdout",
     "output_type": "stream",
     "text": [
      "['NanumGothic']\n"
     ]
    }
   ],
   "source": [
    "# 한글이 포함된 시각화를 위해 Matplotlib 설정\n",
    "# [[YOUR CODE]] 폰트깨짐 방지\n",
    "plt.rc('font', family='NanumGothic')\n",
    "print(plt.rcParams['font.family'])"
   ]
  },
  {
   "cell_type": "code",
   "execution_count": 19,
   "id": "8fa60936",
   "metadata": {},
   "outputs": [
    {
     "data": {
      "text/plain": [
       "<AxesSubplot:xlabel='상품명'>"
      ]
     },
     "execution_count": 19,
     "metadata": {},
     "output_type": "execute_result"
    },
    {
     "data": {
      "image/png": "[encoded data removed]",
      "text/plain": [
       "<Figure size 432x288 with 1 Axes>"
      ]
     },
     "metadata": {
      "needs_background": "light"
     },
     "output_type": "display_data"
    }
   ],
   "source": [
    "df.plot.bar(x='상품명',y='판매수량')"
   ]
  },
  {
   "cell_type": "code",
   "execution_count": 20,
   "id": "4662c28c",
   "metadata": {},
   "outputs": [
    {
     "data": {
      "text/plain": [
       "상품명\n",
       "김치볶음밥         5971900\n",
       "라면            2916000\n",
       "치즈불고기볶음밥      2276100\n",
       "짜장라면          2032500\n",
       "낙지볶음밥         1699700\n",
       "새우볶음밥         1529800\n",
       "치즈감자튀김        1348700\n",
       "감자튀김          1083800\n",
       "아메리카노(ICE)     936100\n",
       "불닭볶음면          688500\n",
       "Name: payment, dtype: int64"
      ]
     },
     "execution_count": 20,
     "metadata": {},
     "output_type": "execute_result"
    }
   ],
   "source": [
    "temp_var=sales_data['payment'].groupby(sales_data['상품명']).sum().sort_values(ascending=False).head(10)\n",
    "temp_var #매출의 총합이므로 결국 결제 취소 된것도 따져야 한다고 판단 하였기 때문에, sum() 사용함."
   ]
  },
  {
   "cell_type": "code",
   "execution_count": 21,
   "id": "e6fdb60c",
   "metadata": {},
   "outputs": [
    {
     "data": {
      "text/html": [
       "<div>\n",
       "<style scoped>\n",
       "    .dataframe tbody tr th:only-of-type {\n",
       "        vertical-align: middle;\n",
       "    }\n",
       "\n",
       "    .dataframe tbody tr th {\n",
       "        vertical-align: top;\n",
       "    }\n",
       "\n",
       "    .dataframe thead th {\n",
       "        text-align: right;\n",
       "    }\n",
       "</style>\n",
       "<table border=\"1\" class=\"dataframe\">\n",
       "  <thead>\n",
       "    <tr style=\"text-align: right;\">\n",
       "      <th></th>\n",
       "      <th>상품명</th>\n",
       "      <th>매출</th>\n",
       "    </tr>\n",
       "  </thead>\n",
       "  <tbody>\n",
       "    <tr>\n",
       "      <th>0</th>\n",
       "      <td>김치볶음밥</td>\n",
       "      <td>5971900</td>\n",
       "    </tr>\n",
       "    <tr>\n",
       "      <th>1</th>\n",
       "      <td>라면</td>\n",
       "      <td>2916000</td>\n",
       "    </tr>\n",
       "    <tr>\n",
       "      <th>2</th>\n",
       "      <td>치즈불고기볶음밥</td>\n",
       "      <td>2276100</td>\n",
       "    </tr>\n",
       "    <tr>\n",
       "      <th>3</th>\n",
       "      <td>짜장라면</td>\n",
       "      <td>2032500</td>\n",
       "    </tr>\n",
       "    <tr>\n",
       "      <th>4</th>\n",
       "      <td>낙지볶음밥</td>\n",
       "      <td>1699700</td>\n",
       "    </tr>\n",
       "    <tr>\n",
       "      <th>5</th>\n",
       "      <td>새우볶음밥</td>\n",
       "      <td>1529800</td>\n",
       "    </tr>\n",
       "    <tr>\n",
       "      <th>6</th>\n",
       "      <td>치즈감자튀김</td>\n",
       "      <td>1348700</td>\n",
       "    </tr>\n",
       "    <tr>\n",
       "      <th>7</th>\n",
       "      <td>감자튀김</td>\n",
       "      <td>1083800</td>\n",
       "    </tr>\n",
       "    <tr>\n",
       "      <th>8</th>\n",
       "      <td>아메리카노(ICE)</td>\n",
       "      <td>936100</td>\n",
       "    </tr>\n",
       "    <tr>\n",
       "      <th>9</th>\n",
       "      <td>불닭볶음면</td>\n",
       "      <td>688500</td>\n",
       "    </tr>\n",
       "  </tbody>\n",
       "</table>\n",
       "</div>"
      ],
      "text/plain": [
       "          상품명       매출\n",
       "0       김치볶음밥  5971900\n",
       "1          라면  2916000\n",
       "2    치즈불고기볶음밥  2276100\n",
       "3        짜장라면  2032500\n",
       "4       낙지볶음밥  1699700\n",
       "5       새우볶음밥  1529800\n",
       "6      치즈감자튀김  1348700\n",
       "7        감자튀김  1083800\n",
       "8  아메리카노(ICE)   936100\n",
       "9       불닭볶음면   688500"
      ]
     },
     "execution_count": 21,
     "metadata": {},
     "output_type": "execute_result"
    }
   ],
   "source": [
    "df2=pd.DataFrame(temp_var)\n",
    "df2.rename(columns = {\"payment\": \"매출\"}, inplace=True)\n",
    "df2.insert(0,'상품명',df2.index)\n",
    "df2.reset_index(drop=True, inplace=True)\n",
    "df2"
   ]
  },
  {
   "cell_type": "code",
   "execution_count": 22,
   "id": "d5dffc69",
   "metadata": {},
   "outputs": [
    {
     "data": {
      "text/plain": [
       "<AxesSubplot:xlabel='상품명'>"
      ]
     },
     "execution_count": 22,
     "metadata": {},
     "output_type": "execute_result"
    },
    {
     "data": {
      "image/png": "[encoded data removed]",
      "text/plain": [
       "<Figure size 432x288 with 1 Axes>"
      ]
     },
     "metadata": {
      "needs_background": "light"
     },
     "output_type": "display_data"
    }
   ],
   "source": [
    "df2.plot.bar(x='상품명',y='매출')"
   ]
  },
  {
   "cell_type": "code",
   "execution_count": 24,
   "id": "86b92d87",
   "metadata": {},
   "outputs": [
    {
     "data": {
      "text/plain": [
       "요금제명\n",
       "한국대생 입장권(종일권)      70037000\n",
       "입장권(종일권)           23570500\n",
       "심야-조조무제한(06시까지)    11600000\n",
       "심야-조조무제한            6221000\n",
       "한국대생 무제한 입장권        5207500\n",
       "시간요금제(1시간)          2665500\n",
       "시간요금제(3시간)          2042000\n",
       "무제한 입장권             1568600\n",
       "18시이후 무제한           1330500\n",
       "조조무제한                693000\n",
       "Name: 금액, dtype: int64"
      ]
     },
     "execution_count": 24,
     "metadata": {},
     "output_type": "execute_result"
    }
   ],
   "source": [
    "# 활용할 데이터(entry_data)를 temp_var로 정의하기\n",
    "# temp_var의 금액을 숫자형태로 변환하기\n",
    "# temp_var의 금액을 요금제명을 기준으로 집계하기\n",
    "# tickets의 값을 내림차순으로 정렬하고 상위 10개 도출하기\n",
    "# [[YOUR CODE]]\n",
    "temp_var=entry_data['금액'].groupby(entry_data['요금제명']).sum().sort_values(ascending=False).head(10)\n",
    "temp_var"
   ]
  },
  {
   "cell_type": "code",
   "execution_count": 27,
   "id": "52d6a7fc",
   "metadata": {},
   "outputs": [
    {
     "data": {
      "text/html": [
       "<div>\n",
       "<style scoped>\n",
       "    .dataframe tbody tr th:only-of-type {\n",
       "        vertical-align: middle;\n",
       "    }\n",
       "\n",
       "    .dataframe tbody tr th {\n",
       "        vertical-align: top;\n",
       "    }\n",
       "\n",
       "    .dataframe thead th {\n",
       "        text-align: right;\n",
       "    }\n",
       "</style>\n",
       "<table border=\"1\" class=\"dataframe\">\n",
       "  <thead>\n",
       "    <tr style=\"text-align: right;\">\n",
       "      <th></th>\n",
       "      <th>요금제명</th>\n",
       "      <th>매출</th>\n",
       "    </tr>\n",
       "  </thead>\n",
       "  <tbody>\n",
       "    <tr>\n",
       "      <th>0</th>\n",
       "      <td>한국대생 입장권(종일권)</td>\n",
       "      <td>70037000</td>\n",
       "    </tr>\n",
       "    <tr>\n",
       "      <th>1</th>\n",
       "      <td>입장권(종일권)</td>\n",
       "      <td>23570500</td>\n",
       "    </tr>\n",
       "    <tr>\n",
       "      <th>2</th>\n",
       "      <td>심야-조조무제한(06시까지)</td>\n",
       "      <td>11600000</td>\n",
       "    </tr>\n",
       "    <tr>\n",
       "      <th>3</th>\n",
       "      <td>심야-조조무제한</td>\n",
       "      <td>6221000</td>\n",
       "    </tr>\n",
       "    <tr>\n",
       "      <th>4</th>\n",
       "      <td>한국대생 무제한 입장권</td>\n",
       "      <td>5207500</td>\n",
       "    </tr>\n",
       "    <tr>\n",
       "      <th>5</th>\n",
       "      <td>시간요금제(1시간)</td>\n",
       "      <td>2665500</td>\n",
       "    </tr>\n",
       "    <tr>\n",
       "      <th>6</th>\n",
       "      <td>시간요금제(3시간)</td>\n",
       "      <td>2042000</td>\n",
       "    </tr>\n",
       "    <tr>\n",
       "      <th>7</th>\n",
       "      <td>무제한 입장권</td>\n",
       "      <td>1568600</td>\n",
       "    </tr>\n",
       "    <tr>\n",
       "      <th>8</th>\n",
       "      <td>18시이후 무제한</td>\n",
       "      <td>1330500</td>\n",
       "    </tr>\n",
       "    <tr>\n",
       "      <th>9</th>\n",
       "      <td>조조무제한</td>\n",
       "      <td>693000</td>\n",
       "    </tr>\n",
       "  </tbody>\n",
       "</table>\n",
       "</div>"
      ],
      "text/plain": [
       "              요금제명        매출\n",
       "0    한국대생 입장권(종일권)  70037000\n",
       "1         입장권(종일권)  23570500\n",
       "2  심야-조조무제한(06시까지)  11600000\n",
       "3         심야-조조무제한   6221000\n",
       "4     한국대생 무제한 입장권   5207500\n",
       "5       시간요금제(1시간)   2665500\n",
       "6       시간요금제(3시간)   2042000\n",
       "7          무제한 입장권   1568600\n",
       "8        18시이후 무제한   1330500\n",
       "9            조조무제한    693000"
      ]
     },
     "execution_count": 27,
     "metadata": {},
     "output_type": "execute_result"
    }
   ],
   "source": [
    "# 집계 결과 시각화하기\n",
    "df3=pd.DataFrame(temp_var)\n",
    "df3.rename(columns={'금액':'매출'},inplace=True)\n",
    "df3.insert(0,'요금제명',df3.index)\n",
    "df3.reset_index(drop=True,inplace=True)\n",
    "df3"
   ]
  },
  {
   "cell_type": "code",
   "execution_count": 28,
   "id": "12423b7c",
   "metadata": {},
   "outputs": [
    {
     "data": {
      "text/plain": [
       "<AxesSubplot:xlabel='요금제명'>"
      ]
     },
     "execution_count": 28,
     "metadata": {},
     "output_type": "execute_result"
    },
    {
     "data": {
      "image/png": "[encoded data removed]",
      "text/plain": [
       "<Figure size 432x288 with 1 Axes>"
      ]
     },
     "metadata": {
      "needs_background": "light"
     },
     "output_type": "display_data"
    }
   ],
   "source": [
    "df3.plot.bar(x='요금제명',y='매출')"
   ]
  },
  {
   "cell_type": "code",
   "execution_count": 31,
   "id": "2086c3fc",
   "metadata": {},
   "outputs": [
    {
     "data": {
      "text/html": [
       "<div>\n",
       "<style scoped>\n",
       "    .dataframe tbody tr th:only-of-type {\n",
       "        vertical-align: middle;\n",
       "    }\n",
       "\n",
       "    .dataframe tbody tr th {\n",
       "        vertical-align: top;\n",
       "    }\n",
       "\n",
       "    .dataframe thead th {\n",
       "        text-align: right;\n",
       "    }\n",
       "</style>\n",
       "<table border=\"1\" class=\"dataframe\">\n",
       "  <thead>\n",
       "    <tr style=\"text-align: right;\">\n",
       "      <th></th>\n",
       "      <th>상품명</th>\n",
       "      <th>판매량</th>\n",
       "    </tr>\n",
       "  </thead>\n",
       "  <tbody>\n",
       "    <tr>\n",
       "      <th>0</th>\n",
       "      <td>김치볶음밥</td>\n",
       "      <td>1211</td>\n",
       "    </tr>\n",
       "    <tr>\n",
       "      <th>1</th>\n",
       "      <td>라면</td>\n",
       "      <td>756</td>\n",
       "    </tr>\n",
       "    <tr>\n",
       "      <th>2</th>\n",
       "      <td>짜장라면</td>\n",
       "      <td>457</td>\n",
       "    </tr>\n",
       "    <tr>\n",
       "      <th>3</th>\n",
       "      <td>치즈불고기볶음밥</td>\n",
       "      <td>423</td>\n",
       "    </tr>\n",
       "    <tr>\n",
       "      <th>4</th>\n",
       "      <td>계란추가</td>\n",
       "      <td>315</td>\n",
       "    </tr>\n",
       "    <tr>\n",
       "      <th>5</th>\n",
       "      <td>아메리카노(ICE)</td>\n",
       "      <td>314</td>\n",
       "    </tr>\n",
       "    <tr>\n",
       "      <th>6</th>\n",
       "      <td>낙지볶음밥</td>\n",
       "      <td>314</td>\n",
       "    </tr>\n",
       "    <tr>\n",
       "      <th>7</th>\n",
       "      <td>새우볶음밥</td>\n",
       "      <td>311</td>\n",
       "    </tr>\n",
       "    <tr>\n",
       "      <th>8</th>\n",
       "      <td>치즈감자튀김</td>\n",
       "      <td>247</td>\n",
       "    </tr>\n",
       "    <tr>\n",
       "      <th>9</th>\n",
       "      <td>감자튀김</td>\n",
       "      <td>242</td>\n",
       "    </tr>\n",
       "    <tr>\n",
       "      <th>10</th>\n",
       "      <td>치즈추가</td>\n",
       "      <td>183</td>\n",
       "    </tr>\n",
       "    <tr>\n",
       "      <th>11</th>\n",
       "      <td>초코머핀</td>\n",
       "      <td>170</td>\n",
       "    </tr>\n",
       "    <tr>\n",
       "      <th>12</th>\n",
       "      <td>불닭볶음면</td>\n",
       "      <td>155</td>\n",
       "    </tr>\n",
       "    <tr>\n",
       "      <th>13</th>\n",
       "      <td>아이스티</td>\n",
       "      <td>139</td>\n",
       "    </tr>\n",
       "    <tr>\n",
       "      <th>14</th>\n",
       "      <td>만두라면</td>\n",
       "      <td>139</td>\n",
       "    </tr>\n",
       "    <tr>\n",
       "      <th>15</th>\n",
       "      <td>쿠키(초코칩)</td>\n",
       "      <td>118</td>\n",
       "    </tr>\n",
       "    <tr>\n",
       "      <th>16</th>\n",
       "      <td>2인라면</td>\n",
       "      <td>99</td>\n",
       "    </tr>\n",
       "    <tr>\n",
       "      <th>17</th>\n",
       "      <td>쿠키(마카다미아)</td>\n",
       "      <td>73</td>\n",
       "    </tr>\n",
       "    <tr>\n",
       "      <th>18</th>\n",
       "      <td>미니마카롱(3개)</td>\n",
       "      <td>70</td>\n",
       "    </tr>\n",
       "    <tr>\n",
       "      <th>19</th>\n",
       "      <td>치즈케이크</td>\n",
       "      <td>70</td>\n",
       "    </tr>\n",
       "    <tr>\n",
       "      <th>20</th>\n",
       "      <td>아메리카노(HOT)</td>\n",
       "      <td>62</td>\n",
       "    </tr>\n",
       "    <tr>\n",
       "      <th>21</th>\n",
       "      <td>샷추가</td>\n",
       "      <td>58</td>\n",
       "    </tr>\n",
       "    <tr>\n",
       "      <th>22</th>\n",
       "      <td>레몬에이드</td>\n",
       "      <td>58</td>\n",
       "    </tr>\n",
       "    <tr>\n",
       "      <th>23</th>\n",
       "      <td>초코라떼(ICE)</td>\n",
       "      <td>56</td>\n",
       "    </tr>\n",
       "    <tr>\n",
       "      <th>24</th>\n",
       "      <td>카페모카(ICE)</td>\n",
       "      <td>54</td>\n",
       "    </tr>\n",
       "    <tr>\n",
       "      <th>25</th>\n",
       "      <td>블루베리머핀</td>\n",
       "      <td>54</td>\n",
       "    </tr>\n",
       "    <tr>\n",
       "      <th>26</th>\n",
       "      <td>소떡소떡</td>\n",
       "      <td>51</td>\n",
       "    </tr>\n",
       "    <tr>\n",
       "      <th>27</th>\n",
       "      <td>쿠키(오트밀)</td>\n",
       "      <td>45</td>\n",
       "    </tr>\n",
       "    <tr>\n",
       "      <th>28</th>\n",
       "      <td>청귤에이드</td>\n",
       "      <td>38</td>\n",
       "    </tr>\n",
       "    <tr>\n",
       "      <th>29</th>\n",
       "      <td>자몽에이드</td>\n",
       "      <td>36</td>\n",
       "    </tr>\n",
       "    <tr>\n",
       "      <th>30</th>\n",
       "      <td>청귤차(ICE)</td>\n",
       "      <td>27</td>\n",
       "    </tr>\n",
       "    <tr>\n",
       "      <th>31</th>\n",
       "      <td>바닐라라떼(ICE)</td>\n",
       "      <td>26</td>\n",
       "    </tr>\n",
       "    <tr>\n",
       "      <th>32</th>\n",
       "      <td>청귤차(HOT)</td>\n",
       "      <td>26</td>\n",
       "    </tr>\n",
       "    <tr>\n",
       "      <th>33</th>\n",
       "      <td>2인짜장라면</td>\n",
       "      <td>25</td>\n",
       "    </tr>\n",
       "    <tr>\n",
       "      <th>34</th>\n",
       "      <td>카페라떼(HOT)</td>\n",
       "      <td>23</td>\n",
       "    </tr>\n",
       "    <tr>\n",
       "      <th>35</th>\n",
       "      <td>허니밀크쉐이크</td>\n",
       "      <td>22</td>\n",
       "    </tr>\n",
       "    <tr>\n",
       "      <th>36</th>\n",
       "      <td>(면)치즈추가</td>\n",
       "      <td>21</td>\n",
       "    </tr>\n",
       "    <tr>\n",
       "      <th>37</th>\n",
       "      <td>블루베리스무디</td>\n",
       "      <td>20</td>\n",
       "    </tr>\n",
       "    <tr>\n",
       "      <th>38</th>\n",
       "      <td>카페라떼(ICE)</td>\n",
       "      <td>20</td>\n",
       "    </tr>\n",
       "    <tr>\n",
       "      <th>39</th>\n",
       "      <td>치킨카라아케 6pc</td>\n",
       "      <td>20</td>\n",
       "    </tr>\n",
       "    <tr>\n",
       "      <th>40</th>\n",
       "      <td>(면)계란후라이 추가-불닭/짜장</td>\n",
       "      <td>20</td>\n",
       "    </tr>\n",
       "    <tr>\n",
       "      <th>41</th>\n",
       "      <td>쿠앤크쉐이크</td>\n",
       "      <td>19</td>\n",
       "    </tr>\n",
       "    <tr>\n",
       "      <th>42</th>\n",
       "      <td>맵단대패삼겹덮밥</td>\n",
       "      <td>19</td>\n",
       "    </tr>\n",
       "    <tr>\n",
       "      <th>43</th>\n",
       "      <td>크로플</td>\n",
       "      <td>19</td>\n",
       "    </tr>\n",
       "    <tr>\n",
       "      <th>44</th>\n",
       "      <td>플레인요거트스무디</td>\n",
       "      <td>19</td>\n",
       "    </tr>\n",
       "    <tr>\n",
       "      <th>45</th>\n",
       "      <td>바닐라라떼(HOT)</td>\n",
       "      <td>18</td>\n",
       "    </tr>\n",
       "    <tr>\n",
       "      <th>46</th>\n",
       "      <td>딸기스무디</td>\n",
       "      <td>18</td>\n",
       "    </tr>\n",
       "    <tr>\n",
       "      <th>47</th>\n",
       "      <td>한돈고추장불고기덮밥</td>\n",
       "      <td>17</td>\n",
       "    </tr>\n",
       "    <tr>\n",
       "      <th>48</th>\n",
       "      <td>단짠대패삼겹덮밥</td>\n",
       "      <td>17</td>\n",
       "    </tr>\n",
       "    <tr>\n",
       "      <th>49</th>\n",
       "      <td>초코쉐이크</td>\n",
       "      <td>17</td>\n",
       "    </tr>\n",
       "  </tbody>\n",
       "</table>\n",
       "</div>"
      ],
      "text/plain": [
       "                  상품명   판매량\n",
       "0               김치볶음밥  1211\n",
       "1                  라면   756\n",
       "2                짜장라면   457\n",
       "3            치즈불고기볶음밥   423\n",
       "4                계란추가   315\n",
       "5          아메리카노(ICE)   314\n",
       "6               낙지볶음밥   314\n",
       "7               새우볶음밥   311\n",
       "8              치즈감자튀김   247\n",
       "9                감자튀김   242\n",
       "10               치즈추가   183\n",
       "11               초코머핀   170\n",
       "12              불닭볶음면   155\n",
       "13               아이스티   139\n",
       "14               만두라면   139\n",
       "15            쿠키(초코칩)   118\n",
       "16               2인라면    99\n",
       "17          쿠키(마카다미아)    73\n",
       "18          미니마카롱(3개)    70\n",
       "19              치즈케이크    70\n",
       "20         아메리카노(HOT)    62\n",
       "21                샷추가    58\n",
       "22              레몬에이드    58\n",
       "23          초코라떼(ICE)    56\n",
       "24          카페모카(ICE)    54\n",
       "25             블루베리머핀    54\n",
       "26               소떡소떡    51\n",
       "27            쿠키(오트밀)    45\n",
       "28              청귤에이드    38\n",
       "29              자몽에이드    36\n",
       "30           청귤차(ICE)    27\n",
       "31         바닐라라떼(ICE)    26\n",
       "32           청귤차(HOT)    26\n",
       "33             2인짜장라면    25\n",
       "34          카페라떼(HOT)    23\n",
       "35            허니밀크쉐이크    22\n",
       "36            (면)치즈추가    21\n",
       "37            블루베리스무디    20\n",
       "38          카페라떼(ICE)    20\n",
       "39         치킨카라아케 6pc    20\n",
       "40  (면)계란후라이 추가-불닭/짜장    20\n",
       "41             쿠앤크쉐이크    19\n",
       "42           맵단대패삼겹덮밥    19\n",
       "43                크로플    19\n",
       "44          플레인요거트스무디    19\n",
       "45         바닐라라떼(HOT)    18\n",
       "46              딸기스무디    18\n",
       "47         한돈고추장불고기덮밥    17\n",
       "48           단짠대패삼겹덮밥    17\n",
       "49              초코쉐이크    17"
      ]
     },
     "execution_count": 31,
     "metadata": {},
     "output_type": "execute_result"
    }
   ],
   "source": [
    "# 내 Key Question을 중심으로 다양한 분석을 진행해봅시다.\n",
    "# [[YOUR CODE]]\n",
    "\n",
    "#메뉴가 너무 다양함, 줄일 필요가 있어보임. 50%\n",
    "#내가 전문가는 아니라 정확히는 모르겠지만, 굳이 판매량이 낮은 아이템을 가지고 있을 필요는 없어보임.\n",
    "temp_var=sales_data[\"상품명\"].value_counts(ascending=True).head(50) \n",
    "#확인해본 결과 50개 정도의 메뉴는 1~16개의 저조한 판매량을 기록중\n",
    "temp_var=sales_data[\"상품명\"].value_counts(ascending=False).head(50)\n",
    "df4=pd.DataFrame(temp_var)\n",
    "df4.rename(columns={'상품명':'판매량'},inplace=True)\n",
    "df4.insert(0,'상품명',df4.index)\n",
    "df4.reset_index(drop=True,inplace=True)\n",
    "df4\n"
   ]
  },
  {
   "cell_type": "code",
   "execution_count": 30,
   "id": "377ffc51",
   "metadata": {},
   "outputs": [
    {
     "data": {
      "text/plain": [
       "\"\\n- 회고**(필수)**\\n    \\n    회고에는 다음과 같은 것들이 포함됩니다.\\n    \\n    - 프로젝트에서 **어려웠던 점, 해결을 위해 시도한 방법, \\n    문제해결에 성공한 이유 또는 실패한 이유**\\n    - 프로젝트를 진행하면서 **알아낸 점** 혹은 **아직 모호한 점**\\n    - 루브릭 평가 지표를 맞추기 위해 **시도한 내용**\\n    - 만약에 루브릭 평가 관련 지표를 **달성 하지 못했을 때 이유에 관한 설명**\\n    - **자기 다짐, 프로젝트를 진행하면서 느낀점**\\n        - 회고는 여러분이 프로젝트를 카피만 하지 않고, 학습을 했다는 중요한 지표가 됩니다.\\n        \\ntemp_var_a=temp_var['상품명'].value_counts().sort_values(ascending=False).head(10)\\n이 부분이 제일 어려웠다고 할 수 있을 것 같다. 생각을 잘못해서\\ntemp_var_a=temp_var['판매개수'].groupby([temp_var[상품명]]).value_counts().sort_values(ascending=False).head(10)\\n이런식으로 해서 계속 판매개수 1이 딸려 왔고 그거를 고치느라 꽤 오랜 시간이 걸렸었다.\\n그래도 한 번 이해하고 나니까 그 다음부터는 큰 어려움은 없었다.\\n\\n\\n아직 시각화 하는 부분이 어렵다고 할 수 있을 것 같다.\\n구글링 하면서 어떻게든 사용은 하고는 있지만 응용을 한다거나 하는 부분은 조금은 미숙하다.\\n\\n데이터프레임의 구조에 대해 조금은 더 자세히 알게 된 것 같고,\\n꼭 코드에 정해진 길만 있는 것은 아니라는 것도 다시 한 번 느꼈다.\\n\\n\\n\""
      ]
     },
     "execution_count": 30,
     "metadata": {},
     "output_type": "execute_result"
    }
   ],
   "source": [
    "'''\n",
    "- 회고**(필수)**\n",
    "    \n",
    "    회고에는 다음과 같은 것들이 포함됩니다.\n",
    "    \n",
    "    - 프로젝트에서 **어려웠던 점, 해결을 위해 시도한 방법, \n",
    "    문제해결에 성공한 이유 또는 실패한 이유**\n",
    "    - 프로젝트를 진행하면서 **알아낸 점** 혹은 **아직 모호한 점**\n",
    "    - 루브릭 평가 지표를 맞추기 위해 **시도한 내용**\n",
    "    - 만약에 루브릭 평가 관련 지표를 **달성 하지 못했을 때 이유에 관한 설명**\n",
    "    - **자기 다짐, 프로젝트를 진행하면서 느낀점**\n",
    "        - 회고는 여러분이 프로젝트를 카피만 하지 않고, 학습을 했다는 중요한 지표가 됩니다.\n",
    "        \n",
    "temp_var_a=temp_var['상품명'].value_counts().sort_values(ascending=False).head(10)\n",
    "이 부분이 제일 어려웠다고 할 수 있을 것 같다. 생각을 잘못해서\n",
    "temp_var_a=temp_var['판매개수'].groupby([temp_var[상품명]]).value_counts().sort_values(ascending=False).head(10)\n",
    "이런식으로 해서 계속 판매개수 1이 딸려 왔고 그거를 고치느라 꽤 오랜 시간이 걸렸었다.\n",
    "그래도 한 번 이해하고 나니까 그 다음부터는 큰 어려움은 없었다.\n",
    "\n",
    "\n",
    "아직 시각화 하는 부분이 어렵다고 할 수 있을 것 같다.\n",
    "구글링 하면서 어떻게든 사용은 하고는 있지만 응용을 한다거나 하는 부분은 조금은 미숙하다.\n",
    "\n",
    "데이터프레임의 구조에 대해 조금은 더 자세히 알게 된 것 같고,\n",
    "꼭 코드에 정해진 길만 있는 것은 아니라는 것도 다시 한 번 느꼈다.\n",
    "'''"
   ]
  }
 ],
 "metadata": {
  "kernelspec": {
   "display_name": "Python 3 (ipykernel)",
   "language": "python",
   "name": "python3"
  },
  "language_info": {
   "codemirror_mode": {
    "name": "ipython",
    "version": 3
   },
   "file_extension": ".py",
   "mimetype": "text/x-python",
   "name": "python",
   "nbconvert_exporter": "python",
   "pygments_lexer": "ipython3",
   "version": "3.9.7"
  }
 },
 "nbformat": 4,
 "nbformat_minor": 5
}
